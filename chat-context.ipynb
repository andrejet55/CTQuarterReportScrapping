{
 "cells": [
  {
   "cell_type": "code",
   "execution_count": 3,
   "metadata": {},
   "outputs": [
    {
     "name": "stdout",
     "output_type": "stream",
     "text": [
      "Fixed Context Created!\n",
      "consolidated comparable sale 15 sportchek grew first quarter since q2 2023 partially offset decline canadian tire retail ctr mark ctr comparable sales1 22 compared q3 2023 customer continued prioritize essential category including automotive continued perform well strong quarter q3 2023 led growth automotive service sportchek comparable sales1 29 marking two consecutive quarter sportchek outperformed industry trend targeted promotional event improved customer experience continued focus contribut\n"
     ]
    }
   ],
   "source": [
    "import json\n",
    "\n",
    "import json\n",
    "\n",
    "def merge_contexts(train_file, test_file):\n",
    "    # Load training and testing data\n",
    "    with open(train_file, \"r\") as train_json:\n",
    "        train_data = json.load(train_json)\n",
    "    with open(test_file, \"r\") as test_json:\n",
    "        test_data = json.load(test_json)\n",
    "\n",
    "    # Extract contexts\n",
    "    def extract_contexts(data):\n",
    "        contexts = []\n",
    "        for item in data:\n",
    "            if \"context\" in item:\n",
    "                contexts.append(item[\"context\"])\n",
    "        return contexts\n",
    "\n",
    "    # Get contexts from both train and test files\n",
    "    train_contexts = extract_contexts(train_data)\n",
    "    test_contexts = extract_contexts(test_data)\n",
    "\n",
    "    # Merge contexts into a single string\n",
    "    merged_context = \" \".join(train_contexts + test_contexts)\n",
    "\n",
    "    # Export the merged context to a text file\n",
    "    with open(output_file, \"w\") as output_txt:\n",
    "        output_txt.write(merged_context)\n",
    "\n",
    "    return merged_context\n",
    "\n",
    "\n",
    "train_file = \"train.json\"  \n",
    "test_file = \"test.json\"   \n",
    "output_file = \"fixed_context.txt\"\n",
    "\n",
    "try:\n",
    "    fixed_context = merge_contexts(train_file, test_file)\n",
    "    print(\"Fixed Context Created!\")\n",
    "    print(fixed_context[:500])  \n",
    "except ValueError as e:\n",
    "    print(f\"Error: {e}\")\n"
   ]
  }
 ],
 "metadata": {
  "kernelspec": {
   "display_name": "base",
   "language": "python",
   "name": "python3"
  },
  "language_info": {
   "codemirror_mode": {
    "name": "ipython",
    "version": 3
   },
   "file_extension": ".py",
   "mimetype": "text/x-python",
   "name": "python",
   "nbconvert_exporter": "python",
   "pygments_lexer": "ipython3",
   "version": "3.12.2"
  }
 },
 "nbformat": 4,
 "nbformat_minor": 2
}
