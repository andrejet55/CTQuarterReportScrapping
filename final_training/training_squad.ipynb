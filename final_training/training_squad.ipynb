{
  "cells": [
    {
      "cell_type": "markdown",
      "metadata": {
        "id": "lHyJGHiAB58g"
      },
      "source": [
        "# Training"
      ]
    },
    {
      "cell_type": "markdown",
      "metadata": {
        "id": "_Mk2SBAEB73H"
      },
      "source": [
        "## Load data"
      ]
    },
    {
      "cell_type": "code",
      "source": [
        "from google.colab import drive\n",
        "drive.mount('/content/drive')"
      ],
      "metadata": {
        "colab": {
          "base_uri": "https://localhost:8080/"
        },
        "id": "Wa4ztcVN6VCk",
        "outputId": "5573296c-eb79-4e92-8c77-c82cc8d02d3d"
      },
      "execution_count": 4,
      "outputs": [
        {
          "output_type": "stream",
          "name": "stdout",
          "text": [
            "Mounted at /content/drive\n"
          ]
        }
      ]
    },
    {
      "cell_type": "code",
      "execution_count": 57,
      "metadata": {
        "id": "3C312mCCNyfO"
      },
      "outputs": [],
      "source": [
        "import json\n",
        "\n",
        "root_path = \"/content/drive/MyDrive/CanadianTireChatbot/data\"\n",
        "train_path = f\"{root_path}/processed_train_fixed.json\"\n",
        "#train_path = f\"processed_train_fixed.json\"\n",
        "test_path = f\"{root_path}/processed_test.json\"\n",
        "\n",
        "# Load the JSON file\n",
        "with open(train_path, 'r') as f:\n",
        "    dataset = json.load(f)"
      ]
    },
    {
      "cell_type": "code",
      "source": [
        "# load test JSON file\n",
        "with open(test_path, 'r') as f:\n",
        "    test_dataset = json.load(f)"
      ],
      "metadata": {
        "id": "1FB0jSih99ku"
      },
      "execution_count": 58,
      "outputs": []
    },
    {
      "cell_type": "code",
      "execution_count": 6,
      "metadata": {
        "colab": {
          "base_uri": "https://localhost:8080/"
        },
        "id": "GTms0jYvB_aK",
        "outputId": "89b610c2-bd4b-476c-fe19-05f9c423ebdc"
      },
      "outputs": [
        {
          "output_type": "stream",
          "name": "stdout",
          "text": [
            "[{'context': 'Consolidated revenue was $4,192.9 million, down 1.4% compared to the same period last year. Revenue excluding Petroleum was $3,639.8 million, a decrease of 0.4%.', 'question': 'What was the consolidated revenue for Canadian Tire in Q3 2024?', 'answers': [{'text': '$4,192.9 million', 'answer_start': 25, 'answer_end': 41}]}, {'context': 'Consolidated revenue was $4,192.9 million, down 1.4% compared to the same period last year. Revenue excluding Petroleum was $3,639.8 million, a decrease of 0.4%.', 'question': 'How much was the revenue excluding Petroleum in Q3 2024?', 'answers': [{'text': '$3,639.8 million', 'answer_start': 124, 'answer_end': 140}]}]\n"
          ]
        }
      ],
      "source": [
        "# Inspect the data\n",
        "print(dataset[:2])  # Print the first two entries"
      ]
    },
    {
      "cell_type": "markdown",
      "metadata": {
        "id": "ucjSPva9Ahti"
      },
      "source": [
        "## Set retriever\n",
        "As the user only makes a question we need to implement a retrieval to get the most appropiate context from our database:"
      ]
    },
    {
      "cell_type": "code",
      "execution_count": 7,
      "metadata": {
        "id": "8AeSFDa0AwSC"
      },
      "outputs": [],
      "source": [
        "from sklearn.feature_extraction.text import TfidfVectorizer\n",
        "import numpy as np\n",
        "\n",
        "# Combine all contexts from the dataset\n",
        "contexts = [entry['context'] for entry in dataset]\n",
        "\n",
        "# Create a TF-IDF vectorizer\n",
        "vectorizer = TfidfVectorizer(stop_words='english')\n",
        "context_matrix = vectorizer.fit_transform(contexts)\n",
        "\n",
        "def retrieve_context(question, vectorizer, context_matrix, contexts, top_n=1):\n",
        "    # Transform the question into the same vector space\n",
        "    question_vec = vectorizer.transform([question])\n",
        "\n",
        "    # Compute cosine similarity between the question and all contexts\n",
        "    similarities = (context_matrix @ question_vec.T).toarray().flatten()\n",
        "\n",
        "    # Get the most relevant context(s)\n",
        "    best_indices = np.argsort(similarities)[-top_n:][::-1]\n",
        "    return [contexts[i] for i in best_indices]\n"
      ]
    },
    {
      "cell_type": "code",
      "execution_count": null,
      "metadata": {
        "colab": {
          "base_uri": "https://localhost:8080/"
        },
        "id": "lZ8IgVKZQEHq",
        "outputId": "274952c9-5f5b-44fe-9070-d1d2fbe6deec"
      },
      "outputs": [
        {
          "output_type": "execute_result",
          "data": {
            "text/plain": [
              "42"
            ]
          },
          "metadata": {},
          "execution_count": 5
        }
      ],
      "source": [
        "len(dataset)"
      ]
    },
    {
      "cell_type": "markdown",
      "source": [
        "# Tokenizer function"
      ],
      "metadata": {
        "id": "SL62Gp-YHhKs"
      }
    },
    {
      "cell_type": "code",
      "execution_count": 8,
      "metadata": {
        "id": "VkeW5QhdQEHq"
      },
      "outputs": [],
      "source": [
        "def preprocess_qa_data(dataset, tokenizer, max_length=512):\n",
        "    tokenized_data = []\n",
        "\n",
        "    for entry in dataset:\n",
        "        context = entry['context']\n",
        "        question = entry['question']\n",
        "        answer = entry['answers'][0]['text']\n",
        "        answer_start = entry['answers'][0]['answer_start']\n",
        "        answer_end = entry['answers'][0]['answer_end']\n",
        "\n",
        "        # Verify that the answer is within the context\n",
        "        if context[answer_start:answer_end] != answer:\n",
        "            print(f\"Skipping sample: Answer '{answer}' not found in the provided context\")\n",
        "            continue\n",
        "\n",
        "        # Tokenize the context and question\n",
        "        inputs = tokenizer(\n",
        "            question,\n",
        "            context,\n",
        "            max_length=max_length,\n",
        "            padding='max_length',\n",
        "            truncation=True,\n",
        "            return_tensors='pt'\n",
        "        )\n",
        "\n",
        "        # Tokenize the context separately to map char to token index\n",
        "        tokenized_context = tokenizer(context, return_offsets_mapping=True, return_tensors='pt')\n",
        "        offsets = tokenized_context['offset_mapping'].squeeze(0)\n",
        "\n",
        "        # Map char positions to token positions\n",
        "        start_token_idx, end_token_idx = None, None\n",
        "        for idx, (start, end) in enumerate(offsets):\n",
        "            if start <= answer_start < end:\n",
        "                start_token_idx = idx\n",
        "            if start < answer_end <= end:\n",
        "                end_token_idx = idx\n",
        "\n",
        "        if start_token_idx is None or end_token_idx is None:\n",
        "            print(f\"Skipping sample due to token alignment issues: {answer}\")\n",
        "            continue\n",
        "\n",
        "        # Prepare inputs and labels\n",
        "        tokenized_data.append({\n",
        "            \"input_ids\": inputs['input_ids'].squeeze(0),\n",
        "            \"attention_mask\": inputs['attention_mask'].squeeze(0),\n",
        "            \"start_positions\": torch.tensor(start_token_idx, dtype=torch.long),\n",
        "            \"end_positions\": torch.tensor(end_token_idx, dtype=torch.long)\n",
        "        })\n",
        "\n",
        "    return tokenized_data\n"
      ]
    },
    {
      "cell_type": "markdown",
      "metadata": {
        "id": "HGLZbhb-BuSx"
      },
      "source": [
        "## Create dataset and dataloader"
      ]
    },
    {
      "cell_type": "code",
      "execution_count": 9,
      "metadata": {
        "id": "js19lAFgBsd7"
      },
      "outputs": [],
      "source": [
        "from torch.utils.data import Dataset, DataLoader\n",
        "\n",
        "class QADataset(Dataset):\n",
        "    def __init__(self, data):\n",
        "        self.data = data\n",
        "\n",
        "    def __len__(self):\n",
        "        return len(self.data)\n",
        "\n",
        "    def __getitem__(self, idx):\n",
        "        item = self.data[idx]\n",
        "        return {\n",
        "            \"input_ids\": item[\"input_ids\"],\n",
        "            \"attention_mask\": item[\"attention_mask\"],\n",
        "            \"start_positions\": item[\"start_positions\"],\n",
        "            \"end_positions\": item[\"end_positions\"]\n",
        "        }\n",
        "\n"
      ]
    },
    {
      "cell_type": "markdown",
      "source": [
        "# Evaluation\n",
        "Set evaluation Functions"
      ],
      "metadata": {
        "id": "Vhx4jEUnpceb"
      }
    },
    {
      "cell_type": "markdown",
      "source": [
        "###ROUGE (Recall-Oriented Understudy for Gisting Evaluation)\n",
        "ROUGE measures the overlap between the predicted and reference answers in terms of n-grams, word sequences, and longest common subsequence."
      ],
      "metadata": {
        "id": "dFbmDFy0pmiy"
      }
    },
    {
      "cell_type": "code",
      "source": [
        "pip install rouge-score nltk bert-score"
      ],
      "metadata": {
        "colab": {
          "base_uri": "https://localhost:8080/"
        },
        "id": "9URGmgM4w9xg",
        "outputId": "efb32a21-390a-4a1a-8ec7-4ebc57ac314c"
      },
      "execution_count": 10,
      "outputs": [
        {
          "output_type": "stream",
          "name": "stdout",
          "text": [
            "Collecting rouge-score\n",
            "  Downloading rouge_score-0.1.2.tar.gz (17 kB)\n",
            "  Preparing metadata (setup.py) ... \u001b[?25l\u001b[?25hdone\n",
            "Requirement already satisfied: nltk in /usr/local/lib/python3.10/dist-packages (3.9.1)\n",
            "Collecting bert-score\n",
            "  Downloading bert_score-0.3.13-py3-none-any.whl.metadata (15 kB)\n",
            "Requirement already satisfied: absl-py in /usr/local/lib/python3.10/dist-packages (from rouge-score) (1.4.0)\n",
            "Requirement already satisfied: numpy in /usr/local/lib/python3.10/dist-packages (from rouge-score) (1.26.4)\n",
            "Requirement already satisfied: six>=1.14.0 in /usr/local/lib/python3.10/dist-packages (from rouge-score) (1.16.0)\n",
            "Requirement already satisfied: click in /usr/local/lib/python3.10/dist-packages (from nltk) (8.1.7)\n",
            "Requirement already satisfied: joblib in /usr/local/lib/python3.10/dist-packages (from nltk) (1.4.2)\n",
            "Requirement already satisfied: regex>=2021.8.3 in /usr/local/lib/python3.10/dist-packages (from nltk) (2024.9.11)\n",
            "Requirement already satisfied: tqdm in /usr/local/lib/python3.10/dist-packages (from nltk) (4.66.6)\n",
            "Requirement already satisfied: torch>=1.0.0 in /usr/local/lib/python3.10/dist-packages (from bert-score) (2.5.1+cu121)\n",
            "Requirement already satisfied: pandas>=1.0.1 in /usr/local/lib/python3.10/dist-packages (from bert-score) (2.2.2)\n",
            "Requirement already satisfied: transformers>=3.0.0 in /usr/local/lib/python3.10/dist-packages (from bert-score) (4.46.3)\n",
            "Requirement already satisfied: requests in /usr/local/lib/python3.10/dist-packages (from bert-score) (2.32.3)\n",
            "Requirement already satisfied: matplotlib in /usr/local/lib/python3.10/dist-packages (from bert-score) (3.8.0)\n",
            "Requirement already satisfied: packaging>=20.9 in /usr/local/lib/python3.10/dist-packages (from bert-score) (24.2)\n",
            "Requirement already satisfied: python-dateutil>=2.8.2 in /usr/local/lib/python3.10/dist-packages (from pandas>=1.0.1->bert-score) (2.8.2)\n",
            "Requirement already satisfied: pytz>=2020.1 in /usr/local/lib/python3.10/dist-packages (from pandas>=1.0.1->bert-score) (2024.2)\n",
            "Requirement already satisfied: tzdata>=2022.7 in /usr/local/lib/python3.10/dist-packages (from pandas>=1.0.1->bert-score) (2024.2)\n",
            "Requirement already satisfied: filelock in /usr/local/lib/python3.10/dist-packages (from torch>=1.0.0->bert-score) (3.16.1)\n",
            "Requirement already satisfied: typing-extensions>=4.8.0 in /usr/local/lib/python3.10/dist-packages (from torch>=1.0.0->bert-score) (4.12.2)\n",
            "Requirement already satisfied: networkx in /usr/local/lib/python3.10/dist-packages (from torch>=1.0.0->bert-score) (3.4.2)\n",
            "Requirement already satisfied: jinja2 in /usr/local/lib/python3.10/dist-packages (from torch>=1.0.0->bert-score) (3.1.4)\n",
            "Requirement already satisfied: fsspec in /usr/local/lib/python3.10/dist-packages (from torch>=1.0.0->bert-score) (2024.10.0)\n",
            "Requirement already satisfied: sympy==1.13.1 in /usr/local/lib/python3.10/dist-packages (from torch>=1.0.0->bert-score) (1.13.1)\n",
            "Requirement already satisfied: mpmath<1.4,>=1.1.0 in /usr/local/lib/python3.10/dist-packages (from sympy==1.13.1->torch>=1.0.0->bert-score) (1.3.0)\n",
            "Requirement already satisfied: huggingface-hub<1.0,>=0.23.2 in /usr/local/lib/python3.10/dist-packages (from transformers>=3.0.0->bert-score) (0.26.3)\n",
            "Requirement already satisfied: pyyaml>=5.1 in /usr/local/lib/python3.10/dist-packages (from transformers>=3.0.0->bert-score) (6.0.2)\n",
            "Requirement already satisfied: tokenizers<0.21,>=0.20 in /usr/local/lib/python3.10/dist-packages (from transformers>=3.0.0->bert-score) (0.20.3)\n",
            "Requirement already satisfied: safetensors>=0.4.1 in /usr/local/lib/python3.10/dist-packages (from transformers>=3.0.0->bert-score) (0.4.5)\n",
            "Requirement already satisfied: contourpy>=1.0.1 in /usr/local/lib/python3.10/dist-packages (from matplotlib->bert-score) (1.3.1)\n",
            "Requirement already satisfied: cycler>=0.10 in /usr/local/lib/python3.10/dist-packages (from matplotlib->bert-score) (0.12.1)\n",
            "Requirement already satisfied: fonttools>=4.22.0 in /usr/local/lib/python3.10/dist-packages (from matplotlib->bert-score) (4.55.1)\n",
            "Requirement already satisfied: kiwisolver>=1.0.1 in /usr/local/lib/python3.10/dist-packages (from matplotlib->bert-score) (1.4.7)\n",
            "Requirement already satisfied: pillow>=6.2.0 in /usr/local/lib/python3.10/dist-packages (from matplotlib->bert-score) (11.0.0)\n",
            "Requirement already satisfied: pyparsing>=2.3.1 in /usr/local/lib/python3.10/dist-packages (from matplotlib->bert-score) (3.2.0)\n",
            "Requirement already satisfied: charset-normalizer<4,>=2 in /usr/local/lib/python3.10/dist-packages (from requests->bert-score) (3.4.0)\n",
            "Requirement already satisfied: idna<4,>=2.5 in /usr/local/lib/python3.10/dist-packages (from requests->bert-score) (3.10)\n",
            "Requirement already satisfied: urllib3<3,>=1.21.1 in /usr/local/lib/python3.10/dist-packages (from requests->bert-score) (2.2.3)\n",
            "Requirement already satisfied: certifi>=2017.4.17 in /usr/local/lib/python3.10/dist-packages (from requests->bert-score) (2024.8.30)\n",
            "Requirement already satisfied: MarkupSafe>=2.0 in /usr/local/lib/python3.10/dist-packages (from jinja2->torch>=1.0.0->bert-score) (3.0.2)\n",
            "Downloading bert_score-0.3.13-py3-none-any.whl (61 kB)\n",
            "\u001b[2K   \u001b[90m━━━━━━━━━━━━━━━━━━━━━━━━━━━━━━━━━━━━━━━━\u001b[0m \u001b[32m61.1/61.1 kB\u001b[0m \u001b[31m4.6 MB/s\u001b[0m eta \u001b[36m0:00:00\u001b[0m\n",
            "\u001b[?25hBuilding wheels for collected packages: rouge-score\n",
            "  Building wheel for rouge-score (setup.py) ... \u001b[?25l\u001b[?25hdone\n",
            "  Created wheel for rouge-score: filename=rouge_score-0.1.2-py3-none-any.whl size=24935 sha256=8a9944215115577b75c7da10ef2afbfaffda28253778fd8825a913081d9ee780\n",
            "  Stored in directory: /root/.cache/pip/wheels/5f/dd/89/461065a73be61a532ff8599a28e9beef17985c9e9c31e541b4\n",
            "Successfully built rouge-score\n",
            "Installing collected packages: rouge-score, bert-score\n",
            "Successfully installed bert-score-0.3.13 rouge-score-0.1.2\n"
          ]
        }
      ]
    },
    {
      "cell_type": "code",
      "source": [
        "from rouge_score import rouge_scorer\n",
        "\n",
        "def compute_rouge(prediction, reference):\n",
        "    scorer = rouge_scorer.RougeScorer(['rouge1', 'rouge2', 'rougeL'], use_stemmer=True)\n",
        "    scores = scorer.score(reference, prediction)\n",
        "    return scores\n"
      ],
      "metadata": {
        "id": "ynFKFnmEpi8f"
      },
      "execution_count": 11,
      "outputs": []
    },
    {
      "cell_type": "markdown",
      "source": [
        "### METEOR (Metric for Evaluation of Translation with Explicit ORdering)\n",
        "METEOR is based on harmonic mean precision and recall, with an emphasis on word order and synonyms."
      ],
      "metadata": {
        "id": "aRN7fXZ-p3Qw"
      }
    },
    {
      "cell_type": "code",
      "source": [
        "from nltk.translate.meteor_score import meteor_score\n",
        "\n",
        "from nltk.tokenize import word_tokenize\n",
        "\n",
        "def compute_meteor(prediction, reference):\n",
        "    # Tokenize prediction and reference\n",
        "    prediction_tokens = word_tokenize(prediction)\n",
        "    reference_tokens = word_tokenize(reference)\n",
        "\n",
        "    return meteor_score([reference_tokens], prediction_tokens) # Pass tokenized inputs\n"
      ],
      "metadata": {
        "id": "Fg-A0eqVp40M"
      },
      "execution_count": 79,
      "outputs": []
    },
    {
      "cell_type": "markdown",
      "source": [
        "### BERTScore\n",
        "BERTScore computes similarity using contextual embeddings from pre-trained transformers like BERT. It aligns tokens in the predicted and reference answers and calculates precision, recall, and F1."
      ],
      "metadata": {
        "id": "wMeRmla9p_Jz"
      }
    },
    {
      "cell_type": "code",
      "source": [
        "from bert_score import score\n",
        "\n",
        "def compute_bertscore(prediction, reference, model_type=\"bert-base-uncased\"):\n",
        "    P, R, F1 = score([prediction], [reference], model_type=model_type, verbose=True)\n",
        "    return {\"Precision\": P.item(), \"Recall\": R.item(), \"F1\": F1.item()}\n"
      ],
      "metadata": {
        "id": "40oSJZmAqOh5"
      },
      "execution_count": 13,
      "outputs": []
    },
    {
      "cell_type": "markdown",
      "source": [
        "### Evaluate the Metrics Across a Dataset\n",
        "\n",
        "Create a function to compute all metrics for multiple predictions and references."
      ],
      "metadata": {
        "id": "-s2OG7X-qPRB"
      }
    },
    {
      "cell_type": "code",
      "source": [
        "def evaluate_metrics(predictions, references):\n",
        "    results = {\n",
        "        \"ROUGE-1\": [],\n",
        "        \"ROUGE-2\": [],\n",
        "        \"ROUGE-L\": [],\n",
        "        \"METEOR\": [],\n",
        "        \"BERT-Precision\": [],\n",
        "        \"BERT-Recall\": [],\n",
        "        \"BERT-F1\": []\n",
        "    }\n",
        "\n",
        "    for pred, ref in zip(predictions, references):\n",
        "        # Compute ROUGE\n",
        "        rouge_scores = compute_rouge(pred, ref)\n",
        "        results[\"ROUGE-1\"].append(rouge_scores[\"rouge1\"].fmeasure)\n",
        "        results[\"ROUGE-2\"].append(rouge_scores[\"rouge2\"].fmeasure)\n",
        "        results[\"ROUGE-L\"].append(rouge_scores[\"rougeL\"].fmeasure)\n",
        "\n",
        "        # Compute METEOR\n",
        "        results[\"METEOR\"].append(compute_meteor(pred, ref))\n",
        "\n",
        "        # Compute BERTScore\n",
        "        bert_scores = compute_bertscore(pred, ref)\n",
        "        results[\"BERT-Precision\"].append(bert_scores[\"Precision\"])\n",
        "        results[\"BERT-Recall\"].append(bert_scores[\"Recall\"])\n",
        "        results[\"BERT-F1\"].append(bert_scores[\"F1\"])\n",
        "\n",
        "    # Aggregate results\n",
        "    aggregated_results = {metric: sum(scores) / len(scores) for metric, scores in results.items()}\n",
        "    return aggregated_results\n"
      ],
      "metadata": {
        "id": "X31xFQIcqQmB"
      },
      "execution_count": 14,
      "outputs": []
    },
    {
      "cell_type": "markdown",
      "source": [
        "# BERT SQUAD"
      ],
      "metadata": {
        "id": "5sxhQe8Q9Vg6"
      }
    },
    {
      "cell_type": "markdown",
      "metadata": {
        "id": "odpPUfzLB10p"
      },
      "source": [
        "## Use tokenizer\n",
        "\n",
        "Tokenize dataset"
      ]
    },
    {
      "cell_type": "code",
      "source": [
        "from transformers import BertTokenizerFast\n",
        "import torch\n",
        "\n",
        "# Load the fast tokenizer\n",
        "tokenizer = BertTokenizerFast.from_pretrained('bert-large-uncased-whole-word-masking-finetuned-squad')"
      ],
      "metadata": {
        "id": "pkEk-kniHZUF"
      },
      "execution_count": 115,
      "outputs": []
    },
    {
      "cell_type": "code",
      "execution_count": 101,
      "metadata": {
        "colab": {
          "base_uri": "https://localhost:8080/"
        },
        "id": "jm093-TCQEHr",
        "outputId": "5e62e013-17ba-4312-998f-d10071f88173"
      },
      "outputs": [
        {
          "output_type": "stream",
          "name": "stdout",
          "text": [
            "Processed 42 samples.\n"
          ]
        }
      ],
      "source": [
        "# Preprocess the dataset\n",
        "tokenized_data = preprocess_qa_data(dataset, tokenizer)\n",
        "print(f\"Processed {len(tokenized_data)} samples.\")"
      ]
    },
    {
      "cell_type": "code",
      "source": [
        "# Create Dataset and DataLoader\n",
        "qa_dataset = QADataset(tokenized_data)\n",
        "train_dataloader = DataLoader(qa_dataset, batch_size=16, shuffle=True)"
      ],
      "metadata": {
        "id": "JXXjpfFJHs-b"
      },
      "execution_count": 102,
      "outputs": []
    },
    {
      "cell_type": "markdown",
      "metadata": {
        "id": "IWc79_sIBnsY"
      },
      "source": [
        "## Fine-tune the model"
      ]
    },
    {
      "cell_type": "code",
      "execution_count": 104,
      "metadata": {
        "id": "oQW7m9H1BmNA",
        "colab": {
          "base_uri": "https://localhost:8080/",
          "height": 1000,
          "referenced_widgets": [
            "778790fe057c418a99860e681c0edb29",
            "4e6350ee730943b2a078e143e30de43e",
            "427aa7df758249a494849d21f1932d3b",
            "a8977f846c734625bf419be6e653e86c",
            "9c81cf58f5d640d2b476131667127c86",
            "fd8effb805284b11a77f9fec1a9dd455",
            "9ad84839792645529c9f70e7a793f406",
            "20eb2e91104d4ae384ae0c70e2dd1d78",
            "ec7016a2c9f84964a37c212215275244",
            "9fa958a33df548fda21232012a7fa0e6",
            "579b40b604964e50ab668ce02998e271"
          ]
        },
        "outputId": "07c5ca50-bd0c-4bb2-a784-181ee5eacf93"
      },
      "outputs": [
        {
          "output_type": "display_data",
          "data": {
            "text/plain": [
              "model.safetensors:  35%|###5      | 472M/1.34G [00:00<?, ?B/s]"
            ],
            "application/vnd.jupyter.widget-view+json": {
              "version_major": 2,
              "version_minor": 0,
              "model_id": "778790fe057c418a99860e681c0edb29"
            }
          },
          "metadata": {}
        },
        {
          "output_type": "stream",
          "name": "stderr",
          "text": [
            "Some weights of the model checkpoint at bert-large-uncased-whole-word-masking-finetuned-squad were not used when initializing BertForQuestionAnswering: ['bert.pooler.dense.bias', 'bert.pooler.dense.weight']\n",
            "- This IS expected if you are initializing BertForQuestionAnswering from the checkpoint of a model trained on another task or with another architecture (e.g. initializing a BertForSequenceClassification model from a BertForPreTraining model).\n",
            "- This IS NOT expected if you are initializing BertForQuestionAnswering from the checkpoint of a model that you expect to be exactly identical (initializing a BertForSequenceClassification model from a BertForSequenceClassification model).\n",
            "/usr/local/lib/python3.10/dist-packages/transformers/optimization.py:591: FutureWarning: This implementation of AdamW is deprecated and will be removed in a future version. Use the PyTorch implementation torch.optim.AdamW instead, or set `no_deprecation_warning=True` to disable this warning\n",
            "  warnings.warn(\n"
          ]
        },
        {
          "output_type": "stream",
          "name": "stdout",
          "text": [
            "Epoch 1, Loss: 10.4707\n",
            "Epoch 2, Loss: 5.5491\n",
            "Epoch 3, Loss: 4.2147\n",
            "Epoch 4, Loss: 3.9101\n",
            "Epoch 5, Loss: 3.8696\n",
            "Epoch 6, Loss: 3.7496\n",
            "Epoch 7, Loss: 3.6599\n",
            "Epoch 8, Loss: 3.5497\n",
            "Epoch 9, Loss: 3.4541\n",
            "Epoch 10, Loss: 3.2578\n",
            "Epoch 11, Loss: 3.0865\n",
            "Epoch 12, Loss: 2.8915\n",
            "Epoch 13, Loss: 2.5433\n",
            "Epoch 14, Loss: 2.2872\n",
            "Epoch 15, Loss: 2.1168\n",
            "Epoch 16, Loss: 1.8471\n",
            "Epoch 17, Loss: 1.4920\n",
            "Epoch 18, Loss: 1.1297\n",
            "Epoch 19, Loss: 0.8954\n",
            "Epoch 20, Loss: 0.6250\n",
            "Epoch 21, Loss: 0.5569\n",
            "Epoch 22, Loss: 0.4227\n",
            "Epoch 23, Loss: 0.3885\n",
            "Epoch 24, Loss: 0.3605\n",
            "Epoch 25, Loss: 0.1999\n",
            "Epoch 26, Loss: 0.2163\n",
            "Epoch 27, Loss: 0.2354\n",
            "Epoch 28, Loss: 0.1066\n",
            "Epoch 29, Loss: 0.1048\n",
            "Epoch 30, Loss: 0.1036\n",
            "Epoch 31, Loss: 0.0823\n",
            "Epoch 32, Loss: 0.0582\n",
            "Epoch 33, Loss: 0.0446\n",
            "Epoch 34, Loss: 0.0488\n",
            "Epoch 35, Loss: 0.0366\n",
            "Epoch 36, Loss: 0.0302\n",
            "Epoch 37, Loss: 0.0314\n",
            "Epoch 38, Loss: 0.0287\n",
            "Epoch 39, Loss: 0.0207\n",
            "Epoch 40, Loss: 0.0186\n",
            "Epoch 41, Loss: 0.0127\n",
            "Epoch 42, Loss: 0.0182\n",
            "Epoch 43, Loss: 0.0113\n",
            "Epoch 44, Loss: 0.0094\n",
            "Epoch 45, Loss: 0.0121\n",
            "Epoch 46, Loss: 0.0097\n",
            "Epoch 47, Loss: 0.0074\n",
            "Epoch 48, Loss: 0.0077\n",
            "Epoch 49, Loss: 0.0081\n",
            "Epoch 50, Loss: 0.0043\n",
            "Epoch 51, Loss: 0.0404\n",
            "Epoch 52, Loss: 0.0063\n",
            "Epoch 53, Loss: 0.0067\n",
            "Epoch 54, Loss: 0.0177\n",
            "Epoch 55, Loss: 0.0047\n",
            "Epoch 56, Loss: 0.0058\n",
            "Epoch 57, Loss: 0.0070\n",
            "Epoch 58, Loss: 0.0096\n",
            "Epoch 59, Loss: 0.0047\n",
            "Epoch 60, Loss: 0.0046\n",
            "Epoch 61, Loss: 0.0050\n",
            "Epoch 62, Loss: 0.0035\n",
            "Epoch 63, Loss: 0.0046\n",
            "Epoch 64, Loss: 0.0069\n",
            "Epoch 65, Loss: 0.0030\n",
            "Epoch 66, Loss: 0.0029\n",
            "Epoch 67, Loss: 0.0037\n",
            "Epoch 68, Loss: 0.0031\n",
            "Epoch 69, Loss: 0.0039\n",
            "Epoch 70, Loss: 0.0025\n",
            "Epoch 71, Loss: 0.0030\n",
            "Epoch 72, Loss: 0.0027\n",
            "Epoch 73, Loss: 0.0030\n",
            "Epoch 74, Loss: 0.0026\n",
            "Epoch 75, Loss: 0.0023\n",
            "Epoch 76, Loss: 0.0018\n",
            "Epoch 77, Loss: 0.0027\n",
            "Epoch 78, Loss: 0.0019\n",
            "Epoch 79, Loss: 0.0036\n",
            "Epoch 80, Loss: 0.0019\n",
            "Epoch 81, Loss: 0.0030\n",
            "Epoch 82, Loss: 0.0017\n",
            "Epoch 83, Loss: 0.0080\n",
            "Epoch 84, Loss: 0.0030\n",
            "Epoch 85, Loss: 0.0021\n",
            "Epoch 86, Loss: 0.0030\n",
            "Epoch 87, Loss: 0.0035\n",
            "Epoch 88, Loss: 0.0038\n",
            "Epoch 89, Loss: 0.0023\n",
            "Epoch 90, Loss: 0.0027\n",
            "Epoch 91, Loss: 0.0035\n",
            "Epoch 92, Loss: 0.0024\n",
            "Epoch 93, Loss: 0.0041\n",
            "Epoch 94, Loss: 0.0014\n",
            "Epoch 95, Loss: 0.0024\n",
            "Epoch 96, Loss: 0.0022\n",
            "Epoch 97, Loss: 0.0023\n",
            "Epoch 98, Loss: 0.0025\n",
            "Epoch 99, Loss: 0.0019\n",
            "Epoch 100, Loss: 0.0011\n"
          ]
        }
      ],
      "source": [
        "from transformers import BertForQuestionAnswering, AdamW\n",
        "\n",
        "# Load pre-trained model\n",
        "model = BertForQuestionAnswering.from_pretrained('bert-large-uncased-whole-word-masking-finetuned-squad')\n",
        "\n",
        "# Set up optimizer\n",
        "optimizer = AdamW(model.parameters(), lr=1e-5)\n",
        "\n",
        "# Training loop\n",
        "device = torch.device(\"cuda\" if torch.cuda.is_available() else \"cpu\")\n",
        "model = model.to(device)\n",
        "\n",
        "epochs = 100\n",
        "for epoch in range(epochs):\n",
        "    model.train()\n",
        "    total_loss = 0\n",
        "\n",
        "    for step, batch in enumerate(train_dataloader):\n",
        "        input_ids = batch['input_ids'].to(device)\n",
        "        attention_mask = batch['attention_mask'].to(device)\n",
        "        start_positions = batch['start_positions'].to(device)\n",
        "        end_positions = batch['end_positions'].to(device)\n",
        "\n",
        "        # Forward pass\n",
        "        outputs = model(\n",
        "            input_ids=input_ids,\n",
        "            attention_mask=attention_mask,\n",
        "            start_positions=start_positions,\n",
        "            end_positions=end_positions\n",
        "        )\n",
        "\n",
        "        # Compute loss\n",
        "        loss = outputs.loss\n",
        "        total_loss += loss.item()\n",
        "\n",
        "        # Backward pass\n",
        "        optimizer.zero_grad()\n",
        "        loss.backward()\n",
        "        optimizer.step()\n",
        "\n",
        "    print(f\"Epoch {epoch + 1}, Loss: {total_loss / len(train_dataloader):.4f}\")"
      ]
    },
    {
      "cell_type": "markdown",
      "metadata": {
        "id": "6Vf0GrsVA_kP"
      },
      "source": [
        "## Save the model"
      ]
    },
    {
      "cell_type": "code",
      "execution_count": 106,
      "metadata": {
        "id": "mLm3JKUgA5nV",
        "colab": {
          "base_uri": "https://localhost:8080/"
        },
        "outputId": "cac146f2-168e-43a7-d3c3-928cb0a4b751"
      },
      "outputs": [
        {
          "output_type": "execute_result",
          "data": {
            "text/plain": [
              "('/content/drive/MyDrive/CanadianTireChatbot/models/fine_tuned_BERTsquad_2024-12-09_06-24-00/tokenizer_config.json',\n",
              " '/content/drive/MyDrive/CanadianTireChatbot/models/fine_tuned_BERTsquad_2024-12-09_06-24-00/special_tokens_map.json',\n",
              " '/content/drive/MyDrive/CanadianTireChatbot/models/fine_tuned_BERTsquad_2024-12-09_06-24-00/vocab.txt',\n",
              " '/content/drive/MyDrive/CanadianTireChatbot/models/fine_tuned_BERTsquad_2024-12-09_06-24-00/added_tokens.json',\n",
              " '/content/drive/MyDrive/CanadianTireChatbot/models/fine_tuned_BERTsquad_2024-12-09_06-24-00/tokenizer.json')"
            ]
          },
          "metadata": {},
          "execution_count": 106
        }
      ],
      "source": [
        "# Specify a directory to save the model\n",
        "import datetime\n",
        "date = datetime.datetime.now().strftime(\"%Y-%m-%d_%H-%M-%S\")\n",
        "path = \"/content/drive/MyDrive/CanadianTireChatbot/models\"\n",
        "#path = \".\"\n",
        "save_directory = path+\"/fine_tuned_BERTsquad_\"+date\n",
        "\n",
        "# Save the model and tokenizer\n",
        "model.save_pretrained(save_directory)\n",
        "tokenizer.save_pretrained(save_directory)"
      ]
    },
    {
      "cell_type": "markdown",
      "source": [
        "## Chatbot"
      ],
      "metadata": {
        "id": "oaqaZMI8-buL"
      }
    },
    {
      "cell_type": "code",
      "source": [
        "def chatbot(question):\n",
        "    # Step 1: Retrieve the most relevant context\n",
        "    retrieved_contexts = retrieve_context(question, vectorizer, context_matrix, contexts)\n",
        "    context = retrieved_contexts[0]  # Use the top context\n",
        "    print(\"Retrieved context:\",context)\n",
        "\n",
        "    # Step 2: Generate the answer\n",
        "    answer = generate_answer(question, context, tokenizer, model)\n",
        "\n",
        "    # Step 3: Return the answer\n",
        "    return answer"
      ],
      "metadata": {
        "id": "Gge-Eh6c-cMZ"
      },
      "execution_count": 107,
      "outputs": []
    },
    {
      "cell_type": "markdown",
      "source": [
        "## Test the model"
      ],
      "metadata": {
        "id": "PkKpdon78iZ0"
      }
    },
    {
      "cell_type": "code",
      "source": [
        "import re\n",
        "from transformers import BertTokenizer, BertForQuestionAnswering, BertTokenizerFast\n",
        "import torch\n",
        "\n",
        "save_directory = \"/content/drive/MyDrive/CanadianTireChatbot/models/fine_tuned_BERTsquad_2024-12-09_06-24-00\"\n",
        "# Load the fine-tuned model and tokenizer\n",
        "tokenizer = BertTokenizerFast.from_pretrained('bert-large-uncased-whole-word-masking-finetuned-squad')\n",
        "model = BertForQuestionAnswering.from_pretrained(save_directory)"
      ],
      "metadata": {
        "id": "gYf7DrkhwMyA"
      },
      "execution_count": null,
      "outputs": []
    },
    {
      "cell_type": "code",
      "execution_count": 116,
      "metadata": {
        "id": "h4stu9LcAgHC"
      },
      "outputs": [],
      "source": [
        "def generate_answer(question, context, tokenizer, model):\n",
        "    # Tokenize question and context\n",
        "    inputs = tokenizer.encode_plus(question, context, return_tensors=\"pt\")\n",
        "    input_ids = inputs[\"input_ids\"].to(device) # Move input_ids to the device\n",
        "    attention_mask = inputs[\"attention_mask\"].to(device) # Move attention_mask to the device\n",
        "\n",
        "    # Get the model's predictions\n",
        "    outputs = model(input_ids=input_ids, attention_mask=attention_mask)\n",
        "    start_scores = outputs.start_logits\n",
        "    end_scores = outputs.end_logits\n",
        "\n",
        "    # Identify the answer span\n",
        "    start_idx = torch.argmax(start_scores)\n",
        "    end_idx = torch.argmax(end_scores) + 1\n",
        "\n",
        "    # Decode the answer\n",
        "    answer = tokenizer.decode(input_ids[0][start_idx:end_idx], skip_special_tokens=True)\n",
        "\n",
        "    return answer"
      ]
    },
    {
      "cell_type": "markdown",
      "metadata": {
        "id": "4tdf12zaAZiY"
      },
      "source": [
        "### User input"
      ]
    },
    {
      "cell_type": "code",
      "execution_count": 120,
      "metadata": {
        "id": "SF4IzFU2ARoB",
        "colab": {
          "base_uri": "https://localhost:8080/"
        },
        "outputId": "68fcbe1b-f2e6-457a-9242-ba79bbffc800"
      },
      "outputs": [
        {
          "output_type": "stream",
          "name": "stdout",
          "text": [
            "Retrieved context: Financial Services segment Income before income taxes was $110.3 million in the quarter, a $15.4 million decrease from the prior year, as higher net write-offs and operating expenses were only partially offset by higher revenues, all while cardholder engagement remained strong.\n",
            "Chatbot: $ 110. 3 million\n"
          ]
        }
      ],
      "source": [
        "# Simulate user input\n",
        "user_question = \"What was the income before income taxes for the Financial Services segment in Q3 2024?\"\n",
        "\n",
        "# Get the chatbot's response\n",
        "response = chatbot(user_question)\n",
        "print(f\"Chatbot: {response}\")"
      ]
    },
    {
      "cell_type": "markdown",
      "source": [
        "### Random question from the dataset"
      ],
      "metadata": {
        "id": "Rb5rp6Jq3u3C"
      }
    },
    {
      "cell_type": "code",
      "source": [
        "import random\n",
        "\n",
        "for i in range(5):\n",
        "  entry = random.choice(dataset)\n",
        "  context = entry['context']\n",
        "  question = entry['question']\n",
        "  answer = entry['answers'][0]['text']\n",
        "\n",
        "  print(f\"Question: {question}\")\n",
        "  response = chatbot(question)\n",
        "  print(f\"Expected Context: {context}\")\n",
        "  print(f\"Chatbot: {response}\")\n",
        "  print(f\"Expected answer: {answer}\")\n",
        "  print(\"\\n\")"
      ],
      "metadata": {
        "colab": {
          "base_uri": "https://localhost:8080/"
        },
        "id": "gu5d36fX3mva",
        "outputId": "7a3202b7-5c11-46a3-8506-4079c301f32c"
      },
      "execution_count": 122,
      "outputs": [
        {
          "output_type": "stream",
          "name": "stdout",
          "text": [
            "Question: What was the consolidated revenue for Canadian Tire in Q3 2024?\n",
            "Retrieved context: Canadian Tire’s retail business is led by Canadian Tire, founded in 1922.\n",
            "Expected Context: revenue 41929 million 14 compared 42505 million period last year revenue excluding petroleum1 36398 million decrease 04 compared prior year consolidated income income tax 2993 million 2300 million compared prior year normalized basis consolidated income income tax 330 million diluted eps 359 compared 119 296 normalized basis prior year refer company q3 2024 mda section 41 information normalizing item additional detail event impacted\n",
            "Chatbot: retail business is led by canadian tire, founded in 1922.\n",
            "Expected answer: 41929 million\n",
            "\n",
            "\n",
            "Question: What is the expected range for full-year operating capital expenditures in 2024?\n",
            "Retrieved context: Total capital expenditures were $195.1 million in the quarter, compared to $176.4 million in Q3 2023. Full-year operating capital expenditures are expected to range between $475 million and $525 million.\n",
            "Expected Context: Total capital expenditures were $195.1 million in the quarter, compared to $176.4 million in Q3 2023. Full-year operating capital expenditures are expected to range between $475 million and $525 million.\n",
            "Chatbot: between $ 475 million and $ 525 million\n",
            "Expected answer: $475 million and $525 million\n",
            "\n",
            "\n",
            "Question: By how much did active loyalty members increase?\n",
            "Retrieved context: Active loyalty members increased by 4%. Triangle Rewards saw higher engagement with 1:1 offers and mass promotions. In-store Net Promoter Scores (NPS) improved across banners.\n",
            "Expected Context: Active loyalty members increased by 4%. Triangle Rewards saw higher engagement with 1:1 offers and mass promotions. In-store Net Promoter Scores (NPS) improved across banners.\n",
            "Chatbot: 4 %\n",
            "Expected answer: 4%\n",
            "\n",
            "\n",
            "Question: By what percentage did the retail gross margin increase in Q3 2024?\n",
            "Retrieved context: Retail gross margin was $1,214.8 million, up 0.6% compared to the third quarter of the prior year.\n",
            "Expected Context: Retail gross margin was $1,214.8 million, up 0.6% compared to the third quarter of the prior year.\n",
            "Chatbot: 0. 6 %\n",
            "Expected answer: 0.6%\n",
            "\n",
            "\n",
            "Question: What is the expected range for full-year operating capital expenditures in 2024?\n",
            "Retrieved context: Total capital expenditures were $195.1 million in the quarter, compared to $176.4 million in Q3 2023. Full-year operating capital expenditures are expected to range between $475 million and $525 million.\n",
            "Expected Context: Total capital expenditures were $195.1 million in the quarter, compared to $176.4 million in Q3 2023. Full-year operating capital expenditures are expected to range between $475 million and $525 million.\n",
            "Chatbot: between $ 475 million and $ 525 million\n",
            "Expected answer: $475 million and $525 million\n",
            "\n",
            "\n"
          ]
        }
      ]
    },
    {
      "cell_type": "markdown",
      "source": [
        "### Evaluate"
      ],
      "metadata": {
        "id": "1x0A8XwcD6gI"
      }
    },
    {
      "cell_type": "code",
      "source": [
        "predictions = []\n",
        "references = []\n",
        "for entry in test_dataset:\n",
        "  context = entry['context']\n",
        "  question = entry['question']\n",
        "  answer = entry['answers'][0]['text']\n",
        "\n",
        "  predictions.append(chatbot(question))\n",
        "  references.append(answer)\n",
        "\n",
        "print(predictions)\n",
        "print(references)\n"
      ],
      "metadata": {
        "colab": {
          "base_uri": "https://localhost:8080/"
        },
        "outputId": "e8f12e10-019a-430c-ea7e-b2197961c125",
        "id": "_Vm9esoBD6gI"
      },
      "execution_count": 128,
      "outputs": [
        {
          "output_type": "stream",
          "name": "stdout",
          "text": [
            "Retrieved context: Canadian Tire’s retail business is led by Canadian Tire, founded in 1922.\n",
            "Retrieved context: Helly Hansen, a leading technical outdoor brand, is owned and operated by Canadian Tire.\n",
            "Retrieved context: Canadian Tire’s retail business is led by Canadian Tire, founded in 1922.\n",
            "['canadian tire', 'helly hansen, a leading technical outdoor brand', 'retail business']\n",
            "['1648 million', 'Canadians are seeking value and finding it through Triangle Rewards', 'is a group of companies that includes a Retail segment, a Financial Services division']\n"
          ]
        }
      ]
    },
    {
      "cell_type": "code",
      "source": [
        "metrics = evaluate_metrics(predictions, references)\n",
        "print(\"Evaluation Metrics:\", metrics)"
      ],
      "metadata": {
        "colab": {
          "base_uri": "https://localhost:8080/",
          "height": 455,
          "referenced_widgets": [
            "bb5fcfa8f49348d598b7b5c4eac53699",
            "182b73803c184fe2a4700f1ec21bf5ee",
            "761612b3c8e84504934d3a7237415aef",
            "b5a0ca5a4b5c40678b74e188bed33087",
            "8ff7684f11334fc190f3365f1bb43fb8",
            "bc87f1e2511b49c9b0e7c0fccec8bca7",
            "01b3c493cd854adfa76a883b4719056c",
            "89642ee4c1f043779ef483e5e2b06397",
            "501355b0ca014cf78f507c2f8f8ebcad",
            "e51afcb4e0a949c2a3c599e82ad6593b",
            "be0a9a1d6f6741e5b2c5f3e7b0e57337",
            "b1aa970ef00541669705d2b94753899a",
            "c9f48bde3ad341cc891392b3e7629d45",
            "15aefe60bb1249bb882dfca1edff6187",
            "1dec3b034e484e53b6c54b2d889cef47",
            "b83032a857cb4c39ba9bfab5450deaba",
            "69cdce87e9b3421585f29026553775e1",
            "25c54305064f4eb8a32b487a68007574",
            "4f71cd650f064984b72e15040fec0865",
            "efa909c65eb14ace9c8dd7a7f0b171f2",
            "97c9b4e232d9426a96f675744bf4520a",
            "ba28c1538adc4343b18e68007978305e",
            "5c76725876fc416eb598ac8467a3f10c",
            "29b50a91747f4030ba9eafebf385e316",
            "aa33247ce1084c64a3b3c9e2d2906ba1",
            "24939d0b06b1495ead992c4e12afe2d0",
            "15d340baf0ab490e9bc64dba438bdcca",
            "314486324122488781098801a3913db7",
            "af0104ad682245449d65f1a17f4119a1",
            "f098e4304c714a3eb8d278231dc13574",
            "df367cc048b14426af13a7001b0bcad9",
            "0f6a2d3505d248f88395023c1d5af2a7",
            "ce46f97dccbf42e89d3662ead6d7a093",
            "b2529c66275a4cd98d00dc5a0b39f842",
            "a766e90d545e4d82a72e5c8392772529",
            "9df3151d84f8454e90520b00d2159c8c",
            "cf676fada328457fac92e76dfb9db76d",
            "1565a8a6013144899b491533f8d7a322",
            "1ad27252603b47309b85db6ba93cc0c0",
            "420e4dbf884b4f0dbc58fe4c81cfc89b",
            "f35adcb1b0d645d2a27c3ae81a21f631",
            "b3f26a4c09cc49adaeedcf443ab570b6",
            "2107b1e0124746398ae5c907e30d188f",
            "4e38e111abb34bb1bd0377a825b957ad",
            "461591b93ec8437da5a4f47d86608908",
            "52bafdbe9a5f4b09a5c38a23fb7a4c2a",
            "8e3c8c48afa44207b91b8426d56437ab",
            "fef43233e0f24c8bb512142e19566631",
            "d487ae808e274736846d9829245d5023",
            "c107391a846b42ba92a5b82881e23015",
            "56dbb7879a93457891b008775e134681",
            "290f283a81c042b790cd5b23c7e00eb0",
            "41094057e6be41b8a04920d34ed6684b",
            "7617e558899f4960983f8873614480db",
            "3cc1a97964434510b33500704c54c943",
            "4812e07798aa4421ab9cf5f8cbda1b68",
            "3e3a33bc1fe74ba8b0cd9a06066fb6e7",
            "545f0b0ee5fa4a928ba786133b2754c7",
            "765a25f2e67d4ffbaf7d015e80ff2161",
            "e117c63884bf4940ab06c6dbcbe644fe",
            "2acf30d7205247868bcbb4a7c5e35138",
            "8e678b80d8b740e8b2e51c75ef3b7d33",
            "4ffea822ca594ad39384904bf5edda0f",
            "b1e4fc0dfa6a4e17a582c6208310929e",
            "3ddd52a6c5ed49eba0281d5d260252bc",
            "851a9e09b19e47868dd25d8dfb3f52ee"
          ]
        },
        "outputId": "ca92965c-e58a-43ee-ec42-a88ee51d98b5",
        "id": "wzpCwqJuD6gI"
      },
      "execution_count": 129,
      "outputs": [
        {
          "output_type": "stream",
          "name": "stdout",
          "text": [
            "calculating scores...\n",
            "computing bert embedding.\n"
          ]
        },
        {
          "output_type": "display_data",
          "data": {
            "text/plain": [
              "  0%|          | 0/1 [00:00<?, ?it/s]"
            ],
            "application/vnd.jupyter.widget-view+json": {
              "version_major": 2,
              "version_minor": 0,
              "model_id": "bb5fcfa8f49348d598b7b5c4eac53699"
            }
          },
          "metadata": {}
        },
        {
          "output_type": "stream",
          "name": "stdout",
          "text": [
            "computing greedy matching.\n"
          ]
        },
        {
          "output_type": "display_data",
          "data": {
            "text/plain": [
              "  0%|          | 0/1 [00:00<?, ?it/s]"
            ],
            "application/vnd.jupyter.widget-view+json": {
              "version_major": 2,
              "version_minor": 0,
              "model_id": "b1aa970ef00541669705d2b94753899a"
            }
          },
          "metadata": {}
        },
        {
          "output_type": "stream",
          "name": "stdout",
          "text": [
            "done in 0.04 seconds, 22.72 sentences/sec\n",
            "calculating scores...\n",
            "computing bert embedding.\n"
          ]
        },
        {
          "output_type": "display_data",
          "data": {
            "text/plain": [
              "  0%|          | 0/1 [00:00<?, ?it/s]"
            ],
            "application/vnd.jupyter.widget-view+json": {
              "version_major": 2,
              "version_minor": 0,
              "model_id": "5c76725876fc416eb598ac8467a3f10c"
            }
          },
          "metadata": {}
        },
        {
          "output_type": "stream",
          "name": "stdout",
          "text": [
            "computing greedy matching.\n"
          ]
        },
        {
          "output_type": "display_data",
          "data": {
            "text/plain": [
              "  0%|          | 0/1 [00:00<?, ?it/s]"
            ],
            "application/vnd.jupyter.widget-view+json": {
              "version_major": 2,
              "version_minor": 0,
              "model_id": "b2529c66275a4cd98d00dc5a0b39f842"
            }
          },
          "metadata": {}
        },
        {
          "output_type": "stream",
          "name": "stdout",
          "text": [
            "done in 0.04 seconds, 22.87 sentences/sec\n",
            "calculating scores...\n",
            "computing bert embedding.\n"
          ]
        },
        {
          "output_type": "display_data",
          "data": {
            "text/plain": [
              "  0%|          | 0/1 [00:00<?, ?it/s]"
            ],
            "application/vnd.jupyter.widget-view+json": {
              "version_major": 2,
              "version_minor": 0,
              "model_id": "461591b93ec8437da5a4f47d86608908"
            }
          },
          "metadata": {}
        },
        {
          "output_type": "stream",
          "name": "stdout",
          "text": [
            "computing greedy matching.\n"
          ]
        },
        {
          "output_type": "display_data",
          "data": {
            "text/plain": [
              "  0%|          | 0/1 [00:00<?, ?it/s]"
            ],
            "application/vnd.jupyter.widget-view+json": {
              "version_major": 2,
              "version_minor": 0,
              "model_id": "4812e07798aa4421ab9cf5f8cbda1b68"
            }
          },
          "metadata": {}
        },
        {
          "output_type": "stream",
          "name": "stdout",
          "text": [
            "done in 0.04 seconds, 22.53 sentences/sec\n",
            "Evaluation Metrics: {'ROUGE-1': 0.041666666666666664, 'ROUGE-2': 0.0, 'ROUGE-L': 0.041666666666666664, 'METEOR': 0.0121654501216545, 'BERT-Precision': 0.4899088541666667, 'BERT-Recall': 0.4032546083132426, 'BERT-F1': 0.4361618061860402}\n"
          ]
        }
      ]
    },
    {
      "cell_type": "markdown",
      "source": [
        "# Roberta"
      ],
      "metadata": {
        "id": "6TzYy7Ax16Q0"
      }
    },
    {
      "cell_type": "markdown",
      "metadata": {
        "id": "N__9mSSM_wDy"
      },
      "source": [
        "## Set tokenizer\n",
        "\n",
        "Tokenize dataset"
      ]
    },
    {
      "cell_type": "code",
      "execution_count": 33,
      "metadata": {
        "id": "zU5yiuXI_wD4"
      },
      "outputs": [],
      "source": [
        "from transformers import AutoTokenizer, AutoModelForQuestionAnswering, Trainer, TrainingArguments, AdamW\n",
        "import torch\n",
        "\n",
        "# Load the pre-trained model and tokenizer\n",
        "model_name = \"deepset/roberta-base-squad2\"\n",
        "RobertaTokenizer = AutoTokenizer.from_pretrained(model_name)\n",
        "RobertaModel = AutoModelForQuestionAnswering.from_pretrained(model_name)\n"
      ]
    },
    {
      "cell_type": "code",
      "execution_count": 16,
      "metadata": {
        "colab": {
          "base_uri": "https://localhost:8080/"
        },
        "outputId": "6f8875b3-3e8c-458a-8986-e50bd5d42883",
        "id": "Frcq1wLT_wD5"
      },
      "outputs": [
        {
          "output_type": "stream",
          "name": "stdout",
          "text": [
            "Processed 42 samples.\n"
          ]
        }
      ],
      "source": [
        "# Preprocess the dataset\n",
        "tokenized_data = preprocess_qa_data(dataset, RobertaTokenizer)\n",
        "print(f\"Processed {len(tokenized_data)} samples.\")"
      ]
    },
    {
      "cell_type": "markdown",
      "metadata": {
        "id": "w_iQ4KJe_wD5"
      },
      "source": [
        "## Create dataset and dataloader"
      ]
    },
    {
      "cell_type": "code",
      "execution_count": 17,
      "metadata": {
        "id": "BdVnfMXu_wD5"
      },
      "outputs": [],
      "source": [
        "# Create Dataset and DataLoader\n",
        "qa_dataset = QADataset(tokenized_data)\n",
        "train_dataloader = DataLoader(qa_dataset, batch_size=16, shuffle=True)"
      ]
    },
    {
      "cell_type": "markdown",
      "source": [
        "## Train Roberta"
      ],
      "metadata": {
        "id": "dAwStDqoJ8pr"
      }
    },
    {
      "cell_type": "code",
      "execution_count": 18,
      "metadata": {
        "colab": {
          "base_uri": "https://localhost:8080/"
        },
        "outputId": "03ba69da-3c04-48ff-ffbb-2bdb5dbdcae2",
        "id": "UqWjTAaJ-mmT"
      },
      "outputs": [
        {
          "output_type": "stream",
          "name": "stderr",
          "text": [
            "/usr/local/lib/python3.10/dist-packages/transformers/optimization.py:591: FutureWarning: This implementation of AdamW is deprecated and will be removed in a future version. Use the PyTorch implementation torch.optim.AdamW instead, or set `no_deprecation_warning=True` to disable this warning\n",
            "  warnings.warn(\n"
          ]
        },
        {
          "output_type": "stream",
          "name": "stdout",
          "text": [
            "Epoch 1, Loss: 11.2220\n",
            "Epoch 2, Loss: 7.8477\n",
            "Epoch 3, Loss: 5.8152\n",
            "Epoch 4, Loss: 4.8763\n",
            "Epoch 5, Loss: 4.4227\n",
            "Epoch 6, Loss: 4.2426\n",
            "Epoch 7, Loss: 4.0368\n",
            "Epoch 8, Loss: 3.9513\n",
            "Epoch 9, Loss: 3.8195\n",
            "Epoch 10, Loss: 3.7455\n",
            "Epoch 11, Loss: 3.6603\n",
            "Epoch 12, Loss: 3.6581\n",
            "Epoch 13, Loss: 3.5436\n",
            "Epoch 14, Loss: 3.5066\n",
            "Epoch 15, Loss: 3.4181\n",
            "Epoch 16, Loss: 3.3625\n",
            "Epoch 17, Loss: 3.2984\n",
            "Epoch 18, Loss: 3.2405\n",
            "Epoch 19, Loss: 3.1130\n",
            "Epoch 20, Loss: 3.0835\n",
            "Epoch 21, Loss: 2.9082\n",
            "Epoch 22, Loss: 2.9076\n",
            "Epoch 23, Loss: 2.7168\n",
            "Epoch 24, Loss: 2.7261\n",
            "Epoch 25, Loss: 2.5889\n",
            "Epoch 26, Loss: 2.3844\n",
            "Epoch 27, Loss: 2.3199\n",
            "Epoch 28, Loss: 2.1843\n",
            "Epoch 29, Loss: 2.0192\n",
            "Epoch 30, Loss: 1.8082\n",
            "Epoch 31, Loss: 1.7146\n",
            "Epoch 32, Loss: 1.4386\n",
            "Epoch 33, Loss: 1.4308\n",
            "Epoch 34, Loss: 1.1709\n",
            "Epoch 35, Loss: 1.0704\n",
            "Epoch 36, Loss: 0.9808\n",
            "Epoch 37, Loss: 0.8976\n",
            "Epoch 38, Loss: 0.8316\n",
            "Epoch 39, Loss: 0.8002\n",
            "Epoch 40, Loss: 0.7407\n",
            "Epoch 41, Loss: 0.7683\n",
            "Epoch 42, Loss: 0.6213\n",
            "Epoch 43, Loss: 0.6019\n",
            "Epoch 44, Loss: 0.4237\n",
            "Epoch 45, Loss: 0.4464\n",
            "Epoch 46, Loss: 0.3740\n",
            "Epoch 47, Loss: 0.3680\n",
            "Epoch 48, Loss: 0.4295\n",
            "Epoch 49, Loss: 0.3162\n",
            "Epoch 50, Loss: 0.3616\n",
            "Epoch 51, Loss: 0.2635\n",
            "Epoch 52, Loss: 0.3044\n",
            "Epoch 53, Loss: 0.2160\n",
            "Epoch 54, Loss: 0.2548\n",
            "Epoch 55, Loss: 0.2049\n",
            "Epoch 56, Loss: 0.1820\n",
            "Epoch 57, Loss: 0.1839\n",
            "Epoch 58, Loss: 0.1358\n",
            "Epoch 59, Loss: 0.2522\n",
            "Epoch 60, Loss: 0.2207\n",
            "Epoch 61, Loss: 0.1925\n",
            "Epoch 62, Loss: 0.2055\n",
            "Epoch 63, Loss: 0.1438\n",
            "Epoch 64, Loss: 0.1542\n",
            "Epoch 65, Loss: 0.1021\n",
            "Epoch 66, Loss: 0.1087\n",
            "Epoch 67, Loss: 0.1020\n",
            "Epoch 68, Loss: 0.0879\n",
            "Epoch 69, Loss: 0.1072\n",
            "Epoch 70, Loss: 0.0793\n",
            "Epoch 71, Loss: 0.0916\n",
            "Epoch 72, Loss: 0.0694\n",
            "Epoch 73, Loss: 0.0940\n",
            "Epoch 74, Loss: 0.0576\n",
            "Epoch 75, Loss: 0.1407\n",
            "Epoch 76, Loss: 0.0636\n",
            "Epoch 77, Loss: 0.0566\n",
            "Epoch 78, Loss: 0.0658\n",
            "Epoch 79, Loss: 0.1537\n",
            "Epoch 80, Loss: 0.0966\n",
            "Epoch 81, Loss: 0.0493\n",
            "Epoch 82, Loss: 0.0510\n",
            "Epoch 83, Loss: 0.0786\n",
            "Epoch 84, Loss: 0.0536\n",
            "Epoch 85, Loss: 0.0371\n",
            "Epoch 86, Loss: 0.1958\n",
            "Epoch 87, Loss: 0.0330\n",
            "Epoch 88, Loss: 0.0400\n",
            "Epoch 89, Loss: 0.0514\n",
            "Epoch 90, Loss: 0.0472\n",
            "Epoch 91, Loss: 0.0532\n",
            "Epoch 92, Loss: 0.0433\n",
            "Epoch 93, Loss: 0.0425\n",
            "Epoch 94, Loss: 0.0378\n",
            "Epoch 95, Loss: 0.0233\n",
            "Epoch 96, Loss: 0.0412\n",
            "Epoch 97, Loss: 0.0356\n",
            "Epoch 98, Loss: 0.0208\n",
            "Epoch 99, Loss: 0.0297\n",
            "Epoch 100, Loss: 0.0255\n",
            "Epoch 101, Loss: 0.0222\n",
            "Epoch 102, Loss: 0.0160\n",
            "Epoch 103, Loss: 0.0407\n",
            "Epoch 104, Loss: 0.0269\n",
            "Epoch 105, Loss: 0.0233\n",
            "Epoch 106, Loss: 0.0250\n",
            "Epoch 107, Loss: 0.0874\n",
            "Epoch 108, Loss: 0.0255\n",
            "Epoch 109, Loss: 0.0438\n",
            "Epoch 110, Loss: 0.0323\n",
            "Epoch 111, Loss: 0.0238\n",
            "Epoch 112, Loss: 0.0629\n",
            "Epoch 113, Loss: 0.0562\n",
            "Epoch 114, Loss: 0.0528\n",
            "Epoch 115, Loss: 0.0165\n",
            "Epoch 116, Loss: 0.0161\n",
            "Epoch 117, Loss: 0.0173\n",
            "Epoch 118, Loss: 0.0526\n",
            "Epoch 119, Loss: 0.0205\n",
            "Epoch 120, Loss: 0.0316\n",
            "Epoch 121, Loss: 0.0685\n",
            "Epoch 122, Loss: 0.0714\n",
            "Epoch 123, Loss: 0.0243\n",
            "Epoch 124, Loss: 0.0182\n",
            "Epoch 125, Loss: 0.0200\n",
            "Epoch 126, Loss: 0.0205\n",
            "Epoch 127, Loss: 0.0259\n",
            "Epoch 128, Loss: 0.0307\n",
            "Epoch 129, Loss: 0.0143\n",
            "Epoch 130, Loss: 0.0293\n",
            "Epoch 131, Loss: 0.0239\n",
            "Epoch 132, Loss: 0.0155\n",
            "Epoch 133, Loss: 0.0178\n",
            "Epoch 134, Loss: 0.0142\n",
            "Epoch 135, Loss: 0.0170\n",
            "Epoch 136, Loss: 0.0907\n",
            "Epoch 137, Loss: 0.0139\n",
            "Epoch 138, Loss: 0.0114\n",
            "Epoch 139, Loss: 0.0121\n",
            "Epoch 140, Loss: 0.0159\n",
            "Epoch 141, Loss: 0.0378\n",
            "Epoch 142, Loss: 0.0164\n",
            "Epoch 143, Loss: 0.0124\n",
            "Epoch 144, Loss: 0.0212\n",
            "Epoch 145, Loss: 0.0485\n",
            "Epoch 146, Loss: 0.0163\n",
            "Epoch 147, Loss: 0.0132\n",
            "Epoch 148, Loss: 0.0502\n",
            "Epoch 149, Loss: 0.0099\n",
            "Epoch 150, Loss: 0.0103\n"
          ]
        }
      ],
      "source": [
        "# Set up optimizer\n",
        "optimizer = AdamW(RobertaModel.parameters(), lr=1e-5)\n",
        "\n",
        "# Training loop\n",
        "device = torch.device(\"cuda\" if torch.cuda.is_available() else \"cpu\")\n",
        "model = RobertaModel.to(device)\n",
        "\n",
        "epochs = 150\n",
        "for epoch in range(epochs):\n",
        "    model.train()\n",
        "    total_loss = 0\n",
        "\n",
        "    for step, batch in enumerate(train_dataloader):\n",
        "        input_ids = batch['input_ids'].to(device)\n",
        "        attention_mask = batch['attention_mask'].to(device)\n",
        "        start_positions = batch['start_positions'].to(device)\n",
        "        end_positions = batch['end_positions'].to(device)\n",
        "\n",
        "        # Forward pass\n",
        "        outputs = model(\n",
        "            input_ids=input_ids,\n",
        "            attention_mask=attention_mask,\n",
        "            start_positions=start_positions,\n",
        "            end_positions=end_positions\n",
        "        )\n",
        "\n",
        "        # Compute loss\n",
        "        loss = outputs.loss\n",
        "        total_loss += loss.item()\n",
        "\n",
        "        # Backward pass\n",
        "        optimizer.zero_grad()\n",
        "        loss.backward()\n",
        "        optimizer.step()\n",
        "\n",
        "    print(f\"Epoch {epoch + 1}, Loss: {total_loss / len(train_dataloader):.4f}\")"
      ]
    },
    {
      "cell_type": "markdown",
      "metadata": {
        "id": "qszHt7iJ-mmU"
      },
      "source": [
        "### Save the model"
      ]
    },
    {
      "cell_type": "code",
      "execution_count": 20,
      "metadata": {
        "colab": {
          "base_uri": "https://localhost:8080/"
        },
        "outputId": "12d11a0f-5d3e-4757-8054-1b2377c299e5",
        "id": "ObNfxac5-mmU"
      },
      "outputs": [
        {
          "data": {
            "text/plain": [
              "('/content/drive/MyDrive/CanadianTireChatbot/models/fine_tuned_Roberta_2024-12-09_05-41-08/tokenizer_config.json',\n",
              " '/content/drive/MyDrive/CanadianTireChatbot/models/fine_tuned_Roberta_2024-12-09_05-41-08/special_tokens_map.json',\n",
              " '/content/drive/MyDrive/CanadianTireChatbot/models/fine_tuned_Roberta_2024-12-09_05-41-08/vocab.json',\n",
              " '/content/drive/MyDrive/CanadianTireChatbot/models/fine_tuned_Roberta_2024-12-09_05-41-08/merges.txt',\n",
              " '/content/drive/MyDrive/CanadianTireChatbot/models/fine_tuned_Roberta_2024-12-09_05-41-08/added_tokens.json',\n",
              " '/content/drive/MyDrive/CanadianTireChatbot/models/fine_tuned_Roberta_2024-12-09_05-41-08/tokenizer.json')"
            ]
          },
          "execution_count": 20,
          "metadata": {},
          "output_type": "execute_result"
        }
      ],
      "source": [
        "# Specify a directory to save the model\n",
        "import datetime\n",
        "date = datetime.datetime.now().strftime(\"%Y-%m-%d_%H-%M-%S\")\n",
        "path = \"/content/drive/MyDrive/CanadianTireChatbot/models\"\n",
        "#path = \".\"\n",
        "save_directory = path+\"/fine_tuned_Roberta_\"+date\n",
        "\n",
        "# Save the model and tokenizer\n",
        "model.save_pretrained(save_directory)\n",
        "RobertaTokenizer.save_pretrained(save_directory)"
      ]
    },
    {
      "cell_type": "markdown",
      "source": [
        "### Test the model"
      ],
      "metadata": {
        "id": "35LgH5gI-mmU"
      }
    },
    {
      "cell_type": "code",
      "source": [
        "save_directory = \"/content/drive/MyDrive/CanadianTireChatbot/models/fine_tuned_Roberta_2024-12-09_05-41-08/\""
      ],
      "metadata": {
        "id": "CjKggtZ2-mmU"
      },
      "execution_count": 23,
      "outputs": []
    },
    {
      "cell_type": "code",
      "source": [
        "# Load the fine-tuned model and tokenizer\n",
        "RobertaTokenizer = RobertaTokenizer.from_pretrained(save_directory)\n",
        "RobertaModel = AutoModelForQuestionAnswering.from_pretrained(save_directory)"
      ],
      "metadata": {
        "id": "nwFHyMUNMV1S"
      },
      "execution_count": 24,
      "outputs": []
    },
    {
      "cell_type": "markdown",
      "source": [
        "## Chatbot"
      ],
      "metadata": {
        "id": "QYlHDe0tKuDL"
      }
    },
    {
      "cell_type": "code",
      "source": [
        "def chatbot(question):\n",
        "    # Step 1: Retrieve the most relevant context\n",
        "    retrieved_contexts = retrieve_context(question, vectorizer, context_matrix, contexts)\n",
        "    context = retrieved_contexts[0]  # Use the top context\n",
        "    print(\"Retrieved context:\",context)\n",
        "\n",
        "    # Step 2: Generate the answer\n",
        "    answer = generate_answer(question, context, RobertaTokenizer, RobertaModel)\n",
        "\n",
        "    # Step 3: Return the answer\n",
        "    return answer"
      ],
      "metadata": {
        "id": "kRH8nhxmKuDR"
      },
      "execution_count": 34,
      "outputs": []
    },
    {
      "cell_type": "markdown",
      "metadata": {
        "id": "rtJ7yDXQ-mmV"
      },
      "source": [
        "#### User input"
      ]
    },
    {
      "cell_type": "code",
      "execution_count": 69,
      "metadata": {
        "colab": {
          "base_uri": "https://localhost:8080/"
        },
        "outputId": "b306abe5-e906-4924-b0d8-92748badf08d",
        "id": "hv6a2IWP-mmV"
      },
      "outputs": [
        {
          "output_type": "stream",
          "name": "stdout",
          "text": [
            "Retrieved context: Financial Services segment Income before income taxes was $110.3 million in the quarter, a $15.4 million decrease from the prior year, as higher net write-offs and operating expenses were only partially offset by higher revenues, all while cardholder engagement remained strong.\n",
            "Chatbot: \n"
          ]
        }
      ],
      "source": [
        "# Simulate user input\n",
        "user_question = \"What was the income before income taxes for the Financial Services segment in Q3 2024?\"\n",
        "\n",
        "# Get the chatbot's response\n",
        "response = chatbot(user_question)\n",
        "print(f\"Chatbot: {response}\")"
      ]
    },
    {
      "cell_type": "markdown",
      "source": [
        "#### Random questions from the dataset"
      ],
      "metadata": {
        "id": "5S0enxtS-mmV"
      }
    },
    {
      "cell_type": "code",
      "source": [
        "import random\n",
        "\n",
        "for i in range(5):\n",
        "  entry = random.choice(dataset)\n",
        "  context = entry['context']\n",
        "  question = entry['question']\n",
        "  answer = entry['answers'][0]['text']\n",
        "\n",
        "  print(f\"Question: {question}\")\n",
        "  response = chatbot(question)\n",
        "  print(f\"Expected Context: {context}\")\n",
        "  print(f\"Chatbot: {response}\")\n",
        "  print(f\"Expected answer: {answer}\")\n",
        "  print(\"\\n\")"
      ],
      "metadata": {
        "colab": {
          "base_uri": "https://localhost:8080/"
        },
        "outputId": "c47737c4-a176-453e-e394-bb3d79a8f4fd",
        "id": "LlIUroNF-mmV"
      },
      "execution_count": 76,
      "outputs": [
        {
          "output_type": "stream",
          "name": "stdout",
          "text": [
            "Question: By how much did active loyalty members increase?\n",
            "Retrieved context: Active loyalty members increased by 4%. Triangle Rewards saw higher engagement with 1:1 offers and mass promotions. In-store Net Promoter Scores (NPS) improved across banners.\n",
            "Expected Context: Active loyalty members increased by 4%. Triangle Rewards saw higher engagement with 1:1 offers and mass promotions. In-store Net Promoter Scores (NPS) improved across banners.\n",
            "Chatbot:  4%.\n",
            "Expected answer: 4%\n",
            "\n",
            "\n",
            "Question: What was the Retail ROIC at the end of Q3 2024?\n",
            "Retrieved context: Retail Return on Invested Capital (ROIC) was 8.8% at the end of the third quarter of 2024, compared to 11.1% at the end of the third quarter of 2023.\n",
            "Expected Context: Retail Return on Invested Capital (ROIC) was 8.8% at the end of the third quarter of 2024, compared to 11.1% at the end of the third quarter of 2023.\n",
            "Chatbot:  8.8%\n",
            "Expected answer: 8.8%\n",
            "\n",
            "\n",
            "Question: How much did AFFO per unit increase in Q3 2024?\n",
            "Retrieved context: Adjusted Funds from Operations per unit increased by 2.3%. Announced three new investments totaling $85 million to add approximately 283,000 square feet of gross leasable area.\n",
            "Expected Context: Adjusted Funds from Operations per unit increased by 2.3%. Announced three new investments totaling $85 million to add approximately 283,000 square feet of gross leasable area.\n",
            "Chatbot:  2.3%.\n",
            "Expected answer: 2.3%\n",
            "\n",
            "\n",
            "Question: What is the expected range for full-year operating capital expenditures in 2024?\n",
            "Retrieved context: Total capital expenditures were $195.1 million in the quarter, compared to $176.4 million in Q3 2023. Full-year operating capital expenditures are expected to range between $475 million and $525 million.\n",
            "Expected Context: Total capital expenditures were $195.1 million in the quarter, compared to $176.4 million in Q3 2023. Full-year operating capital expenditures are expected to range between $475 million and $525 million.\n",
            "Chatbot: \n",
            "Expected answer: $475 million and $525 million\n",
            "\n",
            "\n",
            "Question: What happened to the in-store Net Promoter Score across Canadian Tire's banners?\n",
            "Retrieved context: In-store Net Promoter Score (NPS) was up across the Company’s banners, including CTR.\n",
            "Expected Context: In-store Net Promoter Score (NPS) was up across the Company’s banners, including CTR.\n",
            "Chatbot: \n",
            "Expected answer: was up\n",
            "\n",
            "\n"
          ]
        }
      ]
    },
    {
      "cell_type": "markdown",
      "source": [
        "## Evaluate"
      ],
      "metadata": {
        "id": "2jARqZaH9cDT"
      }
    },
    {
      "cell_type": "code",
      "source": [
        "predictions = []\n",
        "references = []\n",
        "for entry in test_dataset:\n",
        "  context = entry['context']\n",
        "  question = entry['question']\n",
        "  answer = entry['answers'][0]['text']\n",
        "\n",
        "  predictions.append(chatbot(question))\n",
        "  references.append(answer)\n",
        "\n",
        "print(predictions)\n",
        "print(references)\n"
      ],
      "metadata": {
        "colab": {
          "base_uri": "https://localhost:8080/"
        },
        "id": "Njq0McxP9knA",
        "outputId": "086c703a-4b09-4110-9df9-196cde957f8c"
      },
      "execution_count": 77,
      "outputs": [
        {
          "output_type": "stream",
          "name": "stdout",
          "text": [
            "Retrieved context: Canadian Tire’s retail business is led by Canadian Tire, founded in 1922.\n",
            "Retrieved context: Helly Hansen, a leading technical outdoor brand, is owned and operated by Canadian Tire.\n",
            "Retrieved context: Canadian Tire’s retail business is led by Canadian Tire, founded in 1922.\n",
            "['', '', ' retail business']\n",
            "['1648 million', 'Canadians are seeking value and finding it through Triangle Rewards', 'is a group of companies that includes a Retail segment, a Financial Services division']\n"
          ]
        }
      ]
    },
    {
      "cell_type": "code",
      "source": [
        " metrics = evaluate_metrics(predictions, references)\n",
        "print(\"Evaluation Metrics:\", metrics)"
      ],
      "metadata": {
        "colab": {
          "base_uri": "https://localhost:8080/",
          "height": 489,
          "referenced_widgets": [
            "d00bba04a86a47e5ac7e2b9bb86d2a05",
            "a9971281498e40a6881f2f5604286280",
            "551670c206d74ab7b6bb043bbf657795",
            "3b34ae259c2a488b8bdc0a1a26cfe902",
            "d032e72f3f6c412481ecd3466ec065fe",
            "dfcf95d3b11448018aa3b73fa1e7304d",
            "a36360512b6246e5859aeffd82472b67",
            "8d36eb06b29e42c092d820324d82526d",
            "891584e05ed4409291f46a8682602361",
            "d8804fd386a24c2daf5be288308bca8f",
            "267b05f6f76a4ebc80d09bc378d86948",
            "bc5cc5af52004037a38957c7bbe4376d",
            "fd162e07f4c442859d3339b64314d9eb",
            "afc7230d51d8418eb5b9c61507399b31",
            "c8cd9c83e57c4a9088b288915f8c65f5",
            "c221f0cfe3a344f69164c785f9cd9b75",
            "bf11c93adb1f48d683401c2536fd3aea",
            "7d430e6676704cf48abdd73597a7554d",
            "f158da09558047859b7147fe09eaf5f9",
            "8f94d3d065dc4960976b24bf233845dd",
            "4319830329b54869834d7541aadcb292",
            "f45da98bd11c4611b4c17715e2d2d9fa",
            "bd570c5749544c8f9c04e132298be9ae",
            "a7dceea250df496dbcbddf25377ae953",
            "122d8f70ef5549f4a8b59b6d821cc09f",
            "030ce1aa5eb942b69462b49255d896d7",
            "ceaeac1fe0394cd7873e2bcc66c7adba",
            "215d29c7d75448b293ad490fd5ef3bff",
            "5a24460cd06145e9a6931e5043ee9885",
            "d09e8db88039441f998e0d82121b9038",
            "e1c5c3ec6e3c49a299ce328b0396f7d4",
            "a4477a2cbb314ff39043abda019531c3",
            "fbdc361dbb8b41a5bad63e1f22c0761b",
            "c495cee415504d6c805fd8517aec1b22",
            "274c25d29af749a99b57978847467ab9",
            "85820fc5abd14aa792ad111231827b6f",
            "640dbb13c3574f179e0bba2b8f9d62ce",
            "f5601b8fb60d421bb4819d39cd69f422",
            "294b465efc184846b2928ec6a36083ab",
            "fe828881a1cc476aa5bc1c7024530a54",
            "c350054a70334c6bb430e5e3b85fe5b2",
            "5ab0f7d8cc8f4e329620308eceb01500",
            "3a129a769ae14f809f6d8e17e35803d6",
            "8d92905296644aa3841c3220ffd81228",
            "8000287f8cc84a43964d0466ff8157ad",
            "46a714a2acfe4aa681d8823c5360f72a",
            "bb87ef9f65c44791a013519551c1f4a7",
            "11576640b4fa4cd2be1a388a3bddc041",
            "0991e12b155d45c2b775ca3dc6da042e",
            "6298f7aa8b6647d5bff87ab72501bea9",
            "7aa82d6fce96473e86fa6ce76486cd84",
            "9fc5a81947694254a637a149ca9f9bdf",
            "f3cb8c9a83cc4105870d4fbb287d0d33",
            "8b1bf189182748c481b43836c3b7cdbe",
            "d38ca94ff4eb42a4b2fc2cf830e07f45",
            "4fbcb6a1ce464216a336da7d9155d64a",
            "ec6b9bd1ede34c45ab14e15142e8bb30",
            "147016e82a0841e2b50ecdc015085e13",
            "ab286c5d79374600bc98e5b6739b62c4",
            "e03e3b8411cc4ab29967933dfbe6864e",
            "6f2a802bdbc34822a84330fd82fb8363",
            "e099dffcab0549f184b21300d9d65389",
            "7f06f8e873a544909dc0bc24da8dea0c",
            "e6ed7df5a8e54607b49b114b8ddf9ac6",
            "447ae6abdf914e1da88ced430a896f7d",
            "1ac4bf11f8f24634b7485235fb442664"
          ]
        },
        "id": "Gdlx6qgN-eXQ",
        "outputId": "0874fe29-6ec5-4d69-f690-8e7b851ede04"
      },
      "execution_count": 88,
      "outputs": [
        {
          "output_type": "stream",
          "name": "stdout",
          "text": [
            "calculating scores...\n",
            "computing bert embedding.\n"
          ]
        },
        {
          "output_type": "display_data",
          "data": {
            "text/plain": [
              "  0%|          | 0/1 [00:00<?, ?it/s]"
            ],
            "application/vnd.jupyter.widget-view+json": {
              "version_major": 2,
              "version_minor": 0,
              "model_id": "d00bba04a86a47e5ac7e2b9bb86d2a05"
            }
          },
          "metadata": {}
        },
        {
          "output_type": "stream",
          "name": "stdout",
          "text": [
            "computing greedy matching.\n"
          ]
        },
        {
          "output_type": "display_data",
          "data": {
            "text/plain": [
              "  0%|          | 0/1 [00:00<?, ?it/s]"
            ],
            "application/vnd.jupyter.widget-view+json": {
              "version_major": 2,
              "version_minor": 0,
              "model_id": "bc5cc5af52004037a38957c7bbe4376d"
            }
          },
          "metadata": {}
        },
        {
          "output_type": "stream",
          "name": "stdout",
          "text": [
            "done in 0.05 seconds, 21.29 sentences/sec\n"
          ]
        },
        {
          "output_type": "stream",
          "name": "stderr",
          "text": [
            "Warning: Empty candidate sentence detected; setting raw BERTscores to 0.\n"
          ]
        },
        {
          "output_type": "stream",
          "name": "stdout",
          "text": [
            "calculating scores...\n",
            "computing bert embedding.\n"
          ]
        },
        {
          "output_type": "display_data",
          "data": {
            "text/plain": [
              "  0%|          | 0/1 [00:00<?, ?it/s]"
            ],
            "application/vnd.jupyter.widget-view+json": {
              "version_major": 2,
              "version_minor": 0,
              "model_id": "bd570c5749544c8f9c04e132298be9ae"
            }
          },
          "metadata": {}
        },
        {
          "output_type": "stream",
          "name": "stdout",
          "text": [
            "computing greedy matching.\n"
          ]
        },
        {
          "output_type": "display_data",
          "data": {
            "text/plain": [
              "  0%|          | 0/1 [00:00<?, ?it/s]"
            ],
            "application/vnd.jupyter.widget-view+json": {
              "version_major": 2,
              "version_minor": 0,
              "model_id": "c495cee415504d6c805fd8517aec1b22"
            }
          },
          "metadata": {}
        },
        {
          "output_type": "stream",
          "name": "stdout",
          "text": [
            "done in 0.06 seconds, 18.17 sentences/sec\n"
          ]
        },
        {
          "output_type": "stream",
          "name": "stderr",
          "text": [
            "Warning: Empty candidate sentence detected; setting raw BERTscores to 0.\n"
          ]
        },
        {
          "output_type": "stream",
          "name": "stdout",
          "text": [
            "calculating scores...\n",
            "computing bert embedding.\n"
          ]
        },
        {
          "output_type": "display_data",
          "data": {
            "text/plain": [
              "  0%|          | 0/1 [00:00<?, ?it/s]"
            ],
            "application/vnd.jupyter.widget-view+json": {
              "version_major": 2,
              "version_minor": 0,
              "model_id": "8000287f8cc84a43964d0466ff8157ad"
            }
          },
          "metadata": {}
        },
        {
          "output_type": "stream",
          "name": "stdout",
          "text": [
            "computing greedy matching.\n"
          ]
        },
        {
          "output_type": "display_data",
          "data": {
            "text/plain": [
              "  0%|          | 0/1 [00:00<?, ?it/s]"
            ],
            "application/vnd.jupyter.widget-view+json": {
              "version_major": 2,
              "version_minor": 0,
              "model_id": "4fbcb6a1ce464216a336da7d9155d64a"
            }
          },
          "metadata": {}
        },
        {
          "output_type": "stream",
          "name": "stdout",
          "text": [
            "done in 0.04 seconds, 23.77 sentences/sec\n",
            "Evaluation Metrics: {'ROUGE-1': 0.041666666666666664, 'ROUGE-2': 0.0, 'ROUGE-L': 0.041666666666666664, 'METEOR': 0.0121654501216545, 'BERT-Precision': 0.23449834187825522, 'BERT-Recall': 0.14554868141810098, 'BERT-F1': 0.1796142260233561}\n"
          ]
        }
      ]
    },
    {
      "cell_type": "markdown",
      "source": [
        "# GPT"
      ],
      "metadata": {
        "id": "AJWeXkxV1_06"
      }
    },
    {
      "cell_type": "markdown",
      "source": [
        "## Import Q-A dataset"
      ],
      "metadata": {
        "id": "sNueI1ZHOhU2"
      }
    },
    {
      "cell_type": "code",
      "source": [
        "import pandas as pd\n",
        "\n",
        "# Load the dataset\n",
        "df = pd.read_csv(\"/content/drive/MyDrive/CanadianTireChatbot/data/QA_df.csv\")  # Replace with your actual file path\n",
        "\n",
        "# Combine question and answer into a single format\n",
        "df[\"input_text\"] = df[\"Question\"] + \" Answer:\"\n",
        "df[\"output_text\"] = df[\"Answer\"]\n",
        "\n",
        "# Save the processed dataset\n",
        "df[[\"input_text\", \"output_text\"]].to_csv(\"/content/drive/MyDrive/CanadianTireChatbot/data/fine_tuning_data.csv\", index=False)\n",
        "df.head()"
      ],
      "metadata": {
        "colab": {
          "base_uri": "https://localhost:8080/",
          "height": 206
        },
        "id": "31tqfFyaRUzP",
        "outputId": "9e375c99-ca6f-49f3-ac3d-827ef5b29639"
      },
      "execution_count": 61,
      "outputs": [
        {
          "output_type": "execute_result",
          "data": {
            "text/plain": [
              "                                            Question           Answer  \\\n",
              "0   What was Canadian Tire's diluted EPS in Q3 2024?            $3.59   \n",
              "1  What was Canadian Tire's normalized EPS in Q3 ...            $2.96   \n",
              "2  What was the percentage decrease in consolidat...             1.5%   \n",
              "3  What was Canadian Tire's annual dividend in 2024?  $7.10 per share   \n",
              "4  What was the increase in loyalty engagement in...               4%   \n",
              "\n",
              "                                          input_text      output_text  \n",
              "0  What was Canadian Tire's diluted EPS in Q3 202...            $3.59  \n",
              "1  What was Canadian Tire's normalized EPS in Q3 ...            $2.96  \n",
              "2  What was the percentage decrease in consolidat...             1.5%  \n",
              "3  What was Canadian Tire's annual dividend in 20...  $7.10 per share  \n",
              "4  What was the increase in loyalty engagement in...               4%  "
            ],
            "text/html": [
              "\n",
              "  <div id=\"df-3e3db263-ff71-4e82-8c74-b3dd9746a15c\" class=\"colab-df-container\">\n",
              "    <div>\n",
              "<style scoped>\n",
              "    .dataframe tbody tr th:only-of-type {\n",
              "        vertical-align: middle;\n",
              "    }\n",
              "\n",
              "    .dataframe tbody tr th {\n",
              "        vertical-align: top;\n",
              "    }\n",
              "\n",
              "    .dataframe thead th {\n",
              "        text-align: right;\n",
              "    }\n",
              "</style>\n",
              "<table border=\"1\" class=\"dataframe\">\n",
              "  <thead>\n",
              "    <tr style=\"text-align: right;\">\n",
              "      <th></th>\n",
              "      <th>Question</th>\n",
              "      <th>Answer</th>\n",
              "      <th>input_text</th>\n",
              "      <th>output_text</th>\n",
              "    </tr>\n",
              "  </thead>\n",
              "  <tbody>\n",
              "    <tr>\n",
              "      <th>0</th>\n",
              "      <td>What was Canadian Tire's diluted EPS in Q3 2024?</td>\n",
              "      <td>$3.59</td>\n",
              "      <td>What was Canadian Tire's diluted EPS in Q3 202...</td>\n",
              "      <td>$3.59</td>\n",
              "    </tr>\n",
              "    <tr>\n",
              "      <th>1</th>\n",
              "      <td>What was Canadian Tire's normalized EPS in Q3 ...</td>\n",
              "      <td>$2.96</td>\n",
              "      <td>What was Canadian Tire's normalized EPS in Q3 ...</td>\n",
              "      <td>$2.96</td>\n",
              "    </tr>\n",
              "    <tr>\n",
              "      <th>2</th>\n",
              "      <td>What was the percentage decrease in consolidat...</td>\n",
              "      <td>1.5%</td>\n",
              "      <td>What was the percentage decrease in consolidat...</td>\n",
              "      <td>1.5%</td>\n",
              "    </tr>\n",
              "    <tr>\n",
              "      <th>3</th>\n",
              "      <td>What was Canadian Tire's annual dividend in 2024?</td>\n",
              "      <td>$7.10 per share</td>\n",
              "      <td>What was Canadian Tire's annual dividend in 20...</td>\n",
              "      <td>$7.10 per share</td>\n",
              "    </tr>\n",
              "    <tr>\n",
              "      <th>4</th>\n",
              "      <td>What was the increase in loyalty engagement in...</td>\n",
              "      <td>4%</td>\n",
              "      <td>What was the increase in loyalty engagement in...</td>\n",
              "      <td>4%</td>\n",
              "    </tr>\n",
              "  </tbody>\n",
              "</table>\n",
              "</div>\n",
              "    <div class=\"colab-df-buttons\">\n",
              "\n",
              "  <div class=\"colab-df-container\">\n",
              "    <button class=\"colab-df-convert\" onclick=\"convertToInteractive('df-3e3db263-ff71-4e82-8c74-b3dd9746a15c')\"\n",
              "            title=\"Convert this dataframe to an interactive table.\"\n",
              "            style=\"display:none;\">\n",
              "\n",
              "  <svg xmlns=\"http://www.w3.org/2000/svg\" height=\"24px\" viewBox=\"0 -960 960 960\">\n",
              "    <path d=\"M120-120v-720h720v720H120Zm60-500h600v-160H180v160Zm220 220h160v-160H400v160Zm0 220h160v-160H400v160ZM180-400h160v-160H180v160Zm440 0h160v-160H620v160ZM180-180h160v-160H180v160Zm440 0h160v-160H620v160Z\"/>\n",
              "  </svg>\n",
              "    </button>\n",
              "\n",
              "  <style>\n",
              "    .colab-df-container {\n",
              "      display:flex;\n",
              "      gap: 12px;\n",
              "    }\n",
              "\n",
              "    .colab-df-convert {\n",
              "      background-color: #E8F0FE;\n",
              "      border: none;\n",
              "      border-radius: 50%;\n",
              "      cursor: pointer;\n",
              "      display: none;\n",
              "      fill: #1967D2;\n",
              "      height: 32px;\n",
              "      padding: 0 0 0 0;\n",
              "      width: 32px;\n",
              "    }\n",
              "\n",
              "    .colab-df-convert:hover {\n",
              "      background-color: #E2EBFA;\n",
              "      box-shadow: 0px 1px 2px rgba(60, 64, 67, 0.3), 0px 1px 3px 1px rgba(60, 64, 67, 0.15);\n",
              "      fill: #174EA6;\n",
              "    }\n",
              "\n",
              "    .colab-df-buttons div {\n",
              "      margin-bottom: 4px;\n",
              "    }\n",
              "\n",
              "    [theme=dark] .colab-df-convert {\n",
              "      background-color: #3B4455;\n",
              "      fill: #D2E3FC;\n",
              "    }\n",
              "\n",
              "    [theme=dark] .colab-df-convert:hover {\n",
              "      background-color: #434B5C;\n",
              "      box-shadow: 0px 1px 3px 1px rgba(0, 0, 0, 0.15);\n",
              "      filter: drop-shadow(0px 1px 2px rgba(0, 0, 0, 0.3));\n",
              "      fill: #FFFFFF;\n",
              "    }\n",
              "  </style>\n",
              "\n",
              "    <script>\n",
              "      const buttonEl =\n",
              "        document.querySelector('#df-3e3db263-ff71-4e82-8c74-b3dd9746a15c button.colab-df-convert');\n",
              "      buttonEl.style.display =\n",
              "        google.colab.kernel.accessAllowed ? 'block' : 'none';\n",
              "\n",
              "      async function convertToInteractive(key) {\n",
              "        const element = document.querySelector('#df-3e3db263-ff71-4e82-8c74-b3dd9746a15c');\n",
              "        const dataTable =\n",
              "          await google.colab.kernel.invokeFunction('convertToInteractive',\n",
              "                                                    [key], {});\n",
              "        if (!dataTable) return;\n",
              "\n",
              "        const docLinkHtml = 'Like what you see? Visit the ' +\n",
              "          '<a target=\"_blank\" href=https://colab.research.google.com/notebooks/data_table.ipynb>data table notebook</a>'\n",
              "          + ' to learn more about interactive tables.';\n",
              "        element.innerHTML = '';\n",
              "        dataTable['output_type'] = 'display_data';\n",
              "        await google.colab.output.renderOutput(dataTable, element);\n",
              "        const docLink = document.createElement('div');\n",
              "        docLink.innerHTML = docLinkHtml;\n",
              "        element.appendChild(docLink);\n",
              "      }\n",
              "    </script>\n",
              "  </div>\n",
              "\n",
              "\n",
              "<div id=\"df-2502bf96-dcc2-4c3c-b284-b0193e090563\">\n",
              "  <button class=\"colab-df-quickchart\" onclick=\"quickchart('df-2502bf96-dcc2-4c3c-b284-b0193e090563')\"\n",
              "            title=\"Suggest charts\"\n",
              "            style=\"display:none;\">\n",
              "\n",
              "<svg xmlns=\"http://www.w3.org/2000/svg\" height=\"24px\"viewBox=\"0 0 24 24\"\n",
              "     width=\"24px\">\n",
              "    <g>\n",
              "        <path d=\"M19 3H5c-1.1 0-2 .9-2 2v14c0 1.1.9 2 2 2h14c1.1 0 2-.9 2-2V5c0-1.1-.9-2-2-2zM9 17H7v-7h2v7zm4 0h-2V7h2v10zm4 0h-2v-4h2v4z\"/>\n",
              "    </g>\n",
              "</svg>\n",
              "  </button>\n",
              "\n",
              "<style>\n",
              "  .colab-df-quickchart {\n",
              "      --bg-color: #E8F0FE;\n",
              "      --fill-color: #1967D2;\n",
              "      --hover-bg-color: #E2EBFA;\n",
              "      --hover-fill-color: #174EA6;\n",
              "      --disabled-fill-color: #AAA;\n",
              "      --disabled-bg-color: #DDD;\n",
              "  }\n",
              "\n",
              "  [theme=dark] .colab-df-quickchart {\n",
              "      --bg-color: #3B4455;\n",
              "      --fill-color: #D2E3FC;\n",
              "      --hover-bg-color: #434B5C;\n",
              "      --hover-fill-color: #FFFFFF;\n",
              "      --disabled-bg-color: #3B4455;\n",
              "      --disabled-fill-color: #666;\n",
              "  }\n",
              "\n",
              "  .colab-df-quickchart {\n",
              "    background-color: var(--bg-color);\n",
              "    border: none;\n",
              "    border-radius: 50%;\n",
              "    cursor: pointer;\n",
              "    display: none;\n",
              "    fill: var(--fill-color);\n",
              "    height: 32px;\n",
              "    padding: 0;\n",
              "    width: 32px;\n",
              "  }\n",
              "\n",
              "  .colab-df-quickchart:hover {\n",
              "    background-color: var(--hover-bg-color);\n",
              "    box-shadow: 0 1px 2px rgba(60, 64, 67, 0.3), 0 1px 3px 1px rgba(60, 64, 67, 0.15);\n",
              "    fill: var(--button-hover-fill-color);\n",
              "  }\n",
              "\n",
              "  .colab-df-quickchart-complete:disabled,\n",
              "  .colab-df-quickchart-complete:disabled:hover {\n",
              "    background-color: var(--disabled-bg-color);\n",
              "    fill: var(--disabled-fill-color);\n",
              "    box-shadow: none;\n",
              "  }\n",
              "\n",
              "  .colab-df-spinner {\n",
              "    border: 2px solid var(--fill-color);\n",
              "    border-color: transparent;\n",
              "    border-bottom-color: var(--fill-color);\n",
              "    animation:\n",
              "      spin 1s steps(1) infinite;\n",
              "  }\n",
              "\n",
              "  @keyframes spin {\n",
              "    0% {\n",
              "      border-color: transparent;\n",
              "      border-bottom-color: var(--fill-color);\n",
              "      border-left-color: var(--fill-color);\n",
              "    }\n",
              "    20% {\n",
              "      border-color: transparent;\n",
              "      border-left-color: var(--fill-color);\n",
              "      border-top-color: var(--fill-color);\n",
              "    }\n",
              "    30% {\n",
              "      border-color: transparent;\n",
              "      border-left-color: var(--fill-color);\n",
              "      border-top-color: var(--fill-color);\n",
              "      border-right-color: var(--fill-color);\n",
              "    }\n",
              "    40% {\n",
              "      border-color: transparent;\n",
              "      border-right-color: var(--fill-color);\n",
              "      border-top-color: var(--fill-color);\n",
              "    }\n",
              "    60% {\n",
              "      border-color: transparent;\n",
              "      border-right-color: var(--fill-color);\n",
              "    }\n",
              "    80% {\n",
              "      border-color: transparent;\n",
              "      border-right-color: var(--fill-color);\n",
              "      border-bottom-color: var(--fill-color);\n",
              "    }\n",
              "    90% {\n",
              "      border-color: transparent;\n",
              "      border-bottom-color: var(--fill-color);\n",
              "    }\n",
              "  }\n",
              "</style>\n",
              "\n",
              "  <script>\n",
              "    async function quickchart(key) {\n",
              "      const quickchartButtonEl =\n",
              "        document.querySelector('#' + key + ' button');\n",
              "      quickchartButtonEl.disabled = true;  // To prevent multiple clicks.\n",
              "      quickchartButtonEl.classList.add('colab-df-spinner');\n",
              "      try {\n",
              "        const charts = await google.colab.kernel.invokeFunction(\n",
              "            'suggestCharts', [key], {});\n",
              "      } catch (error) {\n",
              "        console.error('Error during call to suggestCharts:', error);\n",
              "      }\n",
              "      quickchartButtonEl.classList.remove('colab-df-spinner');\n",
              "      quickchartButtonEl.classList.add('colab-df-quickchart-complete');\n",
              "    }\n",
              "    (() => {\n",
              "      let quickchartButtonEl =\n",
              "        document.querySelector('#df-2502bf96-dcc2-4c3c-b284-b0193e090563 button');\n",
              "      quickchartButtonEl.style.display =\n",
              "        google.colab.kernel.accessAllowed ? 'block' : 'none';\n",
              "    })();\n",
              "  </script>\n",
              "</div>\n",
              "\n",
              "    </div>\n",
              "  </div>\n"
            ],
            "application/vnd.google.colaboratory.intrinsic+json": {
              "type": "dataframe",
              "variable_name": "df",
              "summary": "{\n  \"name\": \"df\",\n  \"rows\": 61,\n  \"fields\": [\n    {\n      \"column\": \"Question\",\n      \"properties\": {\n        \"dtype\": \"string\",\n        \"num_unique_values\": 61,\n        \"samples\": [\n          \"What was Canadian Tire's diluted EPS in Q3 2024?\",\n          \"What was Canadian Tire's revenue in Q3 2024?\",\n          \"When did Canadian Tire's SportChek last show positive comparable sales before Q2 2024?\"\n        ],\n        \"semantic_type\": \"\",\n        \"description\": \"\"\n      }\n    },\n    {\n      \"column\": \"Answer\",\n      \"properties\": {\n        \"dtype\": \"string\",\n        \"num_unique_values\": 55,\n        \"samples\": [\n          \"November 7, 2024\",\n          \"$4,192.9 million\",\n          \"Greg Hicks\"\n        ],\n        \"semantic_type\": \"\",\n        \"description\": \"\"\n      }\n    },\n    {\n      \"column\": \"input_text\",\n      \"properties\": {\n        \"dtype\": \"string\",\n        \"num_unique_values\": 61,\n        \"samples\": [\n          \"What was Canadian Tire's diluted EPS in Q3 2024? Answer:\",\n          \"What was Canadian Tire's revenue in Q3 2024? Answer:\",\n          \"When did Canadian Tire's SportChek last show positive comparable sales before Q2 2024? Answer:\"\n        ],\n        \"semantic_type\": \"\",\n        \"description\": \"\"\n      }\n    },\n    {\n      \"column\": \"output_text\",\n      \"properties\": {\n        \"dtype\": \"string\",\n        \"num_unique_values\": 55,\n        \"samples\": [\n          \"November 7, 2024\",\n          \"$4,192.9 million\",\n          \"Greg Hicks\"\n        ],\n        \"semantic_type\": \"\",\n        \"description\": \"\"\n      }\n    }\n  ]\n}"
            }
          },
          "metadata": {},
          "execution_count": 61
        }
      ]
    },
    {
      "cell_type": "code",
      "source": [
        "df.shape"
      ],
      "metadata": {
        "colab": {
          "base_uri": "https://localhost:8080/"
        },
        "id": "eWfdMbh_VM68",
        "outputId": "8f66f446-0570-471c-dc68-504f3a9d8ba7"
      },
      "execution_count": null,
      "outputs": [
        {
          "output_type": "execute_result",
          "data": {
            "text/plain": [
              "(61, 4)"
            ]
          },
          "metadata": {},
          "execution_count": 3
        }
      ]
    },
    {
      "cell_type": "markdown",
      "source": [
        "## Tokenize"
      ],
      "metadata": {
        "id": "5AvIRTnxJmeI"
      }
    },
    {
      "cell_type": "code",
      "source": [
        "from transformers import GPT2Tokenizer\n",
        "\n",
        "# Load GPT-2 tokenizer\n",
        "tokenizer = GPT2Tokenizer.from_pretrained(\"gpt2\")\n",
        "\n",
        "# Ensure the tokenizer uses the correct padding token\n",
        "tokenizer.pad_token = tokenizer.eos_token\n",
        "\n",
        "def tokenize_function(row):\n",
        "    # Tokenize the input (Question + Answer)\n",
        "    input_encodings = tokenizer(\n",
        "        row[\"input_text\"],\n",
        "        max_length=512,  # Max length for both input and labels\n",
        "        padding=\"max_length\",  # Pad to max length\n",
        "        truncation=True\n",
        "    )\n",
        "\n",
        "    # Tokenize the output (Answer)\n",
        "    target_encodings = tokenizer(\n",
        "        row[\"output_text\"],\n",
        "        max_length=512,\n",
        "        padding=\"max_length\",\n",
        "        truncation=True\n",
        "    )\n",
        "\n",
        "    # Create attention masks manually\n",
        "    attention_mask = [1 if token != tokenizer.pad_token_id else 0 for token in input_encodings[\"input_ids\"]]\n",
        "\n",
        "    # Handle the labels by replacing padding tokens with -100 (so they are ignored in loss calculation)\n",
        "    labels = target_encodings[\"input_ids\"]\n",
        "    labels = [-100 if token == tokenizer.pad_token_id else token for token in labels]\n",
        "\n",
        "    return {\n",
        "        \"input_ids\": input_encodings[\"input_ids\"],\n",
        "        \"attention_mask\": attention_mask,\n",
        "        \"labels\": labels\n",
        "    }\n",
        "\n",
        "\n",
        "\n",
        "# Apply tokenization\n",
        "tokenized_data = df.apply(tokenize_function, axis=1)\n"
      ],
      "metadata": {
        "id": "pyOSrXl4U1le"
      },
      "execution_count": null,
      "outputs": []
    },
    {
      "cell_type": "code",
      "source": [
        "import torch\n",
        "from torch.utils.data import Dataset, DataLoader\n",
        "\n",
        "class QADataset(Dataset):\n",
        "    def __init__(self, data):\n",
        "        self.data = data\n",
        "\n",
        "    def __len__(self):\n",
        "        return len(self.data)\n",
        "\n",
        "    def __getitem__(self, idx):\n",
        "        item = self.data[idx]\n",
        "        return {\n",
        "            \"input_ids\": torch.tensor(item[\"input_ids\"], dtype=torch.long),\n",
        "            \"attention_mask\": torch.tensor(item[\"attention_mask\"], dtype=torch.long),\n",
        "            \"labels\": torch.tensor(item[\"labels\"], dtype=torch.long),\n",
        "        }\n",
        "\n",
        "# Convert to PyTorch Dataset\n",
        "qa_dataset = QADataset(tokenized_data.to_list())\n",
        "train_dataloader = DataLoader(qa_dataset, batch_size=4, shuffle=True)\n"
      ],
      "metadata": {
        "id": "1MkNPT8uVZMu"
      },
      "execution_count": null,
      "outputs": []
    },
    {
      "cell_type": "markdown",
      "source": [
        "### Train GPT2"
      ],
      "metadata": {
        "id": "VKz6FfWxI7Gq"
      }
    },
    {
      "cell_type": "code",
      "source": [
        "from transformers import GPT2LMHeadModel, AdamW\n",
        "\n",
        "# Load GPT-2 model\n",
        "model = GPT2LMHeadModel.from_pretrained(\"gpt2\")\n",
        "model.resize_token_embeddings(len(tokenizer))  # Adjust for added special tokens\n"
      ],
      "metadata": {
        "colab": {
          "base_uri": "https://localhost:8080/"
        },
        "id": "CXG_Ca5PVc_x",
        "outputId": "dda8b13c-4f22-46f7-d0dd-e5eab781f15c"
      },
      "execution_count": null,
      "outputs": [
        {
          "output_type": "execute_result",
          "data": {
            "text/plain": [
              "Embedding(50257, 768)"
            ]
          },
          "metadata": {},
          "execution_count": 6
        }
      ]
    },
    {
      "cell_type": "code",
      "source": [
        "from transformers import AdamW\n",
        "\n",
        "# Fine-tune GPT-2\n",
        "optimizer = AdamW(model.parameters(), lr=5e-5)\n",
        "\n",
        "device = torch.device(\"cuda\" if torch.cuda.is_available() else \"cpu\")\n",
        "model = model.to(device)\n",
        "\n",
        "epochs = 50\n",
        "model.train()\n",
        "\n",
        "for epoch in range(epochs):\n",
        "    total_loss = 0\n",
        "    for batch in train_dataloader:\n",
        "        optimizer.zero_grad()\n",
        "\n",
        "        input_ids = batch[\"input_ids\"].to(device)\n",
        "        attention_mask = batch[\"attention_mask\"].to(device)\n",
        "        labels = batch[\"labels\"].to(device)\n",
        "\n",
        "        # Forward pass\n",
        "        outputs = model(input_ids=input_ids, attention_mask=attention_mask, labels=labels)\n",
        "        loss = outputs.loss\n",
        "        total_loss += loss.item()\n",
        "\n",
        "        # Backward pass and optimization\n",
        "        loss.backward()\n",
        "        optimizer.step()\n",
        "\n",
        "    print(f\"Epoch {epoch + 1}, Loss: {total_loss / len(train_dataloader):.4f}\")\n"
      ],
      "metadata": {
        "colab": {
          "base_uri": "https://localhost:8080/"
        },
        "id": "VxmSWcBMViAj",
        "outputId": "0a0a42cc-8b0f-48ac-9fe9-478b2b6df688"
      },
      "execution_count": null,
      "outputs": [
        {
          "output_type": "stream",
          "name": "stderr",
          "text": [
            "/usr/local/lib/python3.10/dist-packages/transformers/optimization.py:591: FutureWarning: This implementation of AdamW is deprecated and will be removed in a future version. Use the PyTorch implementation torch.optim.AdamW instead, or set `no_deprecation_warning=True` to disable this warning\n",
            "  warnings.warn(\n"
          ]
        },
        {
          "output_type": "stream",
          "name": "stdout",
          "text": [
            "Epoch 1, Loss: nan\n",
            "Epoch 2, Loss: 6.9262\n",
            "Epoch 3, Loss: 6.0481\n",
            "Epoch 4, Loss: 5.3148\n",
            "Epoch 5, Loss: 4.1284\n",
            "Epoch 6, Loss: 3.3457\n",
            "Epoch 7, Loss: 2.9115\n",
            "Epoch 8, Loss: 2.3147\n",
            "Epoch 9, Loss: 2.2102\n",
            "Epoch 10, Loss: 2.1298\n",
            "Epoch 11, Loss: 2.0039\n",
            "Epoch 12, Loss: 1.8622\n",
            "Epoch 13, Loss: 1.7672\n",
            "Epoch 14, Loss: 1.8656\n",
            "Epoch 15, Loss: 1.6995\n",
            "Epoch 16, Loss: 1.7391\n",
            "Epoch 17, Loss: 1.6249\n",
            "Epoch 18, Loss: 1.6641\n",
            "Epoch 19, Loss: 1.6465\n",
            "Epoch 20, Loss: 1.6175\n",
            "Epoch 21, Loss: 1.4680\n",
            "Epoch 22, Loss: 1.5304\n",
            "Epoch 23, Loss: 1.6790\n",
            "Epoch 24, Loss: 1.6963\n",
            "Epoch 25, Loss: 1.3747\n",
            "Epoch 26, Loss: 1.4377\n",
            "Epoch 27, Loss: 1.8053\n",
            "Epoch 28, Loss: 1.5435\n",
            "Epoch 29, Loss: 1.4270\n",
            "Epoch 30, Loss: 1.3294\n",
            "Epoch 31, Loss: 1.3849\n",
            "Epoch 32, Loss: 1.4532\n",
            "Epoch 33, Loss: 1.4678\n",
            "Epoch 34, Loss: 1.5186\n",
            "Epoch 35, Loss: 1.4335\n",
            "Epoch 36, Loss: 1.3240\n",
            "Epoch 37, Loss: 1.3121\n",
            "Epoch 38, Loss: 1.5298\n",
            "Epoch 39, Loss: 1.3827\n",
            "Epoch 40, Loss: 1.2611\n",
            "Epoch 41, Loss: 1.2321\n",
            "Epoch 42, Loss: 1.3062\n",
            "Epoch 43, Loss: 1.2773\n",
            "Epoch 44, Loss: 1.4140\n",
            "Epoch 45, Loss: 1.3123\n",
            "Epoch 46, Loss: 1.5115\n",
            "Epoch 47, Loss: 1.4148\n",
            "Epoch 48, Loss: 1.3192\n",
            "Epoch 49, Loss: 1.2654\n",
            "Epoch 50, Loss: 1.4065\n"
          ]
        }
      ]
    },
    {
      "cell_type": "markdown",
      "source": [
        "## Save model"
      ],
      "metadata": {
        "id": "TPDkgPwKJv64"
      }
    },
    {
      "cell_type": "code",
      "source": [
        "# Save the model and tokenizer\n",
        "model.save_pretrained(\"/content/drive/MyDrive/CanadianTireChatbot/models/fine_tuned_gpt2\")\n",
        "tokenizer.save_pretrained(\"/content/drive/MyDrive/CanadianTireChatbot/models/fine_tuned_gpt2\")\n"
      ],
      "metadata": {
        "colab": {
          "base_uri": "https://localhost:8080/"
        },
        "id": "poVJjWGBWXO_",
        "outputId": "73bdec78-9044-40bd-9b40-3d66990b9a5e"
      },
      "execution_count": null,
      "outputs": [
        {
          "output_type": "execute_result",
          "data": {
            "text/plain": [
              "('/content/drive/MyDrive/CanadianTireChatbot/models/fine_tuned_gpt2/tokenizer_config.json',\n",
              " '/content/drive/MyDrive/CanadianTireChatbot/models/fine_tuned_gpt2/special_tokens_map.json',\n",
              " '/content/drive/MyDrive/CanadianTireChatbot/models/fine_tuned_gpt2/vocab.json',\n",
              " '/content/drive/MyDrive/CanadianTireChatbot/models/fine_tuned_gpt2/merges.txt',\n",
              " '/content/drive/MyDrive/CanadianTireChatbot/models/fine_tuned_gpt2/added_tokens.json')"
            ]
          },
          "metadata": {},
          "execution_count": 8
        }
      ]
    },
    {
      "cell_type": "markdown",
      "source": [
        "## Load model"
      ],
      "metadata": {
        "id": "aPmg2mAqJyJK"
      }
    },
    {
      "cell_type": "code",
      "source": [
        "# Set device\n",
        "device = torch.device(\"cuda\" if torch.cuda.is_available() else \"cpu\")"
      ],
      "metadata": {
        "id": "aVUNp_y_ZLIZ"
      },
      "execution_count": 91,
      "outputs": []
    },
    {
      "cell_type": "code",
      "source": [
        "from transformers import GPT2Tokenizer, GPT2LMHeadModel\n",
        "\n",
        "# Load fine-tuned model and tokenizer\n",
        "model = GPT2LMHeadModel.from_pretrained(\"/content/drive/MyDrive/CanadianTireChatbot/models/fine_tuned_gpt2\")\n",
        "tokenizer = GPT2Tokenizer.from_pretrained(\"/content/drive/MyDrive/CanadianTireChatbot/models/fine_tuned_gpt2\")\n",
        "\n",
        "model.resize_token_embeddings(len(tokenizer))  # Adjust the model for new tokens\n",
        "\n",
        "# Move the model to the device\n",
        "model = model.to(device)"
      ],
      "metadata": {
        "id": "JpHxMcoZWaeT"
      },
      "execution_count": 93,
      "outputs": []
    },
    {
      "cell_type": "markdown",
      "source": [
        "## Test model"
      ],
      "metadata": {
        "id": "BfGkZJ2mJ5Td"
      }
    },
    {
      "cell_type": "code",
      "source": [
        "def generate_answer(question):\n",
        "    input_text = f\"Question: {question} Answer:\"\n",
        "    input_ids = tokenizer.encode(input_text, return_tensors=\"pt\").to(device)\n",
        "\n",
        "    # Manually create attention mask for the input sequence\n",
        "    attention_mask = [1 if token != tokenizer.pad_token_id else 0 for token in input_ids[0]]\n",
        "    attention_mask = torch.tensor([attention_mask]).to(device)\n",
        "\n",
        "    # Generate output with attention mask\n",
        "    output = model.generate(\n",
        "        input_ids=input_ids,\n",
        "        attention_mask=attention_mask,  # Pass the attention mask\n",
        "        max_length=150,\n",
        "        num_beams=5,\n",
        "        early_stopping=True,\n",
        "        pad_token_id=tokenizer.pad_token_id\n",
        "    )\n",
        "\n",
        "    # Decode the generated output\n",
        "    output_text = tokenizer.decode(output[0], skip_special_tokens=True)\n",
        "    answer = output_text.split(\"Answer:\")[-1].strip()\n",
        "    return answer\n",
        "\n",
        "\n",
        "\n",
        "# Example usage\n",
        "question = \"What was Canadian Tire's diluted EPS in Q3 2024?\"\n",
        "answer = generate_answer(question)\n",
        "print(f\"Answer: {answer}\")\n"
      ],
      "metadata": {
        "colab": {
          "base_uri": "https://localhost:8080/"
        },
        "id": "KLTkn7Wvb3XV",
        "outputId": "2e8c58dc-ad80-4bfa-c580-4e649193c3a7"
      },
      "execution_count": 96,
      "outputs": [
        {
          "output_type": "stream",
          "name": "stderr",
          "text": [
            "Setting `pad_token_id` to `eos_token_id`:None for open-end generation.\n"
          ]
        },
        {
          "output_type": "stream",
          "name": "stdout",
          "text": [
            "Answer: Canadian Tire\n"
          ]
        }
      ]
    },
    {
      "cell_type": "markdown",
      "source": [
        "##### Random question from the dataset"
      ],
      "metadata": {
        "id": "Eaz-2J3nb3aU"
      }
    },
    {
      "cell_type": "code",
      "source": [
        "import random\n",
        "\n",
        "for i in range(5):\n",
        "  entry = random.choice(dataset)\n",
        "  context = entry['context']\n",
        "  question = entry['question']\n",
        "  r_answer = entry['answers'][0]['text']\n",
        "\n",
        "  print(f\"Question: {question}\")\n",
        "  print(f\"Context: {context}\")\n",
        "  answer = generate_answer(question)\n",
        "  print(f\"Answer: {answer}\")\n",
        "  print(f\"Expected answer: {r_answer}\")\n",
        "  print(\"\\n\")"
      ],
      "metadata": {
        "colab": {
          "base_uri": "https://localhost:8080/"
        },
        "outputId": "0ad4c330-5244-4554-dac2-1d4341849342",
        "id": "FH8vh8LXb3aU"
      },
      "execution_count": 97,
      "outputs": [
        {
          "output_type": "stream",
          "name": "stderr",
          "text": [
            "Setting `pad_token_id` to `eos_token_id`:None for open-end generation.\n"
          ]
        },
        {
          "output_type": "stream",
          "name": "stdout",
          "text": [
            "Question: What is the expected range for full-year operating capital expenditures in 2024?\n",
            "Context: Total capital expenditures were $195.1 million in the quarter, compared to $176.4 million in Q3 2023. Full-year operating capital expenditures are expected to range between $475 million and $525 million.\n"
          ]
        },
        {
          "output_type": "stream",
          "name": "stderr",
          "text": [
            "Setting `pad_token_id` to `eos_token_id`:None for open-end generation.\n"
          ]
        },
        {
          "output_type": "stream",
          "name": "stdout",
          "text": [
            "Answer: The expected range for full-year operating capital expenditures in 2030 is $1.2 billion to $1.5 billion.\n",
            "\n",
            "Question: What is the expected range for full-year operating\n",
            "Expected answer: $475 million and $525 million\n",
            "\n",
            "\n",
            "Question: How many consecutive years has Canadian Tire increased its annual dividend?\n",
            "Context: The Company increased its annual dividend for the 15th consecutive year, to $7.10 per Common Voting and Class A Non-Voting Share.\n"
          ]
        },
        {
          "output_type": "stream",
          "name": "stderr",
          "text": [
            "Setting `pad_token_id` to `eos_token_id`:None for open-end generation.\n"
          ]
        },
        {
          "output_type": "stream",
          "name": "stdout",
          "text": [
            "Answer: Canadian Tire has increased its dividend every year since its inception.\n",
            "Expected answer: 15th\n",
            "\n",
            "\n",
            "Question: What is the annual dividend per share for Canadian Tire in 2024?\n",
            "Context: company increased annual dividend 15th consecutive year 710 per common voting class nonvoting share share increase approximately 14 last year november 6 2024 company board director declared dividend 1775 per share payable march 1 2025 shareholder record january 31 2025 dividend considered eligible dividend\n"
          ]
        },
        {
          "output_type": "stream",
          "name": "stderr",
          "text": [
            "Setting `pad_token_id` to `eos_token_id`:None for open-end generation.\n"
          ]
        },
        {
          "output_type": "stream",
          "name": "stdout",
          "text": [
            "Answer: The dividend per share for Canadian Tire in 2035 will be $0.50.\n",
            "\n",
            "Question: What is the annual dividend per\n",
            "Expected answer: 710\n",
            "\n",
            "\n",
            "Question: By what percentage did GAAR increase in Q3 2024?\n",
            "Context: Gross Average Accounts Receivable (GAAR) was up 3.0%, mainly as a result of higher average account balances.\n"
          ]
        },
        {
          "output_type": "stream",
          "name": "stderr",
          "text": [
            "Setting `pad_token_id` to `eos_token_id`:None for open-end generation.\n"
          ]
        },
        {
          "output_type": "stream",
          "name": "stdout",
          "text": [
            "Answer: In Q\n",
            "Expected answer: 3.0%\n",
            "\n",
            "\n",
            "Question: How many retail and gasoline outlets does Canadian Tire operate?\n",
            "Context: The Company has close to 1,700 retail and gasoline outlets supported by tens of thousands of employees.\n",
            "Answer: Canadian Tire operates more than 1,\n",
            "Expected answer: close to 1,700\n",
            "\n",
            "\n"
          ]
        }
      ]
    },
    {
      "cell_type": "markdown",
      "source": [
        "## Evaluate"
      ],
      "metadata": {
        "id": "mygv5V3MBqp0"
      }
    },
    {
      "cell_type": "code",
      "source": [
        "predictions = []\n",
        "references = []\n",
        "for entry in test_dataset:\n",
        "  context = entry['context']\n",
        "  question = entry['question']\n",
        "  answer = entry['answers'][0]['text']\n",
        "\n",
        "  predictions.append(generate_answer(question))\n",
        "  references.append(answer)\n",
        "\n",
        "print(predictions)\n",
        "print(references)\n"
      ],
      "metadata": {
        "colab": {
          "base_uri": "https://localhost:8080/"
        },
        "outputId": "a0a5e50e-aebf-4a2a-954e-718bd49494be",
        "id": "wHfeHxFABqp1"
      },
      "execution_count": 99,
      "outputs": [
        {
          "output_type": "stream",
          "name": "stderr",
          "text": [
            "Setting `pad_token_id` to `eos_token_id`:None for open-end generation.\n",
            "Setting `pad_token_id` to `eos_token_id`:None for open-end generation.\n",
            "Setting `pad_token_id` to `eos_token_id`:None for open-end generation.\n"
          ]
        },
        {
          "output_type": "stream",
          "name": "stdout",
          "text": [
            "['', 'We are seeking a government that will stand up for the middle class. We are seeking a government that will stand up for the middle class. We are seeking a government that will stand up for the middle class. We are seeking a government that will stand up for the middle class. We are seeking a government that will stand up for the middle class. We are seeking a government that will stand up for the middle class. We are seeking a government that will stand up for the middle class. We are seeking a government that will stand up for the middle class. We are seeking a government that will stand up for the middle class. We are seeking a government that will stand up for the middle class. We', 'Canadian Tire Corporation is a subsidiary of Canadian Imperial Bank of Commerce. Canadian Tire Corporation is a subsidiary of Canadian Imperial Bank of Commerce. Canadian Tire Corporation is a subsidiary of Canadian Imperial Bank of Commerce. Canadian Tire Corporation is a subsidiary of Canadian Imperial Bank of Commerce. Canadian Tire Corporation is a subsidiary of Canadian Imperial Bank of Commerce. Canadian Tire Corporation is a subsidiary of Canadian Imperial Bank of Commerce. Canadian Tire Corporation is a subsidiary of Canadian Imperial Bank of Commerce. Canadian Tire Corporation is a subsidiary of Canadian Imperial Bank of Commerce. Canadian Tire Corporation is a subsidiary of Canadian Imperial Bank of Commerce. Canadian Tire Corporation is a subsidiary of Canadian Imperial Bank of Commerce. Canadian Tire Corporation is a subsidiary of Canadian Imperial Bank']\n",
            "['1648 million', 'Canadians are seeking value and finding it through Triangle Rewards', 'is a group of companies that includes a Retail segment, a Financial Services division']\n"
          ]
        }
      ]
    },
    {
      "cell_type": "code",
      "source": [
        " metrics = evaluate_metrics(predictions, references)\n",
        "print(\"Evaluation Metrics:\", metrics)"
      ],
      "metadata": {
        "colab": {
          "base_uri": "https://localhost:8080/",
          "height": 489,
          "referenced_widgets": [
            "d00bba04a86a47e5ac7e2b9bb86d2a05",
            "a9971281498e40a6881f2f5604286280",
            "551670c206d74ab7b6bb043bbf657795",
            "3b34ae259c2a488b8bdc0a1a26cfe902",
            "d032e72f3f6c412481ecd3466ec065fe",
            "dfcf95d3b11448018aa3b73fa1e7304d",
            "a36360512b6246e5859aeffd82472b67",
            "8d36eb06b29e42c092d820324d82526d",
            "891584e05ed4409291f46a8682602361",
            "d8804fd386a24c2daf5be288308bca8f",
            "267b05f6f76a4ebc80d09bc378d86948",
            "bc5cc5af52004037a38957c7bbe4376d",
            "fd162e07f4c442859d3339b64314d9eb",
            "afc7230d51d8418eb5b9c61507399b31",
            "c8cd9c83e57c4a9088b288915f8c65f5",
            "c221f0cfe3a344f69164c785f9cd9b75",
            "bf11c93adb1f48d683401c2536fd3aea",
            "7d430e6676704cf48abdd73597a7554d",
            "f158da09558047859b7147fe09eaf5f9",
            "8f94d3d065dc4960976b24bf233845dd",
            "4319830329b54869834d7541aadcb292",
            "f45da98bd11c4611b4c17715e2d2d9fa",
            "bd570c5749544c8f9c04e132298be9ae",
            "a7dceea250df496dbcbddf25377ae953",
            "122d8f70ef5549f4a8b59b6d821cc09f",
            "030ce1aa5eb942b69462b49255d896d7",
            "ceaeac1fe0394cd7873e2bcc66c7adba",
            "215d29c7d75448b293ad490fd5ef3bff",
            "5a24460cd06145e9a6931e5043ee9885",
            "d09e8db88039441f998e0d82121b9038",
            "e1c5c3ec6e3c49a299ce328b0396f7d4",
            "a4477a2cbb314ff39043abda019531c3",
            "fbdc361dbb8b41a5bad63e1f22c0761b",
            "c495cee415504d6c805fd8517aec1b22",
            "274c25d29af749a99b57978847467ab9",
            "85820fc5abd14aa792ad111231827b6f",
            "640dbb13c3574f179e0bba2b8f9d62ce",
            "f5601b8fb60d421bb4819d39cd69f422",
            "294b465efc184846b2928ec6a36083ab",
            "fe828881a1cc476aa5bc1c7024530a54",
            "c350054a70334c6bb430e5e3b85fe5b2",
            "5ab0f7d8cc8f4e329620308eceb01500",
            "3a129a769ae14f809f6d8e17e35803d6",
            "8d92905296644aa3841c3220ffd81228",
            "8000287f8cc84a43964d0466ff8157ad",
            "46a714a2acfe4aa681d8823c5360f72a",
            "bb87ef9f65c44791a013519551c1f4a7",
            "11576640b4fa4cd2be1a388a3bddc041",
            "0991e12b155d45c2b775ca3dc6da042e",
            "6298f7aa8b6647d5bff87ab72501bea9",
            "7aa82d6fce96473e86fa6ce76486cd84",
            "9fc5a81947694254a637a149ca9f9bdf",
            "f3cb8c9a83cc4105870d4fbb287d0d33",
            "8b1bf189182748c481b43836c3b7cdbe",
            "d38ca94ff4eb42a4b2fc2cf830e07f45",
            "4fbcb6a1ce464216a336da7d9155d64a",
            "ec6b9bd1ede34c45ab14e15142e8bb30",
            "147016e82a0841e2b50ecdc015085e13",
            "ab286c5d79374600bc98e5b6739b62c4",
            "e03e3b8411cc4ab29967933dfbe6864e",
            "6f2a802bdbc34822a84330fd82fb8363",
            "e099dffcab0549f184b21300d9d65389",
            "7f06f8e873a544909dc0bc24da8dea0c",
            "e6ed7df5a8e54607b49b114b8ddf9ac6",
            "447ae6abdf914e1da88ced430a896f7d",
            "1ac4bf11f8f24634b7485235fb442664"
          ]
        },
        "outputId": "0874fe29-6ec5-4d69-f690-8e7b851ede04",
        "id": "mkAmHHhGBqp1"
      },
      "execution_count": null,
      "outputs": [
        {
          "output_type": "stream",
          "name": "stdout",
          "text": [
            "calculating scores...\n",
            "computing bert embedding.\n"
          ]
        },
        {
          "output_type": "display_data",
          "data": {
            "text/plain": [
              "  0%|          | 0/1 [00:00<?, ?it/s]"
            ],
            "application/vnd.jupyter.widget-view+json": {
              "version_major": 2,
              "version_minor": 0,
              "model_id": "d00bba04a86a47e5ac7e2b9bb86d2a05"
            }
          },
          "metadata": {}
        },
        {
          "output_type": "stream",
          "name": "stdout",
          "text": [
            "computing greedy matching.\n"
          ]
        },
        {
          "output_type": "display_data",
          "data": {
            "text/plain": [
              "  0%|          | 0/1 [00:00<?, ?it/s]"
            ],
            "application/vnd.jupyter.widget-view+json": {
              "version_major": 2,
              "version_minor": 0,
              "model_id": "bc5cc5af52004037a38957c7bbe4376d"
            }
          },
          "metadata": {}
        },
        {
          "output_type": "stream",
          "name": "stdout",
          "text": [
            "done in 0.05 seconds, 21.29 sentences/sec\n"
          ]
        },
        {
          "output_type": "stream",
          "name": "stderr",
          "text": [
            "Warning: Empty candidate sentence detected; setting raw BERTscores to 0.\n"
          ]
        },
        {
          "output_type": "stream",
          "name": "stdout",
          "text": [
            "calculating scores...\n",
            "computing bert embedding.\n"
          ]
        },
        {
          "output_type": "display_data",
          "data": {
            "text/plain": [
              "  0%|          | 0/1 [00:00<?, ?it/s]"
            ],
            "application/vnd.jupyter.widget-view+json": {
              "version_major": 2,
              "version_minor": 0,
              "model_id": "bd570c5749544c8f9c04e132298be9ae"
            }
          },
          "metadata": {}
        },
        {
          "output_type": "stream",
          "name": "stdout",
          "text": [
            "computing greedy matching.\n"
          ]
        },
        {
          "output_type": "display_data",
          "data": {
            "text/plain": [
              "  0%|          | 0/1 [00:00<?, ?it/s]"
            ],
            "application/vnd.jupyter.widget-view+json": {
              "version_major": 2,
              "version_minor": 0,
              "model_id": "c495cee415504d6c805fd8517aec1b22"
            }
          },
          "metadata": {}
        },
        {
          "output_type": "stream",
          "name": "stdout",
          "text": [
            "done in 0.06 seconds, 18.17 sentences/sec\n"
          ]
        },
        {
          "output_type": "stream",
          "name": "stderr",
          "text": [
            "Warning: Empty candidate sentence detected; setting raw BERTscores to 0.\n"
          ]
        },
        {
          "output_type": "stream",
          "name": "stdout",
          "text": [
            "calculating scores...\n",
            "computing bert embedding.\n"
          ]
        },
        {
          "output_type": "display_data",
          "data": {
            "text/plain": [
              "  0%|          | 0/1 [00:00<?, ?it/s]"
            ],
            "application/vnd.jupyter.widget-view+json": {
              "version_major": 2,
              "version_minor": 0,
              "model_id": "8000287f8cc84a43964d0466ff8157ad"
            }
          },
          "metadata": {}
        },
        {
          "output_type": "stream",
          "name": "stdout",
          "text": [
            "computing greedy matching.\n"
          ]
        },
        {
          "output_type": "display_data",
          "data": {
            "text/plain": [
              "  0%|          | 0/1 [00:00<?, ?it/s]"
            ],
            "application/vnd.jupyter.widget-view+json": {
              "version_major": 2,
              "version_minor": 0,
              "model_id": "4fbcb6a1ce464216a336da7d9155d64a"
            }
          },
          "metadata": {}
        },
        {
          "output_type": "stream",
          "name": "stdout",
          "text": [
            "done in 0.04 seconds, 23.77 sentences/sec\n",
            "Evaluation Metrics: {'ROUGE-1': 0.041666666666666664, 'ROUGE-2': 0.0, 'ROUGE-L': 0.041666666666666664, 'METEOR': 0.0121654501216545, 'BERT-Precision': 0.23449834187825522, 'BERT-Recall': 0.14554868141810098, 'BERT-F1': 0.1796142260233561}\n"
          ]
        }
      ]
    }
  ],
  "metadata": {
    "accelerator": "GPU",
    "colab": {
      "gpuType": "L4",
      "provenance": [],
      "machine_shape": "hm",
      "toc_visible": true
    },
    "kernelspec": {
      "display_name": "Python 3",
      "name": "python3"
    },
    "language_info": {
      "codemirror_mode": {
        "name": "ipython",
        "version": 3
      },
      "file_extension": ".py",
      "mimetype": "text/x-python",
      "name": "python",
      "nbconvert_exporter": "python",
      "pygments_lexer": "ipython3",
      "version": "3.11.4"
    },
    "widgets": {
      "application/vnd.jupyter.widget-state+json": {
        "778790fe057c418a99860e681c0edb29": {
          "model_module": "@jupyter-widgets/controls",
          "model_name": "HBoxModel",
          "model_module_version": "1.5.0",
          "state": {
            "_dom_classes": [],
            "_model_module": "@jupyter-widgets/controls",
            "_model_module_version": "1.5.0",
            "_model_name": "HBoxModel",
            "_view_count": null,
            "_view_module": "@jupyter-widgets/controls",
            "_view_module_version": "1.5.0",
            "_view_name": "HBoxView",
            "box_style": "",
            "children": [
              "IPY_MODEL_4e6350ee730943b2a078e143e30de43e",
              "IPY_MODEL_427aa7df758249a494849d21f1932d3b",
              "IPY_MODEL_a8977f846c734625bf419be6e653e86c"
            ],
            "layout": "IPY_MODEL_9c81cf58f5d640d2b476131667127c86"
          }
        },
        "4e6350ee730943b2a078e143e30de43e": {
          "model_module": "@jupyter-widgets/controls",
          "model_name": "HTMLModel",
          "model_module_version": "1.5.0",
          "state": {
            "_dom_classes": [],
            "_model_module": "@jupyter-widgets/controls",
            "_model_module_version": "1.5.0",
            "_model_name": "HTMLModel",
            "_view_count": null,
            "_view_module": "@jupyter-widgets/controls",
            "_view_module_version": "1.5.0",
            "_view_name": "HTMLView",
            "description": "",
            "description_tooltip": null,
            "layout": "IPY_MODEL_fd8effb805284b11a77f9fec1a9dd455",
            "placeholder": "​",
            "style": "IPY_MODEL_9ad84839792645529c9f70e7a793f406",
            "value": "model.safetensors: 100%"
          }
        },
        "427aa7df758249a494849d21f1932d3b": {
          "model_module": "@jupyter-widgets/controls",
          "model_name": "FloatProgressModel",
          "model_module_version": "1.5.0",
          "state": {
            "_dom_classes": [],
            "_model_module": "@jupyter-widgets/controls",
            "_model_module_version": "1.5.0",
            "_model_name": "FloatProgressModel",
            "_view_count": null,
            "_view_module": "@jupyter-widgets/controls",
            "_view_module_version": "1.5.0",
            "_view_name": "ProgressView",
            "bar_style": "success",
            "description": "",
            "description_tooltip": null,
            "layout": "IPY_MODEL_20eb2e91104d4ae384ae0c70e2dd1d78",
            "max": 1340622760,
            "min": 0,
            "orientation": "horizontal",
            "style": "IPY_MODEL_ec7016a2c9f84964a37c212215275244",
            "value": 1340622760
          }
        },
        "a8977f846c734625bf419be6e653e86c": {
          "model_module": "@jupyter-widgets/controls",
          "model_name": "HTMLModel",
          "model_module_version": "1.5.0",
          "state": {
            "_dom_classes": [],
            "_model_module": "@jupyter-widgets/controls",
            "_model_module_version": "1.5.0",
            "_model_name": "HTMLModel",
            "_view_count": null,
            "_view_module": "@jupyter-widgets/controls",
            "_view_module_version": "1.5.0",
            "_view_name": "HTMLView",
            "description": "",
            "description_tooltip": null,
            "layout": "IPY_MODEL_9fa958a33df548fda21232012a7fa0e6",
            "placeholder": "​",
            "style": "IPY_MODEL_579b40b604964e50ab668ce02998e271",
            "value": " 1.34G/1.34G [00:04&lt;00:00, 213MB/s]"
          }
        },
        "9c81cf58f5d640d2b476131667127c86": {
          "model_module": "@jupyter-widgets/base",
          "model_name": "LayoutModel",
          "model_module_version": "1.2.0",
          "state": {
            "_model_module": "@jupyter-widgets/base",
            "_model_module_version": "1.2.0",
            "_model_name": "LayoutModel",
            "_view_count": null,
            "_view_module": "@jupyter-widgets/base",
            "_view_module_version": "1.2.0",
            "_view_name": "LayoutView",
            "align_content": null,
            "align_items": null,
            "align_self": null,
            "border": null,
            "bottom": null,
            "display": null,
            "flex": null,
            "flex_flow": null,
            "grid_area": null,
            "grid_auto_columns": null,
            "grid_auto_flow": null,
            "grid_auto_rows": null,
            "grid_column": null,
            "grid_gap": null,
            "grid_row": null,
            "grid_template_areas": null,
            "grid_template_columns": null,
            "grid_template_rows": null,
            "height": null,
            "justify_content": null,
            "justify_items": null,
            "left": null,
            "margin": null,
            "max_height": null,
            "max_width": null,
            "min_height": null,
            "min_width": null,
            "object_fit": null,
            "object_position": null,
            "order": null,
            "overflow": null,
            "overflow_x": null,
            "overflow_y": null,
            "padding": null,
            "right": null,
            "top": null,
            "visibility": null,
            "width": null
          }
        },
        "fd8effb805284b11a77f9fec1a9dd455": {
          "model_module": "@jupyter-widgets/base",
          "model_name": "LayoutModel",
          "model_module_version": "1.2.0",
          "state": {
            "_model_module": "@jupyter-widgets/base",
            "_model_module_version": "1.2.0",
            "_model_name": "LayoutModel",
            "_view_count": null,
            "_view_module": "@jupyter-widgets/base",
            "_view_module_version": "1.2.0",
            "_view_name": "LayoutView",
            "align_content": null,
            "align_items": null,
            "align_self": null,
            "border": null,
            "bottom": null,
            "display": null,
            "flex": null,
            "flex_flow": null,
            "grid_area": null,
            "grid_auto_columns": null,
            "grid_auto_flow": null,
            "grid_auto_rows": null,
            "grid_column": null,
            "grid_gap": null,
            "grid_row": null,
            "grid_template_areas": null,
            "grid_template_columns": null,
            "grid_template_rows": null,
            "height": null,
            "justify_content": null,
            "justify_items": null,
            "left": null,
            "margin": null,
            "max_height": null,
            "max_width": null,
            "min_height": null,
            "min_width": null,
            "object_fit": null,
            "object_position": null,
            "order": null,
            "overflow": null,
            "overflow_x": null,
            "overflow_y": null,
            "padding": null,
            "right": null,
            "top": null,
            "visibility": null,
            "width": null
          }
        },
        "9ad84839792645529c9f70e7a793f406": {
          "model_module": "@jupyter-widgets/controls",
          "model_name": "DescriptionStyleModel",
          "model_module_version": "1.5.0",
          "state": {
            "_model_module": "@jupyter-widgets/controls",
            "_model_module_version": "1.5.0",
            "_model_name": "DescriptionStyleModel",
            "_view_count": null,
            "_view_module": "@jupyter-widgets/base",
            "_view_module_version": "1.2.0",
            "_view_name": "StyleView",
            "description_width": ""
          }
        },
        "20eb2e91104d4ae384ae0c70e2dd1d78": {
          "model_module": "@jupyter-widgets/base",
          "model_name": "LayoutModel",
          "model_module_version": "1.2.0",
          "state": {
            "_model_module": "@jupyter-widgets/base",
            "_model_module_version": "1.2.0",
            "_model_name": "LayoutModel",
            "_view_count": null,
            "_view_module": "@jupyter-widgets/base",
            "_view_module_version": "1.2.0",
            "_view_name": "LayoutView",
            "align_content": null,
            "align_items": null,
            "align_self": null,
            "border": null,
            "bottom": null,
            "display": null,
            "flex": null,
            "flex_flow": null,
            "grid_area": null,
            "grid_auto_columns": null,
            "grid_auto_flow": null,
            "grid_auto_rows": null,
            "grid_column": null,
            "grid_gap": null,
            "grid_row": null,
            "grid_template_areas": null,
            "grid_template_columns": null,
            "grid_template_rows": null,
            "height": null,
            "justify_content": null,
            "justify_items": null,
            "left": null,
            "margin": null,
            "max_height": null,
            "max_width": null,
            "min_height": null,
            "min_width": null,
            "object_fit": null,
            "object_position": null,
            "order": null,
            "overflow": null,
            "overflow_x": null,
            "overflow_y": null,
            "padding": null,
            "right": null,
            "top": null,
            "visibility": null,
            "width": null
          }
        },
        "ec7016a2c9f84964a37c212215275244": {
          "model_module": "@jupyter-widgets/controls",
          "model_name": "ProgressStyleModel",
          "model_module_version": "1.5.0",
          "state": {
            "_model_module": "@jupyter-widgets/controls",
            "_model_module_version": "1.5.0",
            "_model_name": "ProgressStyleModel",
            "_view_count": null,
            "_view_module": "@jupyter-widgets/base",
            "_view_module_version": "1.2.0",
            "_view_name": "StyleView",
            "bar_color": null,
            "description_width": ""
          }
        },
        "9fa958a33df548fda21232012a7fa0e6": {
          "model_module": "@jupyter-widgets/base",
          "model_name": "LayoutModel",
          "model_module_version": "1.2.0",
          "state": {
            "_model_module": "@jupyter-widgets/base",
            "_model_module_version": "1.2.0",
            "_model_name": "LayoutModel",
            "_view_count": null,
            "_view_module": "@jupyter-widgets/base",
            "_view_module_version": "1.2.0",
            "_view_name": "LayoutView",
            "align_content": null,
            "align_items": null,
            "align_self": null,
            "border": null,
            "bottom": null,
            "display": null,
            "flex": null,
            "flex_flow": null,
            "grid_area": null,
            "grid_auto_columns": null,
            "grid_auto_flow": null,
            "grid_auto_rows": null,
            "grid_column": null,
            "grid_gap": null,
            "grid_row": null,
            "grid_template_areas": null,
            "grid_template_columns": null,
            "grid_template_rows": null,
            "height": null,
            "justify_content": null,
            "justify_items": null,
            "left": null,
            "margin": null,
            "max_height": null,
            "max_width": null,
            "min_height": null,
            "min_width": null,
            "object_fit": null,
            "object_position": null,
            "order": null,
            "overflow": null,
            "overflow_x": null,
            "overflow_y": null,
            "padding": null,
            "right": null,
            "top": null,
            "visibility": null,
            "width": null
          }
        },
        "579b40b604964e50ab668ce02998e271": {
          "model_module": "@jupyter-widgets/controls",
          "model_name": "DescriptionStyleModel",
          "model_module_version": "1.5.0",
          "state": {
            "_model_module": "@jupyter-widgets/controls",
            "_model_module_version": "1.5.0",
            "_model_name": "DescriptionStyleModel",
            "_view_count": null,
            "_view_module": "@jupyter-widgets/base",
            "_view_module_version": "1.2.0",
            "_view_name": "StyleView",
            "description_width": ""
          }
        },
        "bb5fcfa8f49348d598b7b5c4eac53699": {
          "model_module": "@jupyter-widgets/controls",
          "model_name": "HBoxModel",
          "model_module_version": "1.5.0",
          "state": {
            "_dom_classes": [],
            "_model_module": "@jupyter-widgets/controls",
            "_model_module_version": "1.5.0",
            "_model_name": "HBoxModel",
            "_view_count": null,
            "_view_module": "@jupyter-widgets/controls",
            "_view_module_version": "1.5.0",
            "_view_name": "HBoxView",
            "box_style": "",
            "children": [
              "IPY_MODEL_182b73803c184fe2a4700f1ec21bf5ee",
              "IPY_MODEL_761612b3c8e84504934d3a7237415aef",
              "IPY_MODEL_b5a0ca5a4b5c40678b74e188bed33087"
            ],
            "layout": "IPY_MODEL_8ff7684f11334fc190f3365f1bb43fb8"
          }
        },
        "182b73803c184fe2a4700f1ec21bf5ee": {
          "model_module": "@jupyter-widgets/controls",
          "model_name": "HTMLModel",
          "model_module_version": "1.5.0",
          "state": {
            "_dom_classes": [],
            "_model_module": "@jupyter-widgets/controls",
            "_model_module_version": "1.5.0",
            "_model_name": "HTMLModel",
            "_view_count": null,
            "_view_module": "@jupyter-widgets/controls",
            "_view_module_version": "1.5.0",
            "_view_name": "HTMLView",
            "description": "",
            "description_tooltip": null,
            "layout": "IPY_MODEL_bc87f1e2511b49c9b0e7c0fccec8bca7",
            "placeholder": "​",
            "style": "IPY_MODEL_01b3c493cd854adfa76a883b4719056c",
            "value": "100%"
          }
        },
        "761612b3c8e84504934d3a7237415aef": {
          "model_module": "@jupyter-widgets/controls",
          "model_name": "FloatProgressModel",
          "model_module_version": "1.5.0",
          "state": {
            "_dom_classes": [],
            "_model_module": "@jupyter-widgets/controls",
            "_model_module_version": "1.5.0",
            "_model_name": "FloatProgressModel",
            "_view_count": null,
            "_view_module": "@jupyter-widgets/controls",
            "_view_module_version": "1.5.0",
            "_view_name": "ProgressView",
            "bar_style": "success",
            "description": "",
            "description_tooltip": null,
            "layout": "IPY_MODEL_89642ee4c1f043779ef483e5e2b06397",
            "max": 1,
            "min": 0,
            "orientation": "horizontal",
            "style": "IPY_MODEL_501355b0ca014cf78f507c2f8f8ebcad",
            "value": 1
          }
        },
        "b5a0ca5a4b5c40678b74e188bed33087": {
          "model_module": "@jupyter-widgets/controls",
          "model_name": "HTMLModel",
          "model_module_version": "1.5.0",
          "state": {
            "_dom_classes": [],
            "_model_module": "@jupyter-widgets/controls",
            "_model_module_version": "1.5.0",
            "_model_name": "HTMLModel",
            "_view_count": null,
            "_view_module": "@jupyter-widgets/controls",
            "_view_module_version": "1.5.0",
            "_view_name": "HTMLView",
            "description": "",
            "description_tooltip": null,
            "layout": "IPY_MODEL_e51afcb4e0a949c2a3c599e82ad6593b",
            "placeholder": "​",
            "style": "IPY_MODEL_be0a9a1d6f6741e5b2c5f3e7b0e57337",
            "value": " 1/1 [00:00&lt;00:00, 43.17it/s]"
          }
        },
        "8ff7684f11334fc190f3365f1bb43fb8": {
          "model_module": "@jupyter-widgets/base",
          "model_name": "LayoutModel",
          "model_module_version": "1.2.0",
          "state": {
            "_model_module": "@jupyter-widgets/base",
            "_model_module_version": "1.2.0",
            "_model_name": "LayoutModel",
            "_view_count": null,
            "_view_module": "@jupyter-widgets/base",
            "_view_module_version": "1.2.0",
            "_view_name": "LayoutView",
            "align_content": null,
            "align_items": null,
            "align_self": null,
            "border": null,
            "bottom": null,
            "display": null,
            "flex": null,
            "flex_flow": null,
            "grid_area": null,
            "grid_auto_columns": null,
            "grid_auto_flow": null,
            "grid_auto_rows": null,
            "grid_column": null,
            "grid_gap": null,
            "grid_row": null,
            "grid_template_areas": null,
            "grid_template_columns": null,
            "grid_template_rows": null,
            "height": null,
            "justify_content": null,
            "justify_items": null,
            "left": null,
            "margin": null,
            "max_height": null,
            "max_width": null,
            "min_height": null,
            "min_width": null,
            "object_fit": null,
            "object_position": null,
            "order": null,
            "overflow": null,
            "overflow_x": null,
            "overflow_y": null,
            "padding": null,
            "right": null,
            "top": null,
            "visibility": null,
            "width": null
          }
        },
        "bc87f1e2511b49c9b0e7c0fccec8bca7": {
          "model_module": "@jupyter-widgets/base",
          "model_name": "LayoutModel",
          "model_module_version": "1.2.0",
          "state": {
            "_model_module": "@jupyter-widgets/base",
            "_model_module_version": "1.2.0",
            "_model_name": "LayoutModel",
            "_view_count": null,
            "_view_module": "@jupyter-widgets/base",
            "_view_module_version": "1.2.0",
            "_view_name": "LayoutView",
            "align_content": null,
            "align_items": null,
            "align_self": null,
            "border": null,
            "bottom": null,
            "display": null,
            "flex": null,
            "flex_flow": null,
            "grid_area": null,
            "grid_auto_columns": null,
            "grid_auto_flow": null,
            "grid_auto_rows": null,
            "grid_column": null,
            "grid_gap": null,
            "grid_row": null,
            "grid_template_areas": null,
            "grid_template_columns": null,
            "grid_template_rows": null,
            "height": null,
            "justify_content": null,
            "justify_items": null,
            "left": null,
            "margin": null,
            "max_height": null,
            "max_width": null,
            "min_height": null,
            "min_width": null,
            "object_fit": null,
            "object_position": null,
            "order": null,
            "overflow": null,
            "overflow_x": null,
            "overflow_y": null,
            "padding": null,
            "right": null,
            "top": null,
            "visibility": null,
            "width": null
          }
        },
        "01b3c493cd854adfa76a883b4719056c": {
          "model_module": "@jupyter-widgets/controls",
          "model_name": "DescriptionStyleModel",
          "model_module_version": "1.5.0",
          "state": {
            "_model_module": "@jupyter-widgets/controls",
            "_model_module_version": "1.5.0",
            "_model_name": "DescriptionStyleModel",
            "_view_count": null,
            "_view_module": "@jupyter-widgets/base",
            "_view_module_version": "1.2.0",
            "_view_name": "StyleView",
            "description_width": ""
          }
        },
        "89642ee4c1f043779ef483e5e2b06397": {
          "model_module": "@jupyter-widgets/base",
          "model_name": "LayoutModel",
          "model_module_version": "1.2.0",
          "state": {
            "_model_module": "@jupyter-widgets/base",
            "_model_module_version": "1.2.0",
            "_model_name": "LayoutModel",
            "_view_count": null,
            "_view_module": "@jupyter-widgets/base",
            "_view_module_version": "1.2.0",
            "_view_name": "LayoutView",
            "align_content": null,
            "align_items": null,
            "align_self": null,
            "border": null,
            "bottom": null,
            "display": null,
            "flex": null,
            "flex_flow": null,
            "grid_area": null,
            "grid_auto_columns": null,
            "grid_auto_flow": null,
            "grid_auto_rows": null,
            "grid_column": null,
            "grid_gap": null,
            "grid_row": null,
            "grid_template_areas": null,
            "grid_template_columns": null,
            "grid_template_rows": null,
            "height": null,
            "justify_content": null,
            "justify_items": null,
            "left": null,
            "margin": null,
            "max_height": null,
            "max_width": null,
            "min_height": null,
            "min_width": null,
            "object_fit": null,
            "object_position": null,
            "order": null,
            "overflow": null,
            "overflow_x": null,
            "overflow_y": null,
            "padding": null,
            "right": null,
            "top": null,
            "visibility": null,
            "width": null
          }
        },
        "501355b0ca014cf78f507c2f8f8ebcad": {
          "model_module": "@jupyter-widgets/controls",
          "model_name": "ProgressStyleModel",
          "model_module_version": "1.5.0",
          "state": {
            "_model_module": "@jupyter-widgets/controls",
            "_model_module_version": "1.5.0",
            "_model_name": "ProgressStyleModel",
            "_view_count": null,
            "_view_module": "@jupyter-widgets/base",
            "_view_module_version": "1.2.0",
            "_view_name": "StyleView",
            "bar_color": null,
            "description_width": ""
          }
        },
        "e51afcb4e0a949c2a3c599e82ad6593b": {
          "model_module": "@jupyter-widgets/base",
          "model_name": "LayoutModel",
          "model_module_version": "1.2.0",
          "state": {
            "_model_module": "@jupyter-widgets/base",
            "_model_module_version": "1.2.0",
            "_model_name": "LayoutModel",
            "_view_count": null,
            "_view_module": "@jupyter-widgets/base",
            "_view_module_version": "1.2.0",
            "_view_name": "LayoutView",
            "align_content": null,
            "align_items": null,
            "align_self": null,
            "border": null,
            "bottom": null,
            "display": null,
            "flex": null,
            "flex_flow": null,
            "grid_area": null,
            "grid_auto_columns": null,
            "grid_auto_flow": null,
            "grid_auto_rows": null,
            "grid_column": null,
            "grid_gap": null,
            "grid_row": null,
            "grid_template_areas": null,
            "grid_template_columns": null,
            "grid_template_rows": null,
            "height": null,
            "justify_content": null,
            "justify_items": null,
            "left": null,
            "margin": null,
            "max_height": null,
            "max_width": null,
            "min_height": null,
            "min_width": null,
            "object_fit": null,
            "object_position": null,
            "order": null,
            "overflow": null,
            "overflow_x": null,
            "overflow_y": null,
            "padding": null,
            "right": null,
            "top": null,
            "visibility": null,
            "width": null
          }
        },
        "be0a9a1d6f6741e5b2c5f3e7b0e57337": {
          "model_module": "@jupyter-widgets/controls",
          "model_name": "DescriptionStyleModel",
          "model_module_version": "1.5.0",
          "state": {
            "_model_module": "@jupyter-widgets/controls",
            "_model_module_version": "1.5.0",
            "_model_name": "DescriptionStyleModel",
            "_view_count": null,
            "_view_module": "@jupyter-widgets/base",
            "_view_module_version": "1.2.0",
            "_view_name": "StyleView",
            "description_width": ""
          }
        },
        "b1aa970ef00541669705d2b94753899a": {
          "model_module": "@jupyter-widgets/controls",
          "model_name": "HBoxModel",
          "model_module_version": "1.5.0",
          "state": {
            "_dom_classes": [],
            "_model_module": "@jupyter-widgets/controls",
            "_model_module_version": "1.5.0",
            "_model_name": "HBoxModel",
            "_view_count": null,
            "_view_module": "@jupyter-widgets/controls",
            "_view_module_version": "1.5.0",
            "_view_name": "HBoxView",
            "box_style": "",
            "children": [
              "IPY_MODEL_c9f48bde3ad341cc891392b3e7629d45",
              "IPY_MODEL_15aefe60bb1249bb882dfca1edff6187",
              "IPY_MODEL_1dec3b034e484e53b6c54b2d889cef47"
            ],
            "layout": "IPY_MODEL_b83032a857cb4c39ba9bfab5450deaba"
          }
        },
        "c9f48bde3ad341cc891392b3e7629d45": {
          "model_module": "@jupyter-widgets/controls",
          "model_name": "HTMLModel",
          "model_module_version": "1.5.0",
          "state": {
            "_dom_classes": [],
            "_model_module": "@jupyter-widgets/controls",
            "_model_module_version": "1.5.0",
            "_model_name": "HTMLModel",
            "_view_count": null,
            "_view_module": "@jupyter-widgets/controls",
            "_view_module_version": "1.5.0",
            "_view_name": "HTMLView",
            "description": "",
            "description_tooltip": null,
            "layout": "IPY_MODEL_69cdce87e9b3421585f29026553775e1",
            "placeholder": "​",
            "style": "IPY_MODEL_25c54305064f4eb8a32b487a68007574",
            "value": "100%"
          }
        },
        "15aefe60bb1249bb882dfca1edff6187": {
          "model_module": "@jupyter-widgets/controls",
          "model_name": "FloatProgressModel",
          "model_module_version": "1.5.0",
          "state": {
            "_dom_classes": [],
            "_model_module": "@jupyter-widgets/controls",
            "_model_module_version": "1.5.0",
            "_model_name": "FloatProgressModel",
            "_view_count": null,
            "_view_module": "@jupyter-widgets/controls",
            "_view_module_version": "1.5.0",
            "_view_name": "ProgressView",
            "bar_style": "success",
            "description": "",
            "description_tooltip": null,
            "layout": "IPY_MODEL_4f71cd650f064984b72e15040fec0865",
            "max": 1,
            "min": 0,
            "orientation": "horizontal",
            "style": "IPY_MODEL_efa909c65eb14ace9c8dd7a7f0b171f2",
            "value": 1
          }
        },
        "1dec3b034e484e53b6c54b2d889cef47": {
          "model_module": "@jupyter-widgets/controls",
          "model_name": "HTMLModel",
          "model_module_version": "1.5.0",
          "state": {
            "_dom_classes": [],
            "_model_module": "@jupyter-widgets/controls",
            "_model_module_version": "1.5.0",
            "_model_name": "HTMLModel",
            "_view_count": null,
            "_view_module": "@jupyter-widgets/controls",
            "_view_module_version": "1.5.0",
            "_view_name": "HTMLView",
            "description": "",
            "description_tooltip": null,
            "layout": "IPY_MODEL_97c9b4e232d9426a96f675744bf4520a",
            "placeholder": "​",
            "style": "IPY_MODEL_ba28c1538adc4343b18e68007978305e",
            "value": " 1/1 [00:00&lt;00:00, 56.22it/s]"
          }
        },
        "b83032a857cb4c39ba9bfab5450deaba": {
          "model_module": "@jupyter-widgets/base",
          "model_name": "LayoutModel",
          "model_module_version": "1.2.0",
          "state": {
            "_model_module": "@jupyter-widgets/base",
            "_model_module_version": "1.2.0",
            "_model_name": "LayoutModel",
            "_view_count": null,
            "_view_module": "@jupyter-widgets/base",
            "_view_module_version": "1.2.0",
            "_view_name": "LayoutView",
            "align_content": null,
            "align_items": null,
            "align_self": null,
            "border": null,
            "bottom": null,
            "display": null,
            "flex": null,
            "flex_flow": null,
            "grid_area": null,
            "grid_auto_columns": null,
            "grid_auto_flow": null,
            "grid_auto_rows": null,
            "grid_column": null,
            "grid_gap": null,
            "grid_row": null,
            "grid_template_areas": null,
            "grid_template_columns": null,
            "grid_template_rows": null,
            "height": null,
            "justify_content": null,
            "justify_items": null,
            "left": null,
            "margin": null,
            "max_height": null,
            "max_width": null,
            "min_height": null,
            "min_width": null,
            "object_fit": null,
            "object_position": null,
            "order": null,
            "overflow": null,
            "overflow_x": null,
            "overflow_y": null,
            "padding": null,
            "right": null,
            "top": null,
            "visibility": null,
            "width": null
          }
        },
        "69cdce87e9b3421585f29026553775e1": {
          "model_module": "@jupyter-widgets/base",
          "model_name": "LayoutModel",
          "model_module_version": "1.2.0",
          "state": {
            "_model_module": "@jupyter-widgets/base",
            "_model_module_version": "1.2.0",
            "_model_name": "LayoutModel",
            "_view_count": null,
            "_view_module": "@jupyter-widgets/base",
            "_view_module_version": "1.2.0",
            "_view_name": "LayoutView",
            "align_content": null,
            "align_items": null,
            "align_self": null,
            "border": null,
            "bottom": null,
            "display": null,
            "flex": null,
            "flex_flow": null,
            "grid_area": null,
            "grid_auto_columns": null,
            "grid_auto_flow": null,
            "grid_auto_rows": null,
            "grid_column": null,
            "grid_gap": null,
            "grid_row": null,
            "grid_template_areas": null,
            "grid_template_columns": null,
            "grid_template_rows": null,
            "height": null,
            "justify_content": null,
            "justify_items": null,
            "left": null,
            "margin": null,
            "max_height": null,
            "max_width": null,
            "min_height": null,
            "min_width": null,
            "object_fit": null,
            "object_position": null,
            "order": null,
            "overflow": null,
            "overflow_x": null,
            "overflow_y": null,
            "padding": null,
            "right": null,
            "top": null,
            "visibility": null,
            "width": null
          }
        },
        "25c54305064f4eb8a32b487a68007574": {
          "model_module": "@jupyter-widgets/controls",
          "model_name": "DescriptionStyleModel",
          "model_module_version": "1.5.0",
          "state": {
            "_model_module": "@jupyter-widgets/controls",
            "_model_module_version": "1.5.0",
            "_model_name": "DescriptionStyleModel",
            "_view_count": null,
            "_view_module": "@jupyter-widgets/base",
            "_view_module_version": "1.2.0",
            "_view_name": "StyleView",
            "description_width": ""
          }
        },
        "4f71cd650f064984b72e15040fec0865": {
          "model_module": "@jupyter-widgets/base",
          "model_name": "LayoutModel",
          "model_module_version": "1.2.0",
          "state": {
            "_model_module": "@jupyter-widgets/base",
            "_model_module_version": "1.2.0",
            "_model_name": "LayoutModel",
            "_view_count": null,
            "_view_module": "@jupyter-widgets/base",
            "_view_module_version": "1.2.0",
            "_view_name": "LayoutView",
            "align_content": null,
            "align_items": null,
            "align_self": null,
            "border": null,
            "bottom": null,
            "display": null,
            "flex": null,
            "flex_flow": null,
            "grid_area": null,
            "grid_auto_columns": null,
            "grid_auto_flow": null,
            "grid_auto_rows": null,
            "grid_column": null,
            "grid_gap": null,
            "grid_row": null,
            "grid_template_areas": null,
            "grid_template_columns": null,
            "grid_template_rows": null,
            "height": null,
            "justify_content": null,
            "justify_items": null,
            "left": null,
            "margin": null,
            "max_height": null,
            "max_width": null,
            "min_height": null,
            "min_width": null,
            "object_fit": null,
            "object_position": null,
            "order": null,
            "overflow": null,
            "overflow_x": null,
            "overflow_y": null,
            "padding": null,
            "right": null,
            "top": null,
            "visibility": null,
            "width": null
          }
        },
        "efa909c65eb14ace9c8dd7a7f0b171f2": {
          "model_module": "@jupyter-widgets/controls",
          "model_name": "ProgressStyleModel",
          "model_module_version": "1.5.0",
          "state": {
            "_model_module": "@jupyter-widgets/controls",
            "_model_module_version": "1.5.0",
            "_model_name": "ProgressStyleModel",
            "_view_count": null,
            "_view_module": "@jupyter-widgets/base",
            "_view_module_version": "1.2.0",
            "_view_name": "StyleView",
            "bar_color": null,
            "description_width": ""
          }
        },
        "97c9b4e232d9426a96f675744bf4520a": {
          "model_module": "@jupyter-widgets/base",
          "model_name": "LayoutModel",
          "model_module_version": "1.2.0",
          "state": {
            "_model_module": "@jupyter-widgets/base",
            "_model_module_version": "1.2.0",
            "_model_name": "LayoutModel",
            "_view_count": null,
            "_view_module": "@jupyter-widgets/base",
            "_view_module_version": "1.2.0",
            "_view_name": "LayoutView",
            "align_content": null,
            "align_items": null,
            "align_self": null,
            "border": null,
            "bottom": null,
            "display": null,
            "flex": null,
            "flex_flow": null,
            "grid_area": null,
            "grid_auto_columns": null,
            "grid_auto_flow": null,
            "grid_auto_rows": null,
            "grid_column": null,
            "grid_gap": null,
            "grid_row": null,
            "grid_template_areas": null,
            "grid_template_columns": null,
            "grid_template_rows": null,
            "height": null,
            "justify_content": null,
            "justify_items": null,
            "left": null,
            "margin": null,
            "max_height": null,
            "max_width": null,
            "min_height": null,
            "min_width": null,
            "object_fit": null,
            "object_position": null,
            "order": null,
            "overflow": null,
            "overflow_x": null,
            "overflow_y": null,
            "padding": null,
            "right": null,
            "top": null,
            "visibility": null,
            "width": null
          }
        },
        "ba28c1538adc4343b18e68007978305e": {
          "model_module": "@jupyter-widgets/controls",
          "model_name": "DescriptionStyleModel",
          "model_module_version": "1.5.0",
          "state": {
            "_model_module": "@jupyter-widgets/controls",
            "_model_module_version": "1.5.0",
            "_model_name": "DescriptionStyleModel",
            "_view_count": null,
            "_view_module": "@jupyter-widgets/base",
            "_view_module_version": "1.2.0",
            "_view_name": "StyleView",
            "description_width": ""
          }
        },
        "5c76725876fc416eb598ac8467a3f10c": {
          "model_module": "@jupyter-widgets/controls",
          "model_name": "HBoxModel",
          "model_module_version": "1.5.0",
          "state": {
            "_dom_classes": [],
            "_model_module": "@jupyter-widgets/controls",
            "_model_module_version": "1.5.0",
            "_model_name": "HBoxModel",
            "_view_count": null,
            "_view_module": "@jupyter-widgets/controls",
            "_view_module_version": "1.5.0",
            "_view_name": "HBoxView",
            "box_style": "",
            "children": [
              "IPY_MODEL_29b50a91747f4030ba9eafebf385e316",
              "IPY_MODEL_aa33247ce1084c64a3b3c9e2d2906ba1",
              "IPY_MODEL_24939d0b06b1495ead992c4e12afe2d0"
            ],
            "layout": "IPY_MODEL_15d340baf0ab490e9bc64dba438bdcca"
          }
        },
        "29b50a91747f4030ba9eafebf385e316": {
          "model_module": "@jupyter-widgets/controls",
          "model_name": "HTMLModel",
          "model_module_version": "1.5.0",
          "state": {
            "_dom_classes": [],
            "_model_module": "@jupyter-widgets/controls",
            "_model_module_version": "1.5.0",
            "_model_name": "HTMLModel",
            "_view_count": null,
            "_view_module": "@jupyter-widgets/controls",
            "_view_module_version": "1.5.0",
            "_view_name": "HTMLView",
            "description": "",
            "description_tooltip": null,
            "layout": "IPY_MODEL_314486324122488781098801a3913db7",
            "placeholder": "​",
            "style": "IPY_MODEL_af0104ad682245449d65f1a17f4119a1",
            "value": "100%"
          }
        },
        "aa33247ce1084c64a3b3c9e2d2906ba1": {
          "model_module": "@jupyter-widgets/controls",
          "model_name": "FloatProgressModel",
          "model_module_version": "1.5.0",
          "state": {
            "_dom_classes": [],
            "_model_module": "@jupyter-widgets/controls",
            "_model_module_version": "1.5.0",
            "_model_name": "FloatProgressModel",
            "_view_count": null,
            "_view_module": "@jupyter-widgets/controls",
            "_view_module_version": "1.5.0",
            "_view_name": "ProgressView",
            "bar_style": "success",
            "description": "",
            "description_tooltip": null,
            "layout": "IPY_MODEL_f098e4304c714a3eb8d278231dc13574",
            "max": 1,
            "min": 0,
            "orientation": "horizontal",
            "style": "IPY_MODEL_df367cc048b14426af13a7001b0bcad9",
            "value": 1
          }
        },
        "24939d0b06b1495ead992c4e12afe2d0": {
          "model_module": "@jupyter-widgets/controls",
          "model_name": "HTMLModel",
          "model_module_version": "1.5.0",
          "state": {
            "_dom_classes": [],
            "_model_module": "@jupyter-widgets/controls",
            "_model_module_version": "1.5.0",
            "_model_name": "HTMLModel",
            "_view_count": null,
            "_view_module": "@jupyter-widgets/controls",
            "_view_module_version": "1.5.0",
            "_view_name": "HTMLView",
            "description": "",
            "description_tooltip": null,
            "layout": "IPY_MODEL_0f6a2d3505d248f88395023c1d5af2a7",
            "placeholder": "​",
            "style": "IPY_MODEL_ce46f97dccbf42e89d3662ead6d7a093",
            "value": " 1/1 [00:00&lt;00:00, 40.79it/s]"
          }
        },
        "15d340baf0ab490e9bc64dba438bdcca": {
          "model_module": "@jupyter-widgets/base",
          "model_name": "LayoutModel",
          "model_module_version": "1.2.0",
          "state": {
            "_model_module": "@jupyter-widgets/base",
            "_model_module_version": "1.2.0",
            "_model_name": "LayoutModel",
            "_view_count": null,
            "_view_module": "@jupyter-widgets/base",
            "_view_module_version": "1.2.0",
            "_view_name": "LayoutView",
            "align_content": null,
            "align_items": null,
            "align_self": null,
            "border": null,
            "bottom": null,
            "display": null,
            "flex": null,
            "flex_flow": null,
            "grid_area": null,
            "grid_auto_columns": null,
            "grid_auto_flow": null,
            "grid_auto_rows": null,
            "grid_column": null,
            "grid_gap": null,
            "grid_row": null,
            "grid_template_areas": null,
            "grid_template_columns": null,
            "grid_template_rows": null,
            "height": null,
            "justify_content": null,
            "justify_items": null,
            "left": null,
            "margin": null,
            "max_height": null,
            "max_width": null,
            "min_height": null,
            "min_width": null,
            "object_fit": null,
            "object_position": null,
            "order": null,
            "overflow": null,
            "overflow_x": null,
            "overflow_y": null,
            "padding": null,
            "right": null,
            "top": null,
            "visibility": null,
            "width": null
          }
        },
        "314486324122488781098801a3913db7": {
          "model_module": "@jupyter-widgets/base",
          "model_name": "LayoutModel",
          "model_module_version": "1.2.0",
          "state": {
            "_model_module": "@jupyter-widgets/base",
            "_model_module_version": "1.2.0",
            "_model_name": "LayoutModel",
            "_view_count": null,
            "_view_module": "@jupyter-widgets/base",
            "_view_module_version": "1.2.0",
            "_view_name": "LayoutView",
            "align_content": null,
            "align_items": null,
            "align_self": null,
            "border": null,
            "bottom": null,
            "display": null,
            "flex": null,
            "flex_flow": null,
            "grid_area": null,
            "grid_auto_columns": null,
            "grid_auto_flow": null,
            "grid_auto_rows": null,
            "grid_column": null,
            "grid_gap": null,
            "grid_row": null,
            "grid_template_areas": null,
            "grid_template_columns": null,
            "grid_template_rows": null,
            "height": null,
            "justify_content": null,
            "justify_items": null,
            "left": null,
            "margin": null,
            "max_height": null,
            "max_width": null,
            "min_height": null,
            "min_width": null,
            "object_fit": null,
            "object_position": null,
            "order": null,
            "overflow": null,
            "overflow_x": null,
            "overflow_y": null,
            "padding": null,
            "right": null,
            "top": null,
            "visibility": null,
            "width": null
          }
        },
        "af0104ad682245449d65f1a17f4119a1": {
          "model_module": "@jupyter-widgets/controls",
          "model_name": "DescriptionStyleModel",
          "model_module_version": "1.5.0",
          "state": {
            "_model_module": "@jupyter-widgets/controls",
            "_model_module_version": "1.5.0",
            "_model_name": "DescriptionStyleModel",
            "_view_count": null,
            "_view_module": "@jupyter-widgets/base",
            "_view_module_version": "1.2.0",
            "_view_name": "StyleView",
            "description_width": ""
          }
        },
        "f098e4304c714a3eb8d278231dc13574": {
          "model_module": "@jupyter-widgets/base",
          "model_name": "LayoutModel",
          "model_module_version": "1.2.0",
          "state": {
            "_model_module": "@jupyter-widgets/base",
            "_model_module_version": "1.2.0",
            "_model_name": "LayoutModel",
            "_view_count": null,
            "_view_module": "@jupyter-widgets/base",
            "_view_module_version": "1.2.0",
            "_view_name": "LayoutView",
            "align_content": null,
            "align_items": null,
            "align_self": null,
            "border": null,
            "bottom": null,
            "display": null,
            "flex": null,
            "flex_flow": null,
            "grid_area": null,
            "grid_auto_columns": null,
            "grid_auto_flow": null,
            "grid_auto_rows": null,
            "grid_column": null,
            "grid_gap": null,
            "grid_row": null,
            "grid_template_areas": null,
            "grid_template_columns": null,
            "grid_template_rows": null,
            "height": null,
            "justify_content": null,
            "justify_items": null,
            "left": null,
            "margin": null,
            "max_height": null,
            "max_width": null,
            "min_height": null,
            "min_width": null,
            "object_fit": null,
            "object_position": null,
            "order": null,
            "overflow": null,
            "overflow_x": null,
            "overflow_y": null,
            "padding": null,
            "right": null,
            "top": null,
            "visibility": null,
            "width": null
          }
        },
        "df367cc048b14426af13a7001b0bcad9": {
          "model_module": "@jupyter-widgets/controls",
          "model_name": "ProgressStyleModel",
          "model_module_version": "1.5.0",
          "state": {
            "_model_module": "@jupyter-widgets/controls",
            "_model_module_version": "1.5.0",
            "_model_name": "ProgressStyleModel",
            "_view_count": null,
            "_view_module": "@jupyter-widgets/base",
            "_view_module_version": "1.2.0",
            "_view_name": "StyleView",
            "bar_color": null,
            "description_width": ""
          }
        },
        "0f6a2d3505d248f88395023c1d5af2a7": {
          "model_module": "@jupyter-widgets/base",
          "model_name": "LayoutModel",
          "model_module_version": "1.2.0",
          "state": {
            "_model_module": "@jupyter-widgets/base",
            "_model_module_version": "1.2.0",
            "_model_name": "LayoutModel",
            "_view_count": null,
            "_view_module": "@jupyter-widgets/base",
            "_view_module_version": "1.2.0",
            "_view_name": "LayoutView",
            "align_content": null,
            "align_items": null,
            "align_self": null,
            "border": null,
            "bottom": null,
            "display": null,
            "flex": null,
            "flex_flow": null,
            "grid_area": null,
            "grid_auto_columns": null,
            "grid_auto_flow": null,
            "grid_auto_rows": null,
            "grid_column": null,
            "grid_gap": null,
            "grid_row": null,
            "grid_template_areas": null,
            "grid_template_columns": null,
            "grid_template_rows": null,
            "height": null,
            "justify_content": null,
            "justify_items": null,
            "left": null,
            "margin": null,
            "max_height": null,
            "max_width": null,
            "min_height": null,
            "min_width": null,
            "object_fit": null,
            "object_position": null,
            "order": null,
            "overflow": null,
            "overflow_x": null,
            "overflow_y": null,
            "padding": null,
            "right": null,
            "top": null,
            "visibility": null,
            "width": null
          }
        },
        "ce46f97dccbf42e89d3662ead6d7a093": {
          "model_module": "@jupyter-widgets/controls",
          "model_name": "DescriptionStyleModel",
          "model_module_version": "1.5.0",
          "state": {
            "_model_module": "@jupyter-widgets/controls",
            "_model_module_version": "1.5.0",
            "_model_name": "DescriptionStyleModel",
            "_view_count": null,
            "_view_module": "@jupyter-widgets/base",
            "_view_module_version": "1.2.0",
            "_view_name": "StyleView",
            "description_width": ""
          }
        },
        "b2529c66275a4cd98d00dc5a0b39f842": {
          "model_module": "@jupyter-widgets/controls",
          "model_name": "HBoxModel",
          "model_module_version": "1.5.0",
          "state": {
            "_dom_classes": [],
            "_model_module": "@jupyter-widgets/controls",
            "_model_module_version": "1.5.0",
            "_model_name": "HBoxModel",
            "_view_count": null,
            "_view_module": "@jupyter-widgets/controls",
            "_view_module_version": "1.5.0",
            "_view_name": "HBoxView",
            "box_style": "",
            "children": [
              "IPY_MODEL_a766e90d545e4d82a72e5c8392772529",
              "IPY_MODEL_9df3151d84f8454e90520b00d2159c8c",
              "IPY_MODEL_cf676fada328457fac92e76dfb9db76d"
            ],
            "layout": "IPY_MODEL_1565a8a6013144899b491533f8d7a322"
          }
        },
        "a766e90d545e4d82a72e5c8392772529": {
          "model_module": "@jupyter-widgets/controls",
          "model_name": "HTMLModel",
          "model_module_version": "1.5.0",
          "state": {
            "_dom_classes": [],
            "_model_module": "@jupyter-widgets/controls",
            "_model_module_version": "1.5.0",
            "_model_name": "HTMLModel",
            "_view_count": null,
            "_view_module": "@jupyter-widgets/controls",
            "_view_module_version": "1.5.0",
            "_view_name": "HTMLView",
            "description": "",
            "description_tooltip": null,
            "layout": "IPY_MODEL_1ad27252603b47309b85db6ba93cc0c0",
            "placeholder": "​",
            "style": "IPY_MODEL_420e4dbf884b4f0dbc58fe4c81cfc89b",
            "value": "100%"
          }
        },
        "9df3151d84f8454e90520b00d2159c8c": {
          "model_module": "@jupyter-widgets/controls",
          "model_name": "FloatProgressModel",
          "model_module_version": "1.5.0",
          "state": {
            "_dom_classes": [],
            "_model_module": "@jupyter-widgets/controls",
            "_model_module_version": "1.5.0",
            "_model_name": "FloatProgressModel",
            "_view_count": null,
            "_view_module": "@jupyter-widgets/controls",
            "_view_module_version": "1.5.0",
            "_view_name": "ProgressView",
            "bar_style": "success",
            "description": "",
            "description_tooltip": null,
            "layout": "IPY_MODEL_f35adcb1b0d645d2a27c3ae81a21f631",
            "max": 1,
            "min": 0,
            "orientation": "horizontal",
            "style": "IPY_MODEL_b3f26a4c09cc49adaeedcf443ab570b6",
            "value": 1
          }
        },
        "cf676fada328457fac92e76dfb9db76d": {
          "model_module": "@jupyter-widgets/controls",
          "model_name": "HTMLModel",
          "model_module_version": "1.5.0",
          "state": {
            "_dom_classes": [],
            "_model_module": "@jupyter-widgets/controls",
            "_model_module_version": "1.5.0",
            "_model_name": "HTMLModel",
            "_view_count": null,
            "_view_module": "@jupyter-widgets/controls",
            "_view_module_version": "1.5.0",
            "_view_name": "HTMLView",
            "description": "",
            "description_tooltip": null,
            "layout": "IPY_MODEL_2107b1e0124746398ae5c907e30d188f",
            "placeholder": "​",
            "style": "IPY_MODEL_4e38e111abb34bb1bd0377a825b957ad",
            "value": " 1/1 [00:00&lt;00:00, 64.66it/s]"
          }
        },
        "1565a8a6013144899b491533f8d7a322": {
          "model_module": "@jupyter-widgets/base",
          "model_name": "LayoutModel",
          "model_module_version": "1.2.0",
          "state": {
            "_model_module": "@jupyter-widgets/base",
            "_model_module_version": "1.2.0",
            "_model_name": "LayoutModel",
            "_view_count": null,
            "_view_module": "@jupyter-widgets/base",
            "_view_module_version": "1.2.0",
            "_view_name": "LayoutView",
            "align_content": null,
            "align_items": null,
            "align_self": null,
            "border": null,
            "bottom": null,
            "display": null,
            "flex": null,
            "flex_flow": null,
            "grid_area": null,
            "grid_auto_columns": null,
            "grid_auto_flow": null,
            "grid_auto_rows": null,
            "grid_column": null,
            "grid_gap": null,
            "grid_row": null,
            "grid_template_areas": null,
            "grid_template_columns": null,
            "grid_template_rows": null,
            "height": null,
            "justify_content": null,
            "justify_items": null,
            "left": null,
            "margin": null,
            "max_height": null,
            "max_width": null,
            "min_height": null,
            "min_width": null,
            "object_fit": null,
            "object_position": null,
            "order": null,
            "overflow": null,
            "overflow_x": null,
            "overflow_y": null,
            "padding": null,
            "right": null,
            "top": null,
            "visibility": null,
            "width": null
          }
        },
        "1ad27252603b47309b85db6ba93cc0c0": {
          "model_module": "@jupyter-widgets/base",
          "model_name": "LayoutModel",
          "model_module_version": "1.2.0",
          "state": {
            "_model_module": "@jupyter-widgets/base",
            "_model_module_version": "1.2.0",
            "_model_name": "LayoutModel",
            "_view_count": null,
            "_view_module": "@jupyter-widgets/base",
            "_view_module_version": "1.2.0",
            "_view_name": "LayoutView",
            "align_content": null,
            "align_items": null,
            "align_self": null,
            "border": null,
            "bottom": null,
            "display": null,
            "flex": null,
            "flex_flow": null,
            "grid_area": null,
            "grid_auto_columns": null,
            "grid_auto_flow": null,
            "grid_auto_rows": null,
            "grid_column": null,
            "grid_gap": null,
            "grid_row": null,
            "grid_template_areas": null,
            "grid_template_columns": null,
            "grid_template_rows": null,
            "height": null,
            "justify_content": null,
            "justify_items": null,
            "left": null,
            "margin": null,
            "max_height": null,
            "max_width": null,
            "min_height": null,
            "min_width": null,
            "object_fit": null,
            "object_position": null,
            "order": null,
            "overflow": null,
            "overflow_x": null,
            "overflow_y": null,
            "padding": null,
            "right": null,
            "top": null,
            "visibility": null,
            "width": null
          }
        },
        "420e4dbf884b4f0dbc58fe4c81cfc89b": {
          "model_module": "@jupyter-widgets/controls",
          "model_name": "DescriptionStyleModel",
          "model_module_version": "1.5.0",
          "state": {
            "_model_module": "@jupyter-widgets/controls",
            "_model_module_version": "1.5.0",
            "_model_name": "DescriptionStyleModel",
            "_view_count": null,
            "_view_module": "@jupyter-widgets/base",
            "_view_module_version": "1.2.0",
            "_view_name": "StyleView",
            "description_width": ""
          }
        },
        "f35adcb1b0d645d2a27c3ae81a21f631": {
          "model_module": "@jupyter-widgets/base",
          "model_name": "LayoutModel",
          "model_module_version": "1.2.0",
          "state": {
            "_model_module": "@jupyter-widgets/base",
            "_model_module_version": "1.2.0",
            "_model_name": "LayoutModel",
            "_view_count": null,
            "_view_module": "@jupyter-widgets/base",
            "_view_module_version": "1.2.0",
            "_view_name": "LayoutView",
            "align_content": null,
            "align_items": null,
            "align_self": null,
            "border": null,
            "bottom": null,
            "display": null,
            "flex": null,
            "flex_flow": null,
            "grid_area": null,
            "grid_auto_columns": null,
            "grid_auto_flow": null,
            "grid_auto_rows": null,
            "grid_column": null,
            "grid_gap": null,
            "grid_row": null,
            "grid_template_areas": null,
            "grid_template_columns": null,
            "grid_template_rows": null,
            "height": null,
            "justify_content": null,
            "justify_items": null,
            "left": null,
            "margin": null,
            "max_height": null,
            "max_width": null,
            "min_height": null,
            "min_width": null,
            "object_fit": null,
            "object_position": null,
            "order": null,
            "overflow": null,
            "overflow_x": null,
            "overflow_y": null,
            "padding": null,
            "right": null,
            "top": null,
            "visibility": null,
            "width": null
          }
        },
        "b3f26a4c09cc49adaeedcf443ab570b6": {
          "model_module": "@jupyter-widgets/controls",
          "model_name": "ProgressStyleModel",
          "model_module_version": "1.5.0",
          "state": {
            "_model_module": "@jupyter-widgets/controls",
            "_model_module_version": "1.5.0",
            "_model_name": "ProgressStyleModel",
            "_view_count": null,
            "_view_module": "@jupyter-widgets/base",
            "_view_module_version": "1.2.0",
            "_view_name": "StyleView",
            "bar_color": null,
            "description_width": ""
          }
        },
        "2107b1e0124746398ae5c907e30d188f": {
          "model_module": "@jupyter-widgets/base",
          "model_name": "LayoutModel",
          "model_module_version": "1.2.0",
          "state": {
            "_model_module": "@jupyter-widgets/base",
            "_model_module_version": "1.2.0",
            "_model_name": "LayoutModel",
            "_view_count": null,
            "_view_module": "@jupyter-widgets/base",
            "_view_module_version": "1.2.0",
            "_view_name": "LayoutView",
            "align_content": null,
            "align_items": null,
            "align_self": null,
            "border": null,
            "bottom": null,
            "display": null,
            "flex": null,
            "flex_flow": null,
            "grid_area": null,
            "grid_auto_columns": null,
            "grid_auto_flow": null,
            "grid_auto_rows": null,
            "grid_column": null,
            "grid_gap": null,
            "grid_row": null,
            "grid_template_areas": null,
            "grid_template_columns": null,
            "grid_template_rows": null,
            "height": null,
            "justify_content": null,
            "justify_items": null,
            "left": null,
            "margin": null,
            "max_height": null,
            "max_width": null,
            "min_height": null,
            "min_width": null,
            "object_fit": null,
            "object_position": null,
            "order": null,
            "overflow": null,
            "overflow_x": null,
            "overflow_y": null,
            "padding": null,
            "right": null,
            "top": null,
            "visibility": null,
            "width": null
          }
        },
        "4e38e111abb34bb1bd0377a825b957ad": {
          "model_module": "@jupyter-widgets/controls",
          "model_name": "DescriptionStyleModel",
          "model_module_version": "1.5.0",
          "state": {
            "_model_module": "@jupyter-widgets/controls",
            "_model_module_version": "1.5.0",
            "_model_name": "DescriptionStyleModel",
            "_view_count": null,
            "_view_module": "@jupyter-widgets/base",
            "_view_module_version": "1.2.0",
            "_view_name": "StyleView",
            "description_width": ""
          }
        },
        "461591b93ec8437da5a4f47d86608908": {
          "model_module": "@jupyter-widgets/controls",
          "model_name": "HBoxModel",
          "model_module_version": "1.5.0",
          "state": {
            "_dom_classes": [],
            "_model_module": "@jupyter-widgets/controls",
            "_model_module_version": "1.5.0",
            "_model_name": "HBoxModel",
            "_view_count": null,
            "_view_module": "@jupyter-widgets/controls",
            "_view_module_version": "1.5.0",
            "_view_name": "HBoxView",
            "box_style": "",
            "children": [
              "IPY_MODEL_52bafdbe9a5f4b09a5c38a23fb7a4c2a",
              "IPY_MODEL_8e3c8c48afa44207b91b8426d56437ab",
              "IPY_MODEL_fef43233e0f24c8bb512142e19566631"
            ],
            "layout": "IPY_MODEL_d487ae808e274736846d9829245d5023"
          }
        },
        "52bafdbe9a5f4b09a5c38a23fb7a4c2a": {
          "model_module": "@jupyter-widgets/controls",
          "model_name": "HTMLModel",
          "model_module_version": "1.5.0",
          "state": {
            "_dom_classes": [],
            "_model_module": "@jupyter-widgets/controls",
            "_model_module_version": "1.5.0",
            "_model_name": "HTMLModel",
            "_view_count": null,
            "_view_module": "@jupyter-widgets/controls",
            "_view_module_version": "1.5.0",
            "_view_name": "HTMLView",
            "description": "",
            "description_tooltip": null,
            "layout": "IPY_MODEL_c107391a846b42ba92a5b82881e23015",
            "placeholder": "​",
            "style": "IPY_MODEL_56dbb7879a93457891b008775e134681",
            "value": "100%"
          }
        },
        "8e3c8c48afa44207b91b8426d56437ab": {
          "model_module": "@jupyter-widgets/controls",
          "model_name": "FloatProgressModel",
          "model_module_version": "1.5.0",
          "state": {
            "_dom_classes": [],
            "_model_module": "@jupyter-widgets/controls",
            "_model_module_version": "1.5.0",
            "_model_name": "FloatProgressModel",
            "_view_count": null,
            "_view_module": "@jupyter-widgets/controls",
            "_view_module_version": "1.5.0",
            "_view_name": "ProgressView",
            "bar_style": "success",
            "description": "",
            "description_tooltip": null,
            "layout": "IPY_MODEL_290f283a81c042b790cd5b23c7e00eb0",
            "max": 1,
            "min": 0,
            "orientation": "horizontal",
            "style": "IPY_MODEL_41094057e6be41b8a04920d34ed6684b",
            "value": 1
          }
        },
        "fef43233e0f24c8bb512142e19566631": {
          "model_module": "@jupyter-widgets/controls",
          "model_name": "HTMLModel",
          "model_module_version": "1.5.0",
          "state": {
            "_dom_classes": [],
            "_model_module": "@jupyter-widgets/controls",
            "_model_module_version": "1.5.0",
            "_model_name": "HTMLModel",
            "_view_count": null,
            "_view_module": "@jupyter-widgets/controls",
            "_view_module_version": "1.5.0",
            "_view_name": "HTMLView",
            "description": "",
            "description_tooltip": null,
            "layout": "IPY_MODEL_7617e558899f4960983f8873614480db",
            "placeholder": "​",
            "style": "IPY_MODEL_3cc1a97964434510b33500704c54c943",
            "value": " 1/1 [00:00&lt;00:00, 40.29it/s]"
          }
        },
        "d487ae808e274736846d9829245d5023": {
          "model_module": "@jupyter-widgets/base",
          "model_name": "LayoutModel",
          "model_module_version": "1.2.0",
          "state": {
            "_model_module": "@jupyter-widgets/base",
            "_model_module_version": "1.2.0",
            "_model_name": "LayoutModel",
            "_view_count": null,
            "_view_module": "@jupyter-widgets/base",
            "_view_module_version": "1.2.0",
            "_view_name": "LayoutView",
            "align_content": null,
            "align_items": null,
            "align_self": null,
            "border": null,
            "bottom": null,
            "display": null,
            "flex": null,
            "flex_flow": null,
            "grid_area": null,
            "grid_auto_columns": null,
            "grid_auto_flow": null,
            "grid_auto_rows": null,
            "grid_column": null,
            "grid_gap": null,
            "grid_row": null,
            "grid_template_areas": null,
            "grid_template_columns": null,
            "grid_template_rows": null,
            "height": null,
            "justify_content": null,
            "justify_items": null,
            "left": null,
            "margin": null,
            "max_height": null,
            "max_width": null,
            "min_height": null,
            "min_width": null,
            "object_fit": null,
            "object_position": null,
            "order": null,
            "overflow": null,
            "overflow_x": null,
            "overflow_y": null,
            "padding": null,
            "right": null,
            "top": null,
            "visibility": null,
            "width": null
          }
        },
        "c107391a846b42ba92a5b82881e23015": {
          "model_module": "@jupyter-widgets/base",
          "model_name": "LayoutModel",
          "model_module_version": "1.2.0",
          "state": {
            "_model_module": "@jupyter-widgets/base",
            "_model_module_version": "1.2.0",
            "_model_name": "LayoutModel",
            "_view_count": null,
            "_view_module": "@jupyter-widgets/base",
            "_view_module_version": "1.2.0",
            "_view_name": "LayoutView",
            "align_content": null,
            "align_items": null,
            "align_self": null,
            "border": null,
            "bottom": null,
            "display": null,
            "flex": null,
            "flex_flow": null,
            "grid_area": null,
            "grid_auto_columns": null,
            "grid_auto_flow": null,
            "grid_auto_rows": null,
            "grid_column": null,
            "grid_gap": null,
            "grid_row": null,
            "grid_template_areas": null,
            "grid_template_columns": null,
            "grid_template_rows": null,
            "height": null,
            "justify_content": null,
            "justify_items": null,
            "left": null,
            "margin": null,
            "max_height": null,
            "max_width": null,
            "min_height": null,
            "min_width": null,
            "object_fit": null,
            "object_position": null,
            "order": null,
            "overflow": null,
            "overflow_x": null,
            "overflow_y": null,
            "padding": null,
            "right": null,
            "top": null,
            "visibility": null,
            "width": null
          }
        },
        "56dbb7879a93457891b008775e134681": {
          "model_module": "@jupyter-widgets/controls",
          "model_name": "DescriptionStyleModel",
          "model_module_version": "1.5.0",
          "state": {
            "_model_module": "@jupyter-widgets/controls",
            "_model_module_version": "1.5.0",
            "_model_name": "DescriptionStyleModel",
            "_view_count": null,
            "_view_module": "@jupyter-widgets/base",
            "_view_module_version": "1.2.0",
            "_view_name": "StyleView",
            "description_width": ""
          }
        },
        "290f283a81c042b790cd5b23c7e00eb0": {
          "model_module": "@jupyter-widgets/base",
          "model_name": "LayoutModel",
          "model_module_version": "1.2.0",
          "state": {
            "_model_module": "@jupyter-widgets/base",
            "_model_module_version": "1.2.0",
            "_model_name": "LayoutModel",
            "_view_count": null,
            "_view_module": "@jupyter-widgets/base",
            "_view_module_version": "1.2.0",
            "_view_name": "LayoutView",
            "align_content": null,
            "align_items": null,
            "align_self": null,
            "border": null,
            "bottom": null,
            "display": null,
            "flex": null,
            "flex_flow": null,
            "grid_area": null,
            "grid_auto_columns": null,
            "grid_auto_flow": null,
            "grid_auto_rows": null,
            "grid_column": null,
            "grid_gap": null,
            "grid_row": null,
            "grid_template_areas": null,
            "grid_template_columns": null,
            "grid_template_rows": null,
            "height": null,
            "justify_content": null,
            "justify_items": null,
            "left": null,
            "margin": null,
            "max_height": null,
            "max_width": null,
            "min_height": null,
            "min_width": null,
            "object_fit": null,
            "object_position": null,
            "order": null,
            "overflow": null,
            "overflow_x": null,
            "overflow_y": null,
            "padding": null,
            "right": null,
            "top": null,
            "visibility": null,
            "width": null
          }
        },
        "41094057e6be41b8a04920d34ed6684b": {
          "model_module": "@jupyter-widgets/controls",
          "model_name": "ProgressStyleModel",
          "model_module_version": "1.5.0",
          "state": {
            "_model_module": "@jupyter-widgets/controls",
            "_model_module_version": "1.5.0",
            "_model_name": "ProgressStyleModel",
            "_view_count": null,
            "_view_module": "@jupyter-widgets/base",
            "_view_module_version": "1.2.0",
            "_view_name": "StyleView",
            "bar_color": null,
            "description_width": ""
          }
        },
        "7617e558899f4960983f8873614480db": {
          "model_module": "@jupyter-widgets/base",
          "model_name": "LayoutModel",
          "model_module_version": "1.2.0",
          "state": {
            "_model_module": "@jupyter-widgets/base",
            "_model_module_version": "1.2.0",
            "_model_name": "LayoutModel",
            "_view_count": null,
            "_view_module": "@jupyter-widgets/base",
            "_view_module_version": "1.2.0",
            "_view_name": "LayoutView",
            "align_content": null,
            "align_items": null,
            "align_self": null,
            "border": null,
            "bottom": null,
            "display": null,
            "flex": null,
            "flex_flow": null,
            "grid_area": null,
            "grid_auto_columns": null,
            "grid_auto_flow": null,
            "grid_auto_rows": null,
            "grid_column": null,
            "grid_gap": null,
            "grid_row": null,
            "grid_template_areas": null,
            "grid_template_columns": null,
            "grid_template_rows": null,
            "height": null,
            "justify_content": null,
            "justify_items": null,
            "left": null,
            "margin": null,
            "max_height": null,
            "max_width": null,
            "min_height": null,
            "min_width": null,
            "object_fit": null,
            "object_position": null,
            "order": null,
            "overflow": null,
            "overflow_x": null,
            "overflow_y": null,
            "padding": null,
            "right": null,
            "top": null,
            "visibility": null,
            "width": null
          }
        },
        "3cc1a97964434510b33500704c54c943": {
          "model_module": "@jupyter-widgets/controls",
          "model_name": "DescriptionStyleModel",
          "model_module_version": "1.5.0",
          "state": {
            "_model_module": "@jupyter-widgets/controls",
            "_model_module_version": "1.5.0",
            "_model_name": "DescriptionStyleModel",
            "_view_count": null,
            "_view_module": "@jupyter-widgets/base",
            "_view_module_version": "1.2.0",
            "_view_name": "StyleView",
            "description_width": ""
          }
        },
        "4812e07798aa4421ab9cf5f8cbda1b68": {
          "model_module": "@jupyter-widgets/controls",
          "model_name": "HBoxModel",
          "model_module_version": "1.5.0",
          "state": {
            "_dom_classes": [],
            "_model_module": "@jupyter-widgets/controls",
            "_model_module_version": "1.5.0",
            "_model_name": "HBoxModel",
            "_view_count": null,
            "_view_module": "@jupyter-widgets/controls",
            "_view_module_version": "1.5.0",
            "_view_name": "HBoxView",
            "box_style": "",
            "children": [
              "IPY_MODEL_3e3a33bc1fe74ba8b0cd9a06066fb6e7",
              "IPY_MODEL_545f0b0ee5fa4a928ba786133b2754c7",
              "IPY_MODEL_765a25f2e67d4ffbaf7d015e80ff2161"
            ],
            "layout": "IPY_MODEL_e117c63884bf4940ab06c6dbcbe644fe"
          }
        },
        "3e3a33bc1fe74ba8b0cd9a06066fb6e7": {
          "model_module": "@jupyter-widgets/controls",
          "model_name": "HTMLModel",
          "model_module_version": "1.5.0",
          "state": {
            "_dom_classes": [],
            "_model_module": "@jupyter-widgets/controls",
            "_model_module_version": "1.5.0",
            "_model_name": "HTMLModel",
            "_view_count": null,
            "_view_module": "@jupyter-widgets/controls",
            "_view_module_version": "1.5.0",
            "_view_name": "HTMLView",
            "description": "",
            "description_tooltip": null,
            "layout": "IPY_MODEL_2acf30d7205247868bcbb4a7c5e35138",
            "placeholder": "​",
            "style": "IPY_MODEL_8e678b80d8b740e8b2e51c75ef3b7d33",
            "value": "100%"
          }
        },
        "545f0b0ee5fa4a928ba786133b2754c7": {
          "model_module": "@jupyter-widgets/controls",
          "model_name": "FloatProgressModel",
          "model_module_version": "1.5.0",
          "state": {
            "_dom_classes": [],
            "_model_module": "@jupyter-widgets/controls",
            "_model_module_version": "1.5.0",
            "_model_name": "FloatProgressModel",
            "_view_count": null,
            "_view_module": "@jupyter-widgets/controls",
            "_view_module_version": "1.5.0",
            "_view_name": "ProgressView",
            "bar_style": "success",
            "description": "",
            "description_tooltip": null,
            "layout": "IPY_MODEL_4ffea822ca594ad39384904bf5edda0f",
            "max": 1,
            "min": 0,
            "orientation": "horizontal",
            "style": "IPY_MODEL_b1e4fc0dfa6a4e17a582c6208310929e",
            "value": 1
          }
        },
        "765a25f2e67d4ffbaf7d015e80ff2161": {
          "model_module": "@jupyter-widgets/controls",
          "model_name": "HTMLModel",
          "model_module_version": "1.5.0",
          "state": {
            "_dom_classes": [],
            "_model_module": "@jupyter-widgets/controls",
            "_model_module_version": "1.5.0",
            "_model_name": "HTMLModel",
            "_view_count": null,
            "_view_module": "@jupyter-widgets/controls",
            "_view_module_version": "1.5.0",
            "_view_name": "HTMLView",
            "description": "",
            "description_tooltip": null,
            "layout": "IPY_MODEL_3ddd52a6c5ed49eba0281d5d260252bc",
            "placeholder": "​",
            "style": "IPY_MODEL_851a9e09b19e47868dd25d8dfb3f52ee",
            "value": " 1/1 [00:00&lt;00:00, 62.01it/s]"
          }
        },
        "e117c63884bf4940ab06c6dbcbe644fe": {
          "model_module": "@jupyter-widgets/base",
          "model_name": "LayoutModel",
          "model_module_version": "1.2.0",
          "state": {
            "_model_module": "@jupyter-widgets/base",
            "_model_module_version": "1.2.0",
            "_model_name": "LayoutModel",
            "_view_count": null,
            "_view_module": "@jupyter-widgets/base",
            "_view_module_version": "1.2.0",
            "_view_name": "LayoutView",
            "align_content": null,
            "align_items": null,
            "align_self": null,
            "border": null,
            "bottom": null,
            "display": null,
            "flex": null,
            "flex_flow": null,
            "grid_area": null,
            "grid_auto_columns": null,
            "grid_auto_flow": null,
            "grid_auto_rows": null,
            "grid_column": null,
            "grid_gap": null,
            "grid_row": null,
            "grid_template_areas": null,
            "grid_template_columns": null,
            "grid_template_rows": null,
            "height": null,
            "justify_content": null,
            "justify_items": null,
            "left": null,
            "margin": null,
            "max_height": null,
            "max_width": null,
            "min_height": null,
            "min_width": null,
            "object_fit": null,
            "object_position": null,
            "order": null,
            "overflow": null,
            "overflow_x": null,
            "overflow_y": null,
            "padding": null,
            "right": null,
            "top": null,
            "visibility": null,
            "width": null
          }
        },
        "2acf30d7205247868bcbb4a7c5e35138": {
          "model_module": "@jupyter-widgets/base",
          "model_name": "LayoutModel",
          "model_module_version": "1.2.0",
          "state": {
            "_model_module": "@jupyter-widgets/base",
            "_model_module_version": "1.2.0",
            "_model_name": "LayoutModel",
            "_view_count": null,
            "_view_module": "@jupyter-widgets/base",
            "_view_module_version": "1.2.0",
            "_view_name": "LayoutView",
            "align_content": null,
            "align_items": null,
            "align_self": null,
            "border": null,
            "bottom": null,
            "display": null,
            "flex": null,
            "flex_flow": null,
            "grid_area": null,
            "grid_auto_columns": null,
            "grid_auto_flow": null,
            "grid_auto_rows": null,
            "grid_column": null,
            "grid_gap": null,
            "grid_row": null,
            "grid_template_areas": null,
            "grid_template_columns": null,
            "grid_template_rows": null,
            "height": null,
            "justify_content": null,
            "justify_items": null,
            "left": null,
            "margin": null,
            "max_height": null,
            "max_width": null,
            "min_height": null,
            "min_width": null,
            "object_fit": null,
            "object_position": null,
            "order": null,
            "overflow": null,
            "overflow_x": null,
            "overflow_y": null,
            "padding": null,
            "right": null,
            "top": null,
            "visibility": null,
            "width": null
          }
        },
        "8e678b80d8b740e8b2e51c75ef3b7d33": {
          "model_module": "@jupyter-widgets/controls",
          "model_name": "DescriptionStyleModel",
          "model_module_version": "1.5.0",
          "state": {
            "_model_module": "@jupyter-widgets/controls",
            "_model_module_version": "1.5.0",
            "_model_name": "DescriptionStyleModel",
            "_view_count": null,
            "_view_module": "@jupyter-widgets/base",
            "_view_module_version": "1.2.0",
            "_view_name": "StyleView",
            "description_width": ""
          }
        },
        "4ffea822ca594ad39384904bf5edda0f": {
          "model_module": "@jupyter-widgets/base",
          "model_name": "LayoutModel",
          "model_module_version": "1.2.0",
          "state": {
            "_model_module": "@jupyter-widgets/base",
            "_model_module_version": "1.2.0",
            "_model_name": "LayoutModel",
            "_view_count": null,
            "_view_module": "@jupyter-widgets/base",
            "_view_module_version": "1.2.0",
            "_view_name": "LayoutView",
            "align_content": null,
            "align_items": null,
            "align_self": null,
            "border": null,
            "bottom": null,
            "display": null,
            "flex": null,
            "flex_flow": null,
            "grid_area": null,
            "grid_auto_columns": null,
            "grid_auto_flow": null,
            "grid_auto_rows": null,
            "grid_column": null,
            "grid_gap": null,
            "grid_row": null,
            "grid_template_areas": null,
            "grid_template_columns": null,
            "grid_template_rows": null,
            "height": null,
            "justify_content": null,
            "justify_items": null,
            "left": null,
            "margin": null,
            "max_height": null,
            "max_width": null,
            "min_height": null,
            "min_width": null,
            "object_fit": null,
            "object_position": null,
            "order": null,
            "overflow": null,
            "overflow_x": null,
            "overflow_y": null,
            "padding": null,
            "right": null,
            "top": null,
            "visibility": null,
            "width": null
          }
        },
        "b1e4fc0dfa6a4e17a582c6208310929e": {
          "model_module": "@jupyter-widgets/controls",
          "model_name": "ProgressStyleModel",
          "model_module_version": "1.5.0",
          "state": {
            "_model_module": "@jupyter-widgets/controls",
            "_model_module_version": "1.5.0",
            "_model_name": "ProgressStyleModel",
            "_view_count": null,
            "_view_module": "@jupyter-widgets/base",
            "_view_module_version": "1.2.0",
            "_view_name": "StyleView",
            "bar_color": null,
            "description_width": ""
          }
        },
        "3ddd52a6c5ed49eba0281d5d260252bc": {
          "model_module": "@jupyter-widgets/base",
          "model_name": "LayoutModel",
          "model_module_version": "1.2.0",
          "state": {
            "_model_module": "@jupyter-widgets/base",
            "_model_module_version": "1.2.0",
            "_model_name": "LayoutModel",
            "_view_count": null,
            "_view_module": "@jupyter-widgets/base",
            "_view_module_version": "1.2.0",
            "_view_name": "LayoutView",
            "align_content": null,
            "align_items": null,
            "align_self": null,
            "border": null,
            "bottom": null,
            "display": null,
            "flex": null,
            "flex_flow": null,
            "grid_area": null,
            "grid_auto_columns": null,
            "grid_auto_flow": null,
            "grid_auto_rows": null,
            "grid_column": null,
            "grid_gap": null,
            "grid_row": null,
            "grid_template_areas": null,
            "grid_template_columns": null,
            "grid_template_rows": null,
            "height": null,
            "justify_content": null,
            "justify_items": null,
            "left": null,
            "margin": null,
            "max_height": null,
            "max_width": null,
            "min_height": null,
            "min_width": null,
            "object_fit": null,
            "object_position": null,
            "order": null,
            "overflow": null,
            "overflow_x": null,
            "overflow_y": null,
            "padding": null,
            "right": null,
            "top": null,
            "visibility": null,
            "width": null
          }
        },
        "851a9e09b19e47868dd25d8dfb3f52ee": {
          "model_module": "@jupyter-widgets/controls",
          "model_name": "DescriptionStyleModel",
          "model_module_version": "1.5.0",
          "state": {
            "_model_module": "@jupyter-widgets/controls",
            "_model_module_version": "1.5.0",
            "_model_name": "DescriptionStyleModel",
            "_view_count": null,
            "_view_module": "@jupyter-widgets/base",
            "_view_module_version": "1.2.0",
            "_view_name": "StyleView",
            "description_width": ""
          }
        },
        "d00bba04a86a47e5ac7e2b9bb86d2a05": {
          "model_module": "@jupyter-widgets/controls",
          "model_name": "HBoxModel",
          "model_module_version": "1.5.0",
          "state": {
            "_dom_classes": [],
            "_model_module": "@jupyter-widgets/controls",
            "_model_module_version": "1.5.0",
            "_model_name": "HBoxModel",
            "_view_count": null,
            "_view_module": "@jupyter-widgets/controls",
            "_view_module_version": "1.5.0",
            "_view_name": "HBoxView",
            "box_style": "",
            "children": [
              "IPY_MODEL_a9971281498e40a6881f2f5604286280",
              "IPY_MODEL_551670c206d74ab7b6bb043bbf657795",
              "IPY_MODEL_3b34ae259c2a488b8bdc0a1a26cfe902"
            ],
            "layout": "IPY_MODEL_d032e72f3f6c412481ecd3466ec065fe"
          }
        },
        "a9971281498e40a6881f2f5604286280": {
          "model_module": "@jupyter-widgets/controls",
          "model_name": "HTMLModel",
          "model_module_version": "1.5.0",
          "state": {
            "_dom_classes": [],
            "_model_module": "@jupyter-widgets/controls",
            "_model_module_version": "1.5.0",
            "_model_name": "HTMLModel",
            "_view_count": null,
            "_view_module": "@jupyter-widgets/controls",
            "_view_module_version": "1.5.0",
            "_view_name": "HTMLView",
            "description": "",
            "description_tooltip": null,
            "layout": "IPY_MODEL_dfcf95d3b11448018aa3b73fa1e7304d",
            "placeholder": "​",
            "style": "IPY_MODEL_a36360512b6246e5859aeffd82472b67",
            "value": "100%"
          }
        },
        "551670c206d74ab7b6bb043bbf657795": {
          "model_module": "@jupyter-widgets/controls",
          "model_name": "FloatProgressModel",
          "model_module_version": "1.5.0",
          "state": {
            "_dom_classes": [],
            "_model_module": "@jupyter-widgets/controls",
            "_model_module_version": "1.5.0",
            "_model_name": "FloatProgressModel",
            "_view_count": null,
            "_view_module": "@jupyter-widgets/controls",
            "_view_module_version": "1.5.0",
            "_view_name": "ProgressView",
            "bar_style": "success",
            "description": "",
            "description_tooltip": null,
            "layout": "IPY_MODEL_8d36eb06b29e42c092d820324d82526d",
            "max": 1,
            "min": 0,
            "orientation": "horizontal",
            "style": "IPY_MODEL_891584e05ed4409291f46a8682602361",
            "value": 1
          }
        },
        "3b34ae259c2a488b8bdc0a1a26cfe902": {
          "model_module": "@jupyter-widgets/controls",
          "model_name": "HTMLModel",
          "model_module_version": "1.5.0",
          "state": {
            "_dom_classes": [],
            "_model_module": "@jupyter-widgets/controls",
            "_model_module_version": "1.5.0",
            "_model_name": "HTMLModel",
            "_view_count": null,
            "_view_module": "@jupyter-widgets/controls",
            "_view_module_version": "1.5.0",
            "_view_name": "HTMLView",
            "description": "",
            "description_tooltip": null,
            "layout": "IPY_MODEL_d8804fd386a24c2daf5be288308bca8f",
            "placeholder": "​",
            "style": "IPY_MODEL_267b05f6f76a4ebc80d09bc378d86948",
            "value": " 1/1 [00:00&lt;00:00, 38.60it/s]"
          }
        },
        "d032e72f3f6c412481ecd3466ec065fe": {
          "model_module": "@jupyter-widgets/base",
          "model_name": "LayoutModel",
          "model_module_version": "1.2.0",
          "state": {
            "_model_module": "@jupyter-widgets/base",
            "_model_module_version": "1.2.0",
            "_model_name": "LayoutModel",
            "_view_count": null,
            "_view_module": "@jupyter-widgets/base",
            "_view_module_version": "1.2.0",
            "_view_name": "LayoutView",
            "align_content": null,
            "align_items": null,
            "align_self": null,
            "border": null,
            "bottom": null,
            "display": null,
            "flex": null,
            "flex_flow": null,
            "grid_area": null,
            "grid_auto_columns": null,
            "grid_auto_flow": null,
            "grid_auto_rows": null,
            "grid_column": null,
            "grid_gap": null,
            "grid_row": null,
            "grid_template_areas": null,
            "grid_template_columns": null,
            "grid_template_rows": null,
            "height": null,
            "justify_content": null,
            "justify_items": null,
            "left": null,
            "margin": null,
            "max_height": null,
            "max_width": null,
            "min_height": null,
            "min_width": null,
            "object_fit": null,
            "object_position": null,
            "order": null,
            "overflow": null,
            "overflow_x": null,
            "overflow_y": null,
            "padding": null,
            "right": null,
            "top": null,
            "visibility": null,
            "width": null
          }
        },
        "dfcf95d3b11448018aa3b73fa1e7304d": {
          "model_module": "@jupyter-widgets/base",
          "model_name": "LayoutModel",
          "model_module_version": "1.2.0",
          "state": {
            "_model_module": "@jupyter-widgets/base",
            "_model_module_version": "1.2.0",
            "_model_name": "LayoutModel",
            "_view_count": null,
            "_view_module": "@jupyter-widgets/base",
            "_view_module_version": "1.2.0",
            "_view_name": "LayoutView",
            "align_content": null,
            "align_items": null,
            "align_self": null,
            "border": null,
            "bottom": null,
            "display": null,
            "flex": null,
            "flex_flow": null,
            "grid_area": null,
            "grid_auto_columns": null,
            "grid_auto_flow": null,
            "grid_auto_rows": null,
            "grid_column": null,
            "grid_gap": null,
            "grid_row": null,
            "grid_template_areas": null,
            "grid_template_columns": null,
            "grid_template_rows": null,
            "height": null,
            "justify_content": null,
            "justify_items": null,
            "left": null,
            "margin": null,
            "max_height": null,
            "max_width": null,
            "min_height": null,
            "min_width": null,
            "object_fit": null,
            "object_position": null,
            "order": null,
            "overflow": null,
            "overflow_x": null,
            "overflow_y": null,
            "padding": null,
            "right": null,
            "top": null,
            "visibility": null,
            "width": null
          }
        },
        "a36360512b6246e5859aeffd82472b67": {
          "model_module": "@jupyter-widgets/controls",
          "model_name": "DescriptionStyleModel",
          "model_module_version": "1.5.0",
          "state": {
            "_model_module": "@jupyter-widgets/controls",
            "_model_module_version": "1.5.0",
            "_model_name": "DescriptionStyleModel",
            "_view_count": null,
            "_view_module": "@jupyter-widgets/base",
            "_view_module_version": "1.2.0",
            "_view_name": "StyleView",
            "description_width": ""
          }
        },
        "8d36eb06b29e42c092d820324d82526d": {
          "model_module": "@jupyter-widgets/base",
          "model_name": "LayoutModel",
          "model_module_version": "1.2.0",
          "state": {
            "_model_module": "@jupyter-widgets/base",
            "_model_module_version": "1.2.0",
            "_model_name": "LayoutModel",
            "_view_count": null,
            "_view_module": "@jupyter-widgets/base",
            "_view_module_version": "1.2.0",
            "_view_name": "LayoutView",
            "align_content": null,
            "align_items": null,
            "align_self": null,
            "border": null,
            "bottom": null,
            "display": null,
            "flex": null,
            "flex_flow": null,
            "grid_area": null,
            "grid_auto_columns": null,
            "grid_auto_flow": null,
            "grid_auto_rows": null,
            "grid_column": null,
            "grid_gap": null,
            "grid_row": null,
            "grid_template_areas": null,
            "grid_template_columns": null,
            "grid_template_rows": null,
            "height": null,
            "justify_content": null,
            "justify_items": null,
            "left": null,
            "margin": null,
            "max_height": null,
            "max_width": null,
            "min_height": null,
            "min_width": null,
            "object_fit": null,
            "object_position": null,
            "order": null,
            "overflow": null,
            "overflow_x": null,
            "overflow_y": null,
            "padding": null,
            "right": null,
            "top": null,
            "visibility": null,
            "width": null
          }
        },
        "891584e05ed4409291f46a8682602361": {
          "model_module": "@jupyter-widgets/controls",
          "model_name": "ProgressStyleModel",
          "model_module_version": "1.5.0",
          "state": {
            "_model_module": "@jupyter-widgets/controls",
            "_model_module_version": "1.5.0",
            "_model_name": "ProgressStyleModel",
            "_view_count": null,
            "_view_module": "@jupyter-widgets/base",
            "_view_module_version": "1.2.0",
            "_view_name": "StyleView",
            "bar_color": null,
            "description_width": ""
          }
        },
        "d8804fd386a24c2daf5be288308bca8f": {
          "model_module": "@jupyter-widgets/base",
          "model_name": "LayoutModel",
          "model_module_version": "1.2.0",
          "state": {
            "_model_module": "@jupyter-widgets/base",
            "_model_module_version": "1.2.0",
            "_model_name": "LayoutModel",
            "_view_count": null,
            "_view_module": "@jupyter-widgets/base",
            "_view_module_version": "1.2.0",
            "_view_name": "LayoutView",
            "align_content": null,
            "align_items": null,
            "align_self": null,
            "border": null,
            "bottom": null,
            "display": null,
            "flex": null,
            "flex_flow": null,
            "grid_area": null,
            "grid_auto_columns": null,
            "grid_auto_flow": null,
            "grid_auto_rows": null,
            "grid_column": null,
            "grid_gap": null,
            "grid_row": null,
            "grid_template_areas": null,
            "grid_template_columns": null,
            "grid_template_rows": null,
            "height": null,
            "justify_content": null,
            "justify_items": null,
            "left": null,
            "margin": null,
            "max_height": null,
            "max_width": null,
            "min_height": null,
            "min_width": null,
            "object_fit": null,
            "object_position": null,
            "order": null,
            "overflow": null,
            "overflow_x": null,
            "overflow_y": null,
            "padding": null,
            "right": null,
            "top": null,
            "visibility": null,
            "width": null
          }
        },
        "267b05f6f76a4ebc80d09bc378d86948": {
          "model_module": "@jupyter-widgets/controls",
          "model_name": "DescriptionStyleModel",
          "model_module_version": "1.5.0",
          "state": {
            "_model_module": "@jupyter-widgets/controls",
            "_model_module_version": "1.5.0",
            "_model_name": "DescriptionStyleModel",
            "_view_count": null,
            "_view_module": "@jupyter-widgets/base",
            "_view_module_version": "1.2.0",
            "_view_name": "StyleView",
            "description_width": ""
          }
        },
        "bc5cc5af52004037a38957c7bbe4376d": {
          "model_module": "@jupyter-widgets/controls",
          "model_name": "HBoxModel",
          "model_module_version": "1.5.0",
          "state": {
            "_dom_classes": [],
            "_model_module": "@jupyter-widgets/controls",
            "_model_module_version": "1.5.0",
            "_model_name": "HBoxModel",
            "_view_count": null,
            "_view_module": "@jupyter-widgets/controls",
            "_view_module_version": "1.5.0",
            "_view_name": "HBoxView",
            "box_style": "",
            "children": [
              "IPY_MODEL_fd162e07f4c442859d3339b64314d9eb",
              "IPY_MODEL_afc7230d51d8418eb5b9c61507399b31",
              "IPY_MODEL_c8cd9c83e57c4a9088b288915f8c65f5"
            ],
            "layout": "IPY_MODEL_c221f0cfe3a344f69164c785f9cd9b75"
          }
        },
        "fd162e07f4c442859d3339b64314d9eb": {
          "model_module": "@jupyter-widgets/controls",
          "model_name": "HTMLModel",
          "model_module_version": "1.5.0",
          "state": {
            "_dom_classes": [],
            "_model_module": "@jupyter-widgets/controls",
            "_model_module_version": "1.5.0",
            "_model_name": "HTMLModel",
            "_view_count": null,
            "_view_module": "@jupyter-widgets/controls",
            "_view_module_version": "1.5.0",
            "_view_name": "HTMLView",
            "description": "",
            "description_tooltip": null,
            "layout": "IPY_MODEL_bf11c93adb1f48d683401c2536fd3aea",
            "placeholder": "​",
            "style": "IPY_MODEL_7d430e6676704cf48abdd73597a7554d",
            "value": "100%"
          }
        },
        "afc7230d51d8418eb5b9c61507399b31": {
          "model_module": "@jupyter-widgets/controls",
          "model_name": "FloatProgressModel",
          "model_module_version": "1.5.0",
          "state": {
            "_dom_classes": [],
            "_model_module": "@jupyter-widgets/controls",
            "_model_module_version": "1.5.0",
            "_model_name": "FloatProgressModel",
            "_view_count": null,
            "_view_module": "@jupyter-widgets/controls",
            "_view_module_version": "1.5.0",
            "_view_name": "ProgressView",
            "bar_style": "success",
            "description": "",
            "description_tooltip": null,
            "layout": "IPY_MODEL_f158da09558047859b7147fe09eaf5f9",
            "max": 1,
            "min": 0,
            "orientation": "horizontal",
            "style": "IPY_MODEL_8f94d3d065dc4960976b24bf233845dd",
            "value": 1
          }
        },
        "c8cd9c83e57c4a9088b288915f8c65f5": {
          "model_module": "@jupyter-widgets/controls",
          "model_name": "HTMLModel",
          "model_module_version": "1.5.0",
          "state": {
            "_dom_classes": [],
            "_model_module": "@jupyter-widgets/controls",
            "_model_module_version": "1.5.0",
            "_model_name": "HTMLModel",
            "_view_count": null,
            "_view_module": "@jupyter-widgets/controls",
            "_view_module_version": "1.5.0",
            "_view_name": "HTMLView",
            "description": "",
            "description_tooltip": null,
            "layout": "IPY_MODEL_4319830329b54869834d7541aadcb292",
            "placeholder": "​",
            "style": "IPY_MODEL_f45da98bd11c4611b4c17715e2d2d9fa",
            "value": " 1/1 [00:00&lt;00:00, 57.62it/s]"
          }
        },
        "c221f0cfe3a344f69164c785f9cd9b75": {
          "model_module": "@jupyter-widgets/base",
          "model_name": "LayoutModel",
          "model_module_version": "1.2.0",
          "state": {
            "_model_module": "@jupyter-widgets/base",
            "_model_module_version": "1.2.0",
            "_model_name": "LayoutModel",
            "_view_count": null,
            "_view_module": "@jupyter-widgets/base",
            "_view_module_version": "1.2.0",
            "_view_name": "LayoutView",
            "align_content": null,
            "align_items": null,
            "align_self": null,
            "border": null,
            "bottom": null,
            "display": null,
            "flex": null,
            "flex_flow": null,
            "grid_area": null,
            "grid_auto_columns": null,
            "grid_auto_flow": null,
            "grid_auto_rows": null,
            "grid_column": null,
            "grid_gap": null,
            "grid_row": null,
            "grid_template_areas": null,
            "grid_template_columns": null,
            "grid_template_rows": null,
            "height": null,
            "justify_content": null,
            "justify_items": null,
            "left": null,
            "margin": null,
            "max_height": null,
            "max_width": null,
            "min_height": null,
            "min_width": null,
            "object_fit": null,
            "object_position": null,
            "order": null,
            "overflow": null,
            "overflow_x": null,
            "overflow_y": null,
            "padding": null,
            "right": null,
            "top": null,
            "visibility": null,
            "width": null
          }
        },
        "bf11c93adb1f48d683401c2536fd3aea": {
          "model_module": "@jupyter-widgets/base",
          "model_name": "LayoutModel",
          "model_module_version": "1.2.0",
          "state": {
            "_model_module": "@jupyter-widgets/base",
            "_model_module_version": "1.2.0",
            "_model_name": "LayoutModel",
            "_view_count": null,
            "_view_module": "@jupyter-widgets/base",
            "_view_module_version": "1.2.0",
            "_view_name": "LayoutView",
            "align_content": null,
            "align_items": null,
            "align_self": null,
            "border": null,
            "bottom": null,
            "display": null,
            "flex": null,
            "flex_flow": null,
            "grid_area": null,
            "grid_auto_columns": null,
            "grid_auto_flow": null,
            "grid_auto_rows": null,
            "grid_column": null,
            "grid_gap": null,
            "grid_row": null,
            "grid_template_areas": null,
            "grid_template_columns": null,
            "grid_template_rows": null,
            "height": null,
            "justify_content": null,
            "justify_items": null,
            "left": null,
            "margin": null,
            "max_height": null,
            "max_width": null,
            "min_height": null,
            "min_width": null,
            "object_fit": null,
            "object_position": null,
            "order": null,
            "overflow": null,
            "overflow_x": null,
            "overflow_y": null,
            "padding": null,
            "right": null,
            "top": null,
            "visibility": null,
            "width": null
          }
        },
        "7d430e6676704cf48abdd73597a7554d": {
          "model_module": "@jupyter-widgets/controls",
          "model_name": "DescriptionStyleModel",
          "model_module_version": "1.5.0",
          "state": {
            "_model_module": "@jupyter-widgets/controls",
            "_model_module_version": "1.5.0",
            "_model_name": "DescriptionStyleModel",
            "_view_count": null,
            "_view_module": "@jupyter-widgets/base",
            "_view_module_version": "1.2.0",
            "_view_name": "StyleView",
            "description_width": ""
          }
        },
        "f158da09558047859b7147fe09eaf5f9": {
          "model_module": "@jupyter-widgets/base",
          "model_name": "LayoutModel",
          "model_module_version": "1.2.0",
          "state": {
            "_model_module": "@jupyter-widgets/base",
            "_model_module_version": "1.2.0",
            "_model_name": "LayoutModel",
            "_view_count": null,
            "_view_module": "@jupyter-widgets/base",
            "_view_module_version": "1.2.0",
            "_view_name": "LayoutView",
            "align_content": null,
            "align_items": null,
            "align_self": null,
            "border": null,
            "bottom": null,
            "display": null,
            "flex": null,
            "flex_flow": null,
            "grid_area": null,
            "grid_auto_columns": null,
            "grid_auto_flow": null,
            "grid_auto_rows": null,
            "grid_column": null,
            "grid_gap": null,
            "grid_row": null,
            "grid_template_areas": null,
            "grid_template_columns": null,
            "grid_template_rows": null,
            "height": null,
            "justify_content": null,
            "justify_items": null,
            "left": null,
            "margin": null,
            "max_height": null,
            "max_width": null,
            "min_height": null,
            "min_width": null,
            "object_fit": null,
            "object_position": null,
            "order": null,
            "overflow": null,
            "overflow_x": null,
            "overflow_y": null,
            "padding": null,
            "right": null,
            "top": null,
            "visibility": null,
            "width": null
          }
        },
        "8f94d3d065dc4960976b24bf233845dd": {
          "model_module": "@jupyter-widgets/controls",
          "model_name": "ProgressStyleModel",
          "model_module_version": "1.5.0",
          "state": {
            "_model_module": "@jupyter-widgets/controls",
            "_model_module_version": "1.5.0",
            "_model_name": "ProgressStyleModel",
            "_view_count": null,
            "_view_module": "@jupyter-widgets/base",
            "_view_module_version": "1.2.0",
            "_view_name": "StyleView",
            "bar_color": null,
            "description_width": ""
          }
        },
        "4319830329b54869834d7541aadcb292": {
          "model_module": "@jupyter-widgets/base",
          "model_name": "LayoutModel",
          "model_module_version": "1.2.0",
          "state": {
            "_model_module": "@jupyter-widgets/base",
            "_model_module_version": "1.2.0",
            "_model_name": "LayoutModel",
            "_view_count": null,
            "_view_module": "@jupyter-widgets/base",
            "_view_module_version": "1.2.0",
            "_view_name": "LayoutView",
            "align_content": null,
            "align_items": null,
            "align_self": null,
            "border": null,
            "bottom": null,
            "display": null,
            "flex": null,
            "flex_flow": null,
            "grid_area": null,
            "grid_auto_columns": null,
            "grid_auto_flow": null,
            "grid_auto_rows": null,
            "grid_column": null,
            "grid_gap": null,
            "grid_row": null,
            "grid_template_areas": null,
            "grid_template_columns": null,
            "grid_template_rows": null,
            "height": null,
            "justify_content": null,
            "justify_items": null,
            "left": null,
            "margin": null,
            "max_height": null,
            "max_width": null,
            "min_height": null,
            "min_width": null,
            "object_fit": null,
            "object_position": null,
            "order": null,
            "overflow": null,
            "overflow_x": null,
            "overflow_y": null,
            "padding": null,
            "right": null,
            "top": null,
            "visibility": null,
            "width": null
          }
        },
        "f45da98bd11c4611b4c17715e2d2d9fa": {
          "model_module": "@jupyter-widgets/controls",
          "model_name": "DescriptionStyleModel",
          "model_module_version": "1.5.0",
          "state": {
            "_model_module": "@jupyter-widgets/controls",
            "_model_module_version": "1.5.0",
            "_model_name": "DescriptionStyleModel",
            "_view_count": null,
            "_view_module": "@jupyter-widgets/base",
            "_view_module_version": "1.2.0",
            "_view_name": "StyleView",
            "description_width": ""
          }
        },
        "bd570c5749544c8f9c04e132298be9ae": {
          "model_module": "@jupyter-widgets/controls",
          "model_name": "HBoxModel",
          "model_module_version": "1.5.0",
          "state": {
            "_dom_classes": [],
            "_model_module": "@jupyter-widgets/controls",
            "_model_module_version": "1.5.0",
            "_model_name": "HBoxModel",
            "_view_count": null,
            "_view_module": "@jupyter-widgets/controls",
            "_view_module_version": "1.5.0",
            "_view_name": "HBoxView",
            "box_style": "",
            "children": [
              "IPY_MODEL_a7dceea250df496dbcbddf25377ae953",
              "IPY_MODEL_122d8f70ef5549f4a8b59b6d821cc09f",
              "IPY_MODEL_030ce1aa5eb942b69462b49255d896d7"
            ],
            "layout": "IPY_MODEL_ceaeac1fe0394cd7873e2bcc66c7adba"
          }
        },
        "a7dceea250df496dbcbddf25377ae953": {
          "model_module": "@jupyter-widgets/controls",
          "model_name": "HTMLModel",
          "model_module_version": "1.5.0",
          "state": {
            "_dom_classes": [],
            "_model_module": "@jupyter-widgets/controls",
            "_model_module_version": "1.5.0",
            "_model_name": "HTMLModel",
            "_view_count": null,
            "_view_module": "@jupyter-widgets/controls",
            "_view_module_version": "1.5.0",
            "_view_name": "HTMLView",
            "description": "",
            "description_tooltip": null,
            "layout": "IPY_MODEL_215d29c7d75448b293ad490fd5ef3bff",
            "placeholder": "​",
            "style": "IPY_MODEL_5a24460cd06145e9a6931e5043ee9885",
            "value": "100%"
          }
        },
        "122d8f70ef5549f4a8b59b6d821cc09f": {
          "model_module": "@jupyter-widgets/controls",
          "model_name": "FloatProgressModel",
          "model_module_version": "1.5.0",
          "state": {
            "_dom_classes": [],
            "_model_module": "@jupyter-widgets/controls",
            "_model_module_version": "1.5.0",
            "_model_name": "FloatProgressModel",
            "_view_count": null,
            "_view_module": "@jupyter-widgets/controls",
            "_view_module_version": "1.5.0",
            "_view_name": "ProgressView",
            "bar_style": "success",
            "description": "",
            "description_tooltip": null,
            "layout": "IPY_MODEL_d09e8db88039441f998e0d82121b9038",
            "max": 1,
            "min": 0,
            "orientation": "horizontal",
            "style": "IPY_MODEL_e1c5c3ec6e3c49a299ce328b0396f7d4",
            "value": 1
          }
        },
        "030ce1aa5eb942b69462b49255d896d7": {
          "model_module": "@jupyter-widgets/controls",
          "model_name": "HTMLModel",
          "model_module_version": "1.5.0",
          "state": {
            "_dom_classes": [],
            "_model_module": "@jupyter-widgets/controls",
            "_model_module_version": "1.5.0",
            "_model_name": "HTMLModel",
            "_view_count": null,
            "_view_module": "@jupyter-widgets/controls",
            "_view_module_version": "1.5.0",
            "_view_name": "HTMLView",
            "description": "",
            "description_tooltip": null,
            "layout": "IPY_MODEL_a4477a2cbb314ff39043abda019531c3",
            "placeholder": "​",
            "style": "IPY_MODEL_fbdc361dbb8b41a5bad63e1f22c0761b",
            "value": " 1/1 [00:00&lt;00:00, 32.77it/s]"
          }
        },
        "ceaeac1fe0394cd7873e2bcc66c7adba": {
          "model_module": "@jupyter-widgets/base",
          "model_name": "LayoutModel",
          "model_module_version": "1.2.0",
          "state": {
            "_model_module": "@jupyter-widgets/base",
            "_model_module_version": "1.2.0",
            "_model_name": "LayoutModel",
            "_view_count": null,
            "_view_module": "@jupyter-widgets/base",
            "_view_module_version": "1.2.0",
            "_view_name": "LayoutView",
            "align_content": null,
            "align_items": null,
            "align_self": null,
            "border": null,
            "bottom": null,
            "display": null,
            "flex": null,
            "flex_flow": null,
            "grid_area": null,
            "grid_auto_columns": null,
            "grid_auto_flow": null,
            "grid_auto_rows": null,
            "grid_column": null,
            "grid_gap": null,
            "grid_row": null,
            "grid_template_areas": null,
            "grid_template_columns": null,
            "grid_template_rows": null,
            "height": null,
            "justify_content": null,
            "justify_items": null,
            "left": null,
            "margin": null,
            "max_height": null,
            "max_width": null,
            "min_height": null,
            "min_width": null,
            "object_fit": null,
            "object_position": null,
            "order": null,
            "overflow": null,
            "overflow_x": null,
            "overflow_y": null,
            "padding": null,
            "right": null,
            "top": null,
            "visibility": null,
            "width": null
          }
        },
        "215d29c7d75448b293ad490fd5ef3bff": {
          "model_module": "@jupyter-widgets/base",
          "model_name": "LayoutModel",
          "model_module_version": "1.2.0",
          "state": {
            "_model_module": "@jupyter-widgets/base",
            "_model_module_version": "1.2.0",
            "_model_name": "LayoutModel",
            "_view_count": null,
            "_view_module": "@jupyter-widgets/base",
            "_view_module_version": "1.2.0",
            "_view_name": "LayoutView",
            "align_content": null,
            "align_items": null,
            "align_self": null,
            "border": null,
            "bottom": null,
            "display": null,
            "flex": null,
            "flex_flow": null,
            "grid_area": null,
            "grid_auto_columns": null,
            "grid_auto_flow": null,
            "grid_auto_rows": null,
            "grid_column": null,
            "grid_gap": null,
            "grid_row": null,
            "grid_template_areas": null,
            "grid_template_columns": null,
            "grid_template_rows": null,
            "height": null,
            "justify_content": null,
            "justify_items": null,
            "left": null,
            "margin": null,
            "max_height": null,
            "max_width": null,
            "min_height": null,
            "min_width": null,
            "object_fit": null,
            "object_position": null,
            "order": null,
            "overflow": null,
            "overflow_x": null,
            "overflow_y": null,
            "padding": null,
            "right": null,
            "top": null,
            "visibility": null,
            "width": null
          }
        },
        "5a24460cd06145e9a6931e5043ee9885": {
          "model_module": "@jupyter-widgets/controls",
          "model_name": "DescriptionStyleModel",
          "model_module_version": "1.5.0",
          "state": {
            "_model_module": "@jupyter-widgets/controls",
            "_model_module_version": "1.5.0",
            "_model_name": "DescriptionStyleModel",
            "_view_count": null,
            "_view_module": "@jupyter-widgets/base",
            "_view_module_version": "1.2.0",
            "_view_name": "StyleView",
            "description_width": ""
          }
        },
        "d09e8db88039441f998e0d82121b9038": {
          "model_module": "@jupyter-widgets/base",
          "model_name": "LayoutModel",
          "model_module_version": "1.2.0",
          "state": {
            "_model_module": "@jupyter-widgets/base",
            "_model_module_version": "1.2.0",
            "_model_name": "LayoutModel",
            "_view_count": null,
            "_view_module": "@jupyter-widgets/base",
            "_view_module_version": "1.2.0",
            "_view_name": "LayoutView",
            "align_content": null,
            "align_items": null,
            "align_self": null,
            "border": null,
            "bottom": null,
            "display": null,
            "flex": null,
            "flex_flow": null,
            "grid_area": null,
            "grid_auto_columns": null,
            "grid_auto_flow": null,
            "grid_auto_rows": null,
            "grid_column": null,
            "grid_gap": null,
            "grid_row": null,
            "grid_template_areas": null,
            "grid_template_columns": null,
            "grid_template_rows": null,
            "height": null,
            "justify_content": null,
            "justify_items": null,
            "left": null,
            "margin": null,
            "max_height": null,
            "max_width": null,
            "min_height": null,
            "min_width": null,
            "object_fit": null,
            "object_position": null,
            "order": null,
            "overflow": null,
            "overflow_x": null,
            "overflow_y": null,
            "padding": null,
            "right": null,
            "top": null,
            "visibility": null,
            "width": null
          }
        },
        "e1c5c3ec6e3c49a299ce328b0396f7d4": {
          "model_module": "@jupyter-widgets/controls",
          "model_name": "ProgressStyleModel",
          "model_module_version": "1.5.0",
          "state": {
            "_model_module": "@jupyter-widgets/controls",
            "_model_module_version": "1.5.0",
            "_model_name": "ProgressStyleModel",
            "_view_count": null,
            "_view_module": "@jupyter-widgets/base",
            "_view_module_version": "1.2.0",
            "_view_name": "StyleView",
            "bar_color": null,
            "description_width": ""
          }
        },
        "a4477a2cbb314ff39043abda019531c3": {
          "model_module": "@jupyter-widgets/base",
          "model_name": "LayoutModel",
          "model_module_version": "1.2.0",
          "state": {
            "_model_module": "@jupyter-widgets/base",
            "_model_module_version": "1.2.0",
            "_model_name": "LayoutModel",
            "_view_count": null,
            "_view_module": "@jupyter-widgets/base",
            "_view_module_version": "1.2.0",
            "_view_name": "LayoutView",
            "align_content": null,
            "align_items": null,
            "align_self": null,
            "border": null,
            "bottom": null,
            "display": null,
            "flex": null,
            "flex_flow": null,
            "grid_area": null,
            "grid_auto_columns": null,
            "grid_auto_flow": null,
            "grid_auto_rows": null,
            "grid_column": null,
            "grid_gap": null,
            "grid_row": null,
            "grid_template_areas": null,
            "grid_template_columns": null,
            "grid_template_rows": null,
            "height": null,
            "justify_content": null,
            "justify_items": null,
            "left": null,
            "margin": null,
            "max_height": null,
            "max_width": null,
            "min_height": null,
            "min_width": null,
            "object_fit": null,
            "object_position": null,
            "order": null,
            "overflow": null,
            "overflow_x": null,
            "overflow_y": null,
            "padding": null,
            "right": null,
            "top": null,
            "visibility": null,
            "width": null
          }
        },
        "fbdc361dbb8b41a5bad63e1f22c0761b": {
          "model_module": "@jupyter-widgets/controls",
          "model_name": "DescriptionStyleModel",
          "model_module_version": "1.5.0",
          "state": {
            "_model_module": "@jupyter-widgets/controls",
            "_model_module_version": "1.5.0",
            "_model_name": "DescriptionStyleModel",
            "_view_count": null,
            "_view_module": "@jupyter-widgets/base",
            "_view_module_version": "1.2.0",
            "_view_name": "StyleView",
            "description_width": ""
          }
        },
        "c495cee415504d6c805fd8517aec1b22": {
          "model_module": "@jupyter-widgets/controls",
          "model_name": "HBoxModel",
          "model_module_version": "1.5.0",
          "state": {
            "_dom_classes": [],
            "_model_module": "@jupyter-widgets/controls",
            "_model_module_version": "1.5.0",
            "_model_name": "HBoxModel",
            "_view_count": null,
            "_view_module": "@jupyter-widgets/controls",
            "_view_module_version": "1.5.0",
            "_view_name": "HBoxView",
            "box_style": "",
            "children": [
              "IPY_MODEL_274c25d29af749a99b57978847467ab9",
              "IPY_MODEL_85820fc5abd14aa792ad111231827b6f",
              "IPY_MODEL_640dbb13c3574f179e0bba2b8f9d62ce"
            ],
            "layout": "IPY_MODEL_f5601b8fb60d421bb4819d39cd69f422"
          }
        },
        "274c25d29af749a99b57978847467ab9": {
          "model_module": "@jupyter-widgets/controls",
          "model_name": "HTMLModel",
          "model_module_version": "1.5.0",
          "state": {
            "_dom_classes": [],
            "_model_module": "@jupyter-widgets/controls",
            "_model_module_version": "1.5.0",
            "_model_name": "HTMLModel",
            "_view_count": null,
            "_view_module": "@jupyter-widgets/controls",
            "_view_module_version": "1.5.0",
            "_view_name": "HTMLView",
            "description": "",
            "description_tooltip": null,
            "layout": "IPY_MODEL_294b465efc184846b2928ec6a36083ab",
            "placeholder": "​",
            "style": "IPY_MODEL_fe828881a1cc476aa5bc1c7024530a54",
            "value": "100%"
          }
        },
        "85820fc5abd14aa792ad111231827b6f": {
          "model_module": "@jupyter-widgets/controls",
          "model_name": "FloatProgressModel",
          "model_module_version": "1.5.0",
          "state": {
            "_dom_classes": [],
            "_model_module": "@jupyter-widgets/controls",
            "_model_module_version": "1.5.0",
            "_model_name": "FloatProgressModel",
            "_view_count": null,
            "_view_module": "@jupyter-widgets/controls",
            "_view_module_version": "1.5.0",
            "_view_name": "ProgressView",
            "bar_style": "success",
            "description": "",
            "description_tooltip": null,
            "layout": "IPY_MODEL_c350054a70334c6bb430e5e3b85fe5b2",
            "max": 1,
            "min": 0,
            "orientation": "horizontal",
            "style": "IPY_MODEL_5ab0f7d8cc8f4e329620308eceb01500",
            "value": 1
          }
        },
        "640dbb13c3574f179e0bba2b8f9d62ce": {
          "model_module": "@jupyter-widgets/controls",
          "model_name": "HTMLModel",
          "model_module_version": "1.5.0",
          "state": {
            "_dom_classes": [],
            "_model_module": "@jupyter-widgets/controls",
            "_model_module_version": "1.5.0",
            "_model_name": "HTMLModel",
            "_view_count": null,
            "_view_module": "@jupyter-widgets/controls",
            "_view_module_version": "1.5.0",
            "_view_name": "HTMLView",
            "description": "",
            "description_tooltip": null,
            "layout": "IPY_MODEL_3a129a769ae14f809f6d8e17e35803d6",
            "placeholder": "​",
            "style": "IPY_MODEL_8d92905296644aa3841c3220ffd81228",
            "value": " 1/1 [00:00&lt;00:00, 49.75it/s]"
          }
        },
        "f5601b8fb60d421bb4819d39cd69f422": {
          "model_module": "@jupyter-widgets/base",
          "model_name": "LayoutModel",
          "model_module_version": "1.2.0",
          "state": {
            "_model_module": "@jupyter-widgets/base",
            "_model_module_version": "1.2.0",
            "_model_name": "LayoutModel",
            "_view_count": null,
            "_view_module": "@jupyter-widgets/base",
            "_view_module_version": "1.2.0",
            "_view_name": "LayoutView",
            "align_content": null,
            "align_items": null,
            "align_self": null,
            "border": null,
            "bottom": null,
            "display": null,
            "flex": null,
            "flex_flow": null,
            "grid_area": null,
            "grid_auto_columns": null,
            "grid_auto_flow": null,
            "grid_auto_rows": null,
            "grid_column": null,
            "grid_gap": null,
            "grid_row": null,
            "grid_template_areas": null,
            "grid_template_columns": null,
            "grid_template_rows": null,
            "height": null,
            "justify_content": null,
            "justify_items": null,
            "left": null,
            "margin": null,
            "max_height": null,
            "max_width": null,
            "min_height": null,
            "min_width": null,
            "object_fit": null,
            "object_position": null,
            "order": null,
            "overflow": null,
            "overflow_x": null,
            "overflow_y": null,
            "padding": null,
            "right": null,
            "top": null,
            "visibility": null,
            "width": null
          }
        },
        "294b465efc184846b2928ec6a36083ab": {
          "model_module": "@jupyter-widgets/base",
          "model_name": "LayoutModel",
          "model_module_version": "1.2.0",
          "state": {
            "_model_module": "@jupyter-widgets/base",
            "_model_module_version": "1.2.0",
            "_model_name": "LayoutModel",
            "_view_count": null,
            "_view_module": "@jupyter-widgets/base",
            "_view_module_version": "1.2.0",
            "_view_name": "LayoutView",
            "align_content": null,
            "align_items": null,
            "align_self": null,
            "border": null,
            "bottom": null,
            "display": null,
            "flex": null,
            "flex_flow": null,
            "grid_area": null,
            "grid_auto_columns": null,
            "grid_auto_flow": null,
            "grid_auto_rows": null,
            "grid_column": null,
            "grid_gap": null,
            "grid_row": null,
            "grid_template_areas": null,
            "grid_template_columns": null,
            "grid_template_rows": null,
            "height": null,
            "justify_content": null,
            "justify_items": null,
            "left": null,
            "margin": null,
            "max_height": null,
            "max_width": null,
            "min_height": null,
            "min_width": null,
            "object_fit": null,
            "object_position": null,
            "order": null,
            "overflow": null,
            "overflow_x": null,
            "overflow_y": null,
            "padding": null,
            "right": null,
            "top": null,
            "visibility": null,
            "width": null
          }
        },
        "fe828881a1cc476aa5bc1c7024530a54": {
          "model_module": "@jupyter-widgets/controls",
          "model_name": "DescriptionStyleModel",
          "model_module_version": "1.5.0",
          "state": {
            "_model_module": "@jupyter-widgets/controls",
            "_model_module_version": "1.5.0",
            "_model_name": "DescriptionStyleModel",
            "_view_count": null,
            "_view_module": "@jupyter-widgets/base",
            "_view_module_version": "1.2.0",
            "_view_name": "StyleView",
            "description_width": ""
          }
        },
        "c350054a70334c6bb430e5e3b85fe5b2": {
          "model_module": "@jupyter-widgets/base",
          "model_name": "LayoutModel",
          "model_module_version": "1.2.0",
          "state": {
            "_model_module": "@jupyter-widgets/base",
            "_model_module_version": "1.2.0",
            "_model_name": "LayoutModel",
            "_view_count": null,
            "_view_module": "@jupyter-widgets/base",
            "_view_module_version": "1.2.0",
            "_view_name": "LayoutView",
            "align_content": null,
            "align_items": null,
            "align_self": null,
            "border": null,
            "bottom": null,
            "display": null,
            "flex": null,
            "flex_flow": null,
            "grid_area": null,
            "grid_auto_columns": null,
            "grid_auto_flow": null,
            "grid_auto_rows": null,
            "grid_column": null,
            "grid_gap": null,
            "grid_row": null,
            "grid_template_areas": null,
            "grid_template_columns": null,
            "grid_template_rows": null,
            "height": null,
            "justify_content": null,
            "justify_items": null,
            "left": null,
            "margin": null,
            "max_height": null,
            "max_width": null,
            "min_height": null,
            "min_width": null,
            "object_fit": null,
            "object_position": null,
            "order": null,
            "overflow": null,
            "overflow_x": null,
            "overflow_y": null,
            "padding": null,
            "right": null,
            "top": null,
            "visibility": null,
            "width": null
          }
        },
        "5ab0f7d8cc8f4e329620308eceb01500": {
          "model_module": "@jupyter-widgets/controls",
          "model_name": "ProgressStyleModel",
          "model_module_version": "1.5.0",
          "state": {
            "_model_module": "@jupyter-widgets/controls",
            "_model_module_version": "1.5.0",
            "_model_name": "ProgressStyleModel",
            "_view_count": null,
            "_view_module": "@jupyter-widgets/base",
            "_view_module_version": "1.2.0",
            "_view_name": "StyleView",
            "bar_color": null,
            "description_width": ""
          }
        },
        "3a129a769ae14f809f6d8e17e35803d6": {
          "model_module": "@jupyter-widgets/base",
          "model_name": "LayoutModel",
          "model_module_version": "1.2.0",
          "state": {
            "_model_module": "@jupyter-widgets/base",
            "_model_module_version": "1.2.0",
            "_model_name": "LayoutModel",
            "_view_count": null,
            "_view_module": "@jupyter-widgets/base",
            "_view_module_version": "1.2.0",
            "_view_name": "LayoutView",
            "align_content": null,
            "align_items": null,
            "align_self": null,
            "border": null,
            "bottom": null,
            "display": null,
            "flex": null,
            "flex_flow": null,
            "grid_area": null,
            "grid_auto_columns": null,
            "grid_auto_flow": null,
            "grid_auto_rows": null,
            "grid_column": null,
            "grid_gap": null,
            "grid_row": null,
            "grid_template_areas": null,
            "grid_template_columns": null,
            "grid_template_rows": null,
            "height": null,
            "justify_content": null,
            "justify_items": null,
            "left": null,
            "margin": null,
            "max_height": null,
            "max_width": null,
            "min_height": null,
            "min_width": null,
            "object_fit": null,
            "object_position": null,
            "order": null,
            "overflow": null,
            "overflow_x": null,
            "overflow_y": null,
            "padding": null,
            "right": null,
            "top": null,
            "visibility": null,
            "width": null
          }
        },
        "8d92905296644aa3841c3220ffd81228": {
          "model_module": "@jupyter-widgets/controls",
          "model_name": "DescriptionStyleModel",
          "model_module_version": "1.5.0",
          "state": {
            "_model_module": "@jupyter-widgets/controls",
            "_model_module_version": "1.5.0",
            "_model_name": "DescriptionStyleModel",
            "_view_count": null,
            "_view_module": "@jupyter-widgets/base",
            "_view_module_version": "1.2.0",
            "_view_name": "StyleView",
            "description_width": ""
          }
        },
        "8000287f8cc84a43964d0466ff8157ad": {
          "model_module": "@jupyter-widgets/controls",
          "model_name": "HBoxModel",
          "model_module_version": "1.5.0",
          "state": {
            "_dom_classes": [],
            "_model_module": "@jupyter-widgets/controls",
            "_model_module_version": "1.5.0",
            "_model_name": "HBoxModel",
            "_view_count": null,
            "_view_module": "@jupyter-widgets/controls",
            "_view_module_version": "1.5.0",
            "_view_name": "HBoxView",
            "box_style": "",
            "children": [
              "IPY_MODEL_46a714a2acfe4aa681d8823c5360f72a",
              "IPY_MODEL_bb87ef9f65c44791a013519551c1f4a7",
              "IPY_MODEL_11576640b4fa4cd2be1a388a3bddc041"
            ],
            "layout": "IPY_MODEL_0991e12b155d45c2b775ca3dc6da042e"
          }
        },
        "46a714a2acfe4aa681d8823c5360f72a": {
          "model_module": "@jupyter-widgets/controls",
          "model_name": "HTMLModel",
          "model_module_version": "1.5.0",
          "state": {
            "_dom_classes": [],
            "_model_module": "@jupyter-widgets/controls",
            "_model_module_version": "1.5.0",
            "_model_name": "HTMLModel",
            "_view_count": null,
            "_view_module": "@jupyter-widgets/controls",
            "_view_module_version": "1.5.0",
            "_view_name": "HTMLView",
            "description": "",
            "description_tooltip": null,
            "layout": "IPY_MODEL_6298f7aa8b6647d5bff87ab72501bea9",
            "placeholder": "​",
            "style": "IPY_MODEL_7aa82d6fce96473e86fa6ce76486cd84",
            "value": "100%"
          }
        },
        "bb87ef9f65c44791a013519551c1f4a7": {
          "model_module": "@jupyter-widgets/controls",
          "model_name": "FloatProgressModel",
          "model_module_version": "1.5.0",
          "state": {
            "_dom_classes": [],
            "_model_module": "@jupyter-widgets/controls",
            "_model_module_version": "1.5.0",
            "_model_name": "FloatProgressModel",
            "_view_count": null,
            "_view_module": "@jupyter-widgets/controls",
            "_view_module_version": "1.5.0",
            "_view_name": "ProgressView",
            "bar_style": "success",
            "description": "",
            "description_tooltip": null,
            "layout": "IPY_MODEL_9fc5a81947694254a637a149ca9f9bdf",
            "max": 1,
            "min": 0,
            "orientation": "horizontal",
            "style": "IPY_MODEL_f3cb8c9a83cc4105870d4fbb287d0d33",
            "value": 1
          }
        },
        "11576640b4fa4cd2be1a388a3bddc041": {
          "model_module": "@jupyter-widgets/controls",
          "model_name": "HTMLModel",
          "model_module_version": "1.5.0",
          "state": {
            "_dom_classes": [],
            "_model_module": "@jupyter-widgets/controls",
            "_model_module_version": "1.5.0",
            "_model_name": "HTMLModel",
            "_view_count": null,
            "_view_module": "@jupyter-widgets/controls",
            "_view_module_version": "1.5.0",
            "_view_name": "HTMLView",
            "description": "",
            "description_tooltip": null,
            "layout": "IPY_MODEL_8b1bf189182748c481b43836c3b7cdbe",
            "placeholder": "​",
            "style": "IPY_MODEL_d38ca94ff4eb42a4b2fc2cf830e07f45",
            "value": " 1/1 [00:00&lt;00:00, 41.62it/s]"
          }
        },
        "0991e12b155d45c2b775ca3dc6da042e": {
          "model_module": "@jupyter-widgets/base",
          "model_name": "LayoutModel",
          "model_module_version": "1.2.0",
          "state": {
            "_model_module": "@jupyter-widgets/base",
            "_model_module_version": "1.2.0",
            "_model_name": "LayoutModel",
            "_view_count": null,
            "_view_module": "@jupyter-widgets/base",
            "_view_module_version": "1.2.0",
            "_view_name": "LayoutView",
            "align_content": null,
            "align_items": null,
            "align_self": null,
            "border": null,
            "bottom": null,
            "display": null,
            "flex": null,
            "flex_flow": null,
            "grid_area": null,
            "grid_auto_columns": null,
            "grid_auto_flow": null,
            "grid_auto_rows": null,
            "grid_column": null,
            "grid_gap": null,
            "grid_row": null,
            "grid_template_areas": null,
            "grid_template_columns": null,
            "grid_template_rows": null,
            "height": null,
            "justify_content": null,
            "justify_items": null,
            "left": null,
            "margin": null,
            "max_height": null,
            "max_width": null,
            "min_height": null,
            "min_width": null,
            "object_fit": null,
            "object_position": null,
            "order": null,
            "overflow": null,
            "overflow_x": null,
            "overflow_y": null,
            "padding": null,
            "right": null,
            "top": null,
            "visibility": null,
            "width": null
          }
        },
        "6298f7aa8b6647d5bff87ab72501bea9": {
          "model_module": "@jupyter-widgets/base",
          "model_name": "LayoutModel",
          "model_module_version": "1.2.0",
          "state": {
            "_model_module": "@jupyter-widgets/base",
            "_model_module_version": "1.2.0",
            "_model_name": "LayoutModel",
            "_view_count": null,
            "_view_module": "@jupyter-widgets/base",
            "_view_module_version": "1.2.0",
            "_view_name": "LayoutView",
            "align_content": null,
            "align_items": null,
            "align_self": null,
            "border": null,
            "bottom": null,
            "display": null,
            "flex": null,
            "flex_flow": null,
            "grid_area": null,
            "grid_auto_columns": null,
            "grid_auto_flow": null,
            "grid_auto_rows": null,
            "grid_column": null,
            "grid_gap": null,
            "grid_row": null,
            "grid_template_areas": null,
            "grid_template_columns": null,
            "grid_template_rows": null,
            "height": null,
            "justify_content": null,
            "justify_items": null,
            "left": null,
            "margin": null,
            "max_height": null,
            "max_width": null,
            "min_height": null,
            "min_width": null,
            "object_fit": null,
            "object_position": null,
            "order": null,
            "overflow": null,
            "overflow_x": null,
            "overflow_y": null,
            "padding": null,
            "right": null,
            "top": null,
            "visibility": null,
            "width": null
          }
        },
        "7aa82d6fce96473e86fa6ce76486cd84": {
          "model_module": "@jupyter-widgets/controls",
          "model_name": "DescriptionStyleModel",
          "model_module_version": "1.5.0",
          "state": {
            "_model_module": "@jupyter-widgets/controls",
            "_model_module_version": "1.5.0",
            "_model_name": "DescriptionStyleModel",
            "_view_count": null,
            "_view_module": "@jupyter-widgets/base",
            "_view_module_version": "1.2.0",
            "_view_name": "StyleView",
            "description_width": ""
          }
        },
        "9fc5a81947694254a637a149ca9f9bdf": {
          "model_module": "@jupyter-widgets/base",
          "model_name": "LayoutModel",
          "model_module_version": "1.2.0",
          "state": {
            "_model_module": "@jupyter-widgets/base",
            "_model_module_version": "1.2.0",
            "_model_name": "LayoutModel",
            "_view_count": null,
            "_view_module": "@jupyter-widgets/base",
            "_view_module_version": "1.2.0",
            "_view_name": "LayoutView",
            "align_content": null,
            "align_items": null,
            "align_self": null,
            "border": null,
            "bottom": null,
            "display": null,
            "flex": null,
            "flex_flow": null,
            "grid_area": null,
            "grid_auto_columns": null,
            "grid_auto_flow": null,
            "grid_auto_rows": null,
            "grid_column": null,
            "grid_gap": null,
            "grid_row": null,
            "grid_template_areas": null,
            "grid_template_columns": null,
            "grid_template_rows": null,
            "height": null,
            "justify_content": null,
            "justify_items": null,
            "left": null,
            "margin": null,
            "max_height": null,
            "max_width": null,
            "min_height": null,
            "min_width": null,
            "object_fit": null,
            "object_position": null,
            "order": null,
            "overflow": null,
            "overflow_x": null,
            "overflow_y": null,
            "padding": null,
            "right": null,
            "top": null,
            "visibility": null,
            "width": null
          }
        },
        "f3cb8c9a83cc4105870d4fbb287d0d33": {
          "model_module": "@jupyter-widgets/controls",
          "model_name": "ProgressStyleModel",
          "model_module_version": "1.5.0",
          "state": {
            "_model_module": "@jupyter-widgets/controls",
            "_model_module_version": "1.5.0",
            "_model_name": "ProgressStyleModel",
            "_view_count": null,
            "_view_module": "@jupyter-widgets/base",
            "_view_module_version": "1.2.0",
            "_view_name": "StyleView",
            "bar_color": null,
            "description_width": ""
          }
        },
        "8b1bf189182748c481b43836c3b7cdbe": {
          "model_module": "@jupyter-widgets/base",
          "model_name": "LayoutModel",
          "model_module_version": "1.2.0",
          "state": {
            "_model_module": "@jupyter-widgets/base",
            "_model_module_version": "1.2.0",
            "_model_name": "LayoutModel",
            "_view_count": null,
            "_view_module": "@jupyter-widgets/base",
            "_view_module_version": "1.2.0",
            "_view_name": "LayoutView",
            "align_content": null,
            "align_items": null,
            "align_self": null,
            "border": null,
            "bottom": null,
            "display": null,
            "flex": null,
            "flex_flow": null,
            "grid_area": null,
            "grid_auto_columns": null,
            "grid_auto_flow": null,
            "grid_auto_rows": null,
            "grid_column": null,
            "grid_gap": null,
            "grid_row": null,
            "grid_template_areas": null,
            "grid_template_columns": null,
            "grid_template_rows": null,
            "height": null,
            "justify_content": null,
            "justify_items": null,
            "left": null,
            "margin": null,
            "max_height": null,
            "max_width": null,
            "min_height": null,
            "min_width": null,
            "object_fit": null,
            "object_position": null,
            "order": null,
            "overflow": null,
            "overflow_x": null,
            "overflow_y": null,
            "padding": null,
            "right": null,
            "top": null,
            "visibility": null,
            "width": null
          }
        },
        "d38ca94ff4eb42a4b2fc2cf830e07f45": {
          "model_module": "@jupyter-widgets/controls",
          "model_name": "DescriptionStyleModel",
          "model_module_version": "1.5.0",
          "state": {
            "_model_module": "@jupyter-widgets/controls",
            "_model_module_version": "1.5.0",
            "_model_name": "DescriptionStyleModel",
            "_view_count": null,
            "_view_module": "@jupyter-widgets/base",
            "_view_module_version": "1.2.0",
            "_view_name": "StyleView",
            "description_width": ""
          }
        },
        "4fbcb6a1ce464216a336da7d9155d64a": {
          "model_module": "@jupyter-widgets/controls",
          "model_name": "HBoxModel",
          "model_module_version": "1.5.0",
          "state": {
            "_dom_classes": [],
            "_model_module": "@jupyter-widgets/controls",
            "_model_module_version": "1.5.0",
            "_model_name": "HBoxModel",
            "_view_count": null,
            "_view_module": "@jupyter-widgets/controls",
            "_view_module_version": "1.5.0",
            "_view_name": "HBoxView",
            "box_style": "",
            "children": [
              "IPY_MODEL_ec6b9bd1ede34c45ab14e15142e8bb30",
              "IPY_MODEL_147016e82a0841e2b50ecdc015085e13",
              "IPY_MODEL_ab286c5d79374600bc98e5b6739b62c4"
            ],
            "layout": "IPY_MODEL_e03e3b8411cc4ab29967933dfbe6864e"
          }
        },
        "ec6b9bd1ede34c45ab14e15142e8bb30": {
          "model_module": "@jupyter-widgets/controls",
          "model_name": "HTMLModel",
          "model_module_version": "1.5.0",
          "state": {
            "_dom_classes": [],
            "_model_module": "@jupyter-widgets/controls",
            "_model_module_version": "1.5.0",
            "_model_name": "HTMLModel",
            "_view_count": null,
            "_view_module": "@jupyter-widgets/controls",
            "_view_module_version": "1.5.0",
            "_view_name": "HTMLView",
            "description": "",
            "description_tooltip": null,
            "layout": "IPY_MODEL_6f2a802bdbc34822a84330fd82fb8363",
            "placeholder": "​",
            "style": "IPY_MODEL_e099dffcab0549f184b21300d9d65389",
            "value": "100%"
          }
        },
        "147016e82a0841e2b50ecdc015085e13": {
          "model_module": "@jupyter-widgets/controls",
          "model_name": "FloatProgressModel",
          "model_module_version": "1.5.0",
          "state": {
            "_dom_classes": [],
            "_model_module": "@jupyter-widgets/controls",
            "_model_module_version": "1.5.0",
            "_model_name": "FloatProgressModel",
            "_view_count": null,
            "_view_module": "@jupyter-widgets/controls",
            "_view_module_version": "1.5.0",
            "_view_name": "ProgressView",
            "bar_style": "success",
            "description": "",
            "description_tooltip": null,
            "layout": "IPY_MODEL_7f06f8e873a544909dc0bc24da8dea0c",
            "max": 1,
            "min": 0,
            "orientation": "horizontal",
            "style": "IPY_MODEL_e6ed7df5a8e54607b49b114b8ddf9ac6",
            "value": 1
          }
        },
        "ab286c5d79374600bc98e5b6739b62c4": {
          "model_module": "@jupyter-widgets/controls",
          "model_name": "HTMLModel",
          "model_module_version": "1.5.0",
          "state": {
            "_dom_classes": [],
            "_model_module": "@jupyter-widgets/controls",
            "_model_module_version": "1.5.0",
            "_model_name": "HTMLModel",
            "_view_count": null,
            "_view_module": "@jupyter-widgets/controls",
            "_view_module_version": "1.5.0",
            "_view_name": "HTMLView",
            "description": "",
            "description_tooltip": null,
            "layout": "IPY_MODEL_447ae6abdf914e1da88ced430a896f7d",
            "placeholder": "​",
            "style": "IPY_MODEL_1ac4bf11f8f24634b7485235fb442664",
            "value": " 1/1 [00:00&lt;00:00, 64.09it/s]"
          }
        },
        "e03e3b8411cc4ab29967933dfbe6864e": {
          "model_module": "@jupyter-widgets/base",
          "model_name": "LayoutModel",
          "model_module_version": "1.2.0",
          "state": {
            "_model_module": "@jupyter-widgets/base",
            "_model_module_version": "1.2.0",
            "_model_name": "LayoutModel",
            "_view_count": null,
            "_view_module": "@jupyter-widgets/base",
            "_view_module_version": "1.2.0",
            "_view_name": "LayoutView",
            "align_content": null,
            "align_items": null,
            "align_self": null,
            "border": null,
            "bottom": null,
            "display": null,
            "flex": null,
            "flex_flow": null,
            "grid_area": null,
            "grid_auto_columns": null,
            "grid_auto_flow": null,
            "grid_auto_rows": null,
            "grid_column": null,
            "grid_gap": null,
            "grid_row": null,
            "grid_template_areas": null,
            "grid_template_columns": null,
            "grid_template_rows": null,
            "height": null,
            "justify_content": null,
            "justify_items": null,
            "left": null,
            "margin": null,
            "max_height": null,
            "max_width": null,
            "min_height": null,
            "min_width": null,
            "object_fit": null,
            "object_position": null,
            "order": null,
            "overflow": null,
            "overflow_x": null,
            "overflow_y": null,
            "padding": null,
            "right": null,
            "top": null,
            "visibility": null,
            "width": null
          }
        },
        "6f2a802bdbc34822a84330fd82fb8363": {
          "model_module": "@jupyter-widgets/base",
          "model_name": "LayoutModel",
          "model_module_version": "1.2.0",
          "state": {
            "_model_module": "@jupyter-widgets/base",
            "_model_module_version": "1.2.0",
            "_model_name": "LayoutModel",
            "_view_count": null,
            "_view_module": "@jupyter-widgets/base",
            "_view_module_version": "1.2.0",
            "_view_name": "LayoutView",
            "align_content": null,
            "align_items": null,
            "align_self": null,
            "border": null,
            "bottom": null,
            "display": null,
            "flex": null,
            "flex_flow": null,
            "grid_area": null,
            "grid_auto_columns": null,
            "grid_auto_flow": null,
            "grid_auto_rows": null,
            "grid_column": null,
            "grid_gap": null,
            "grid_row": null,
            "grid_template_areas": null,
            "grid_template_columns": null,
            "grid_template_rows": null,
            "height": null,
            "justify_content": null,
            "justify_items": null,
            "left": null,
            "margin": null,
            "max_height": null,
            "max_width": null,
            "min_height": null,
            "min_width": null,
            "object_fit": null,
            "object_position": null,
            "order": null,
            "overflow": null,
            "overflow_x": null,
            "overflow_y": null,
            "padding": null,
            "right": null,
            "top": null,
            "visibility": null,
            "width": null
          }
        },
        "e099dffcab0549f184b21300d9d65389": {
          "model_module": "@jupyter-widgets/controls",
          "model_name": "DescriptionStyleModel",
          "model_module_version": "1.5.0",
          "state": {
            "_model_module": "@jupyter-widgets/controls",
            "_model_module_version": "1.5.0",
            "_model_name": "DescriptionStyleModel",
            "_view_count": null,
            "_view_module": "@jupyter-widgets/base",
            "_view_module_version": "1.2.0",
            "_view_name": "StyleView",
            "description_width": ""
          }
        },
        "7f06f8e873a544909dc0bc24da8dea0c": {
          "model_module": "@jupyter-widgets/base",
          "model_name": "LayoutModel",
          "model_module_version": "1.2.0",
          "state": {
            "_model_module": "@jupyter-widgets/base",
            "_model_module_version": "1.2.0",
            "_model_name": "LayoutModel",
            "_view_count": null,
            "_view_module": "@jupyter-widgets/base",
            "_view_module_version": "1.2.0",
            "_view_name": "LayoutView",
            "align_content": null,
            "align_items": null,
            "align_self": null,
            "border": null,
            "bottom": null,
            "display": null,
            "flex": null,
            "flex_flow": null,
            "grid_area": null,
            "grid_auto_columns": null,
            "grid_auto_flow": null,
            "grid_auto_rows": null,
            "grid_column": null,
            "grid_gap": null,
            "grid_row": null,
            "grid_template_areas": null,
            "grid_template_columns": null,
            "grid_template_rows": null,
            "height": null,
            "justify_content": null,
            "justify_items": null,
            "left": null,
            "margin": null,
            "max_height": null,
            "max_width": null,
            "min_height": null,
            "min_width": null,
            "object_fit": null,
            "object_position": null,
            "order": null,
            "overflow": null,
            "overflow_x": null,
            "overflow_y": null,
            "padding": null,
            "right": null,
            "top": null,
            "visibility": null,
            "width": null
          }
        },
        "e6ed7df5a8e54607b49b114b8ddf9ac6": {
          "model_module": "@jupyter-widgets/controls",
          "model_name": "ProgressStyleModel",
          "model_module_version": "1.5.0",
          "state": {
            "_model_module": "@jupyter-widgets/controls",
            "_model_module_version": "1.5.0",
            "_model_name": "ProgressStyleModel",
            "_view_count": null,
            "_view_module": "@jupyter-widgets/base",
            "_view_module_version": "1.2.0",
            "_view_name": "StyleView",
            "bar_color": null,
            "description_width": ""
          }
        },
        "447ae6abdf914e1da88ced430a896f7d": {
          "model_module": "@jupyter-widgets/base",
          "model_name": "LayoutModel",
          "model_module_version": "1.2.0",
          "state": {
            "_model_module": "@jupyter-widgets/base",
            "_model_module_version": "1.2.0",
            "_model_name": "LayoutModel",
            "_view_count": null,
            "_view_module": "@jupyter-widgets/base",
            "_view_module_version": "1.2.0",
            "_view_name": "LayoutView",
            "align_content": null,
            "align_items": null,
            "align_self": null,
            "border": null,
            "bottom": null,
            "display": null,
            "flex": null,
            "flex_flow": null,
            "grid_area": null,
            "grid_auto_columns": null,
            "grid_auto_flow": null,
            "grid_auto_rows": null,
            "grid_column": null,
            "grid_gap": null,
            "grid_row": null,
            "grid_template_areas": null,
            "grid_template_columns": null,
            "grid_template_rows": null,
            "height": null,
            "justify_content": null,
            "justify_items": null,
            "left": null,
            "margin": null,
            "max_height": null,
            "max_width": null,
            "min_height": null,
            "min_width": null,
            "object_fit": null,
            "object_position": null,
            "order": null,
            "overflow": null,
            "overflow_x": null,
            "overflow_y": null,
            "padding": null,
            "right": null,
            "top": null,
            "visibility": null,
            "width": null
          }
        },
        "1ac4bf11f8f24634b7485235fb442664": {
          "model_module": "@jupyter-widgets/controls",
          "model_name": "DescriptionStyleModel",
          "model_module_version": "1.5.0",
          "state": {
            "_model_module": "@jupyter-widgets/controls",
            "_model_module_version": "1.5.0",
            "_model_name": "DescriptionStyleModel",
            "_view_count": null,
            "_view_module": "@jupyter-widgets/base",
            "_view_module_version": "1.2.0",
            "_view_name": "StyleView",
            "description_width": ""
          }
        }
      }
    }
  },
  "nbformat": 4,
  "nbformat_minor": 0
}